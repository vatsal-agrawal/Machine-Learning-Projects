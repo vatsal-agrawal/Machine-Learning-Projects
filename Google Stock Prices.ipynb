{
 "cells": [
  {
   "cell_type": "code",
   "execution_count": 1,
   "metadata": {
    "collapsed": true
   },
   "outputs": [],
   "source": [
    "import pandas as pd\n",
    "import matplotlib.pyplot as plt\n",
    "import seaborn as sns\n",
    "%matplotlib inline"
   ]
  },
  {
   "cell_type": "code",
   "execution_count": 3,
   "metadata": {},
   "outputs": [],
   "source": [
    "data = pd.read_csv(\"/home/vatsal/Downloads/HistoricalQuotes.csv\")"
   ]
  },
  {
   "cell_type": "code",
   "execution_count": 4,
   "metadata": {
    "collapsed": true
   },
   "outputs": [],
   "source": [
    "data = data.iloc[1:,:]"
   ]
  },
  {
   "cell_type": "code",
   "execution_count": 140,
   "metadata": {
    "collapsed": true
   },
   "outputs": [],
   "source": [
    "data = data.sort_values(by='date')"
   ]
  },
  {
   "cell_type": "code",
   "execution_count": 141,
   "metadata": {},
   "outputs": [
    {
     "data": {
      "text/plain": [
       "(1077, 6)"
      ]
     },
     "execution_count": 141,
     "metadata": {},
     "output_type": "execute_result"
    }
   ],
   "source": [
    "data.shape"
   ]
  },
  {
   "cell_type": "code",
   "execution_count": 142,
   "metadata": {
    "collapsed": true
   },
   "outputs": [],
   "source": [
    "data = data['open']   "
   ]
  },
  {
   "cell_type": "code",
   "execution_count": 143,
   "metadata": {
    "collapsed": true
   },
   "outputs": [],
   "source": [
    "train_data = data.iloc[:-30].values\n",
    "test_data = data.iloc[-30:].values"
   ]
  },
  {
   "cell_type": "markdown",
   "metadata": {},
   "source": [
    "# For one timestamp"
   ]
  },
  {
   "cell_type": "code",
   "execution_count": 144,
   "metadata": {
    "collapsed": true
   },
   "outputs": [],
   "source": [
    "train_data = train_data.reshape(len(train_data),1)"
   ]
  },
  {
   "cell_type": "code",
   "execution_count": 145,
   "metadata": {
    "collapsed": true
   },
   "outputs": [],
   "source": [
    "from sklearn.preprocessing import MinMaxScaler"
   ]
  },
  {
   "cell_type": "code",
   "execution_count": 146,
   "metadata": {
    "collapsed": true
   },
   "outputs": [],
   "source": [
    "mms = MinMaxScaler()"
   ]
  },
  {
   "cell_type": "code",
   "execution_count": 147,
   "metadata": {},
   "outputs": [
    {
     "name": "stderr",
     "output_type": "stream",
     "text": [
      "/home/vatsal/anaconda3/lib/python3.6/site-packages/sklearn/utils/validation.py:444: DataConversionWarning: Data with input dtype object was converted to float64 by MinMaxScaler.\n",
      "  warnings.warn(msg, DataConversionWarning)\n"
     ]
    }
   ],
   "source": [
    "train_data = mms.fit_transform(train_data)"
   ]
  },
  {
   "cell_type": "code",
   "execution_count": 148,
   "metadata": {
    "collapsed": true
   },
   "outputs": [],
   "source": [
    "train_data = train_data.reshape(len(train_data),1,1)"
   ]
  },
  {
   "cell_type": "code",
   "execution_count": 149,
   "metadata": {},
   "outputs": [
    {
     "data": {
      "text/plain": [
       "(1047, 1, 1)"
      ]
     },
     "execution_count": 149,
     "metadata": {},
     "output_type": "execute_result"
    }
   ],
   "source": [
    "train_data.shape"
   ]
  },
  {
   "cell_type": "code",
   "execution_count": 150,
   "metadata": {
    "collapsed": true
   },
   "outputs": [],
   "source": [
    "x_train = train_data[0:1046]"
   ]
  },
  {
   "cell_type": "code",
   "execution_count": 151,
   "metadata": {
    "collapsed": true
   },
   "outputs": [],
   "source": [
    "y_train = train_data[1:1047]"
   ]
  },
  {
   "cell_type": "code",
   "execution_count": 152,
   "metadata": {},
   "outputs": [
    {
     "data": {
      "text/plain": [
       "(30,)"
      ]
     },
     "execution_count": 152,
     "metadata": {},
     "output_type": "execute_result"
    }
   ],
   "source": [
    "test_data.shape\n"
   ]
  },
  {
   "cell_type": "code",
   "execution_count": 153,
   "metadata": {
    "collapsed": true
   },
   "outputs": [],
   "source": [
    "y_train = y_train.reshape(len(y_train),1)"
   ]
  },
  {
   "cell_type": "code",
   "execution_count": 154,
   "metadata": {
    "collapsed": true
   },
   "outputs": [],
   "source": [
    "from keras.models import Sequential"
   ]
  },
  {
   "cell_type": "code",
   "execution_count": 155,
   "metadata": {
    "collapsed": true
   },
   "outputs": [],
   "source": [
    "from keras.layers import Dense"
   ]
  },
  {
   "cell_type": "code",
   "execution_count": 156,
   "metadata": {
    "collapsed": true
   },
   "outputs": [],
   "source": [
    "from keras.layers import LSTM"
   ]
  },
  {
   "cell_type": "code",
   "execution_count": 157,
   "metadata": {
    "collapsed": true
   },
   "outputs": [],
   "source": [
    "myreg = Sequential()"
   ]
  },
  {
   "cell_type": "code",
   "execution_count": 158,
   "metadata": {
    "collapsed": true
   },
   "outputs": [],
   "source": [
    "myreg.add(LSTM(units=4,activation='sigmoid',input_shape=(None,1)))"
   ]
  },
  {
   "cell_type": "code",
   "execution_count": 159,
   "metadata": {
    "collapsed": true
   },
   "outputs": [],
   "source": [
    "myreg.add(Dense(units=1))"
   ]
  },
  {
   "cell_type": "code",
   "execution_count": 160,
   "metadata": {
    "collapsed": true
   },
   "outputs": [],
   "source": [
    "myreg.compile(optimizer='adam',loss='mean_squared_error')"
   ]
  },
  {
   "cell_type": "code",
   "execution_count": 161,
   "metadata": {},
   "outputs": [
    {
     "name": "stdout",
     "output_type": "stream",
     "text": [
      "Epoch 1/200\n",
      "1046/1046 [==============================] - 0s - loss: 0.1815     \n",
      "Epoch 2/200\n",
      "1046/1046 [==============================] - 0s - loss: 0.1386     \n",
      "Epoch 3/200\n",
      "1046/1046 [==============================] - 0s - loss: 0.1097     \n",
      "Epoch 4/200\n",
      "1046/1046 [==============================] - 0s - loss: 0.0918     \n",
      "Epoch 5/200\n",
      "1046/1046 [==============================] - 0s - loss: 0.0816     \n",
      "Epoch 6/200\n",
      "1046/1046 [==============================] - 0s - loss: 0.0760     \n",
      "Epoch 7/200\n",
      "1046/1046 [==============================] - 0s - loss: 0.0730     \n",
      "Epoch 8/200\n",
      "1046/1046 [==============================] - 0s - loss: 0.0714     \n",
      "Epoch 9/200\n",
      "1046/1046 [==============================] - 0s - loss: 0.0703     \n",
      "Epoch 10/200\n",
      "1046/1046 [==============================] - 0s - loss: 0.0695     \n",
      "Epoch 11/200\n",
      "1046/1046 [==============================] - 0s - loss: 0.0688     \n",
      "Epoch 12/200\n",
      "1046/1046 [==============================] - 0s - loss: 0.0680     \n",
      "Epoch 13/200\n",
      "1046/1046 [==============================] - 0s - loss: 0.0673     \n",
      "Epoch 14/200\n",
      "1046/1046 [==============================] - 0s - loss: 0.0665     \n",
      "Epoch 15/200\n",
      "1046/1046 [==============================] - 0s - loss: 0.0657     \n",
      "Epoch 16/200\n",
      "1046/1046 [==============================] - 0s - loss: 0.0650     \n",
      "Epoch 17/200\n",
      "1046/1046 [==============================] - 0s - loss: 0.0641     \n",
      "Epoch 18/200\n",
      "1046/1046 [==============================] - 0s - loss: 0.0632     \n",
      "Epoch 19/200\n",
      "1046/1046 [==============================] - 0s - loss: 0.0624     \n",
      "Epoch 20/200\n",
      "1046/1046 [==============================] - 0s - loss: 0.0615     \n",
      "Epoch 21/200\n",
      "1046/1046 [==============================] - 0s - loss: 0.0605     \n",
      "Epoch 22/200\n",
      "1046/1046 [==============================] - 0s - loss: 0.0596     \n",
      "Epoch 23/200\n",
      "1046/1046 [==============================] - 0s - loss: 0.0586     \n",
      "Epoch 24/200\n",
      "1046/1046 [==============================] - 0s - loss: 0.0576     \n",
      "Epoch 25/200\n",
      "1046/1046 [==============================] - 0s - loss: 0.0565     \n",
      "Epoch 26/200\n",
      "1046/1046 [==============================] - 0s - loss: 0.0554     \n",
      "Epoch 27/200\n",
      "1046/1046 [==============================] - 0s - loss: 0.0543     \n",
      "Epoch 28/200\n",
      "1046/1046 [==============================] - 0s - loss: 0.0532     - ETA: 0s - loss: 0.05\n",
      "Epoch 29/200\n",
      "1046/1046 [==============================] - 0s - loss: 0.0520     \n",
      "Epoch 30/200\n",
      "1046/1046 [==============================] - 0s - loss: 0.0508     \n",
      "Epoch 31/200\n",
      "1046/1046 [==============================] - 0s - loss: 0.0495     \n",
      "Epoch 32/200\n",
      "1046/1046 [==============================] - 0s - loss: 0.0482     \n",
      "Epoch 33/200\n",
      "1046/1046 [==============================] - 0s - loss: 0.0469     \n",
      "Epoch 34/200\n",
      "1046/1046 [==============================] - 0s - loss: 0.0455     \n",
      "Epoch 35/200\n",
      "1046/1046 [==============================] - 0s - loss: 0.0441     \n",
      "Epoch 36/200\n",
      "1046/1046 [==============================] - 0s - loss: 0.0427     \n",
      "Epoch 37/200\n",
      "1046/1046 [==============================] - 0s - loss: 0.0412     \n",
      "Epoch 38/200\n",
      "1046/1046 [==============================] - 0s - loss: 0.0397     - ETA: 0s - loss: 0.03\n",
      "Epoch 39/200\n",
      "1046/1046 [==============================] - 0s - loss: 0.0382     \n",
      "Epoch 40/200\n",
      "1046/1046 [==============================] - 0s - loss: 0.0366     \n",
      "Epoch 41/200\n",
      "1046/1046 [==============================] - 0s - loss: 0.0351     \n",
      "Epoch 42/200\n",
      "1046/1046 [==============================] - 0s - loss: 0.0334     \n",
      "Epoch 43/200\n",
      "1046/1046 [==============================] - 0s - loss: 0.0318     \n",
      "Epoch 44/200\n",
      "1046/1046 [==============================] - 0s - loss: 0.0302     \n",
      "Epoch 45/200\n",
      "1046/1046 [==============================] - 0s - loss: 0.0285     \n",
      "Epoch 46/200\n",
      "1046/1046 [==============================] - 0s - loss: 0.0270     \n",
      "Epoch 47/200\n",
      "1046/1046 [==============================] - 0s - loss: 0.0253     \n",
      "Epoch 48/200\n",
      "1046/1046 [==============================] - 0s - loss: 0.0237     \n",
      "Epoch 49/200\n",
      "1046/1046 [==============================] - 0s - loss: 0.0221     \n",
      "Epoch 50/200\n",
      "1046/1046 [==============================] - 0s - loss: 0.0206     \n",
      "Epoch 51/200\n",
      "1046/1046 [==============================] - 0s - loss: 0.0191     \n",
      "Epoch 52/200\n",
      "1046/1046 [==============================] - 0s - loss: 0.0176     \n",
      "Epoch 53/200\n",
      "1046/1046 [==============================] - 0s - loss: 0.0161     \n",
      "Epoch 54/200\n",
      "1046/1046 [==============================] - 0s - loss: 0.0148     \n",
      "Epoch 55/200\n",
      "1046/1046 [==============================] - 0s - loss: 0.0135     \n",
      "Epoch 56/200\n",
      "1046/1046 [==============================] - 0s - loss: 0.0122     \n",
      "Epoch 57/200\n",
      "1046/1046 [==============================] - 0s - loss: 0.0110     \n",
      "Epoch 58/200\n",
      "1046/1046 [==============================] - 0s - loss: 0.0099     - ETA: 0s - loss: 0.009\n",
      "Epoch 59/200\n",
      "1046/1046 [==============================] - 0s - loss: 0.0088     \n",
      "Epoch 60/200\n",
      "1046/1046 [==============================] - 0s - loss: 0.0078     \n",
      "Epoch 61/200\n",
      "1046/1046 [==============================] - 0s - loss: 0.0069     \n",
      "Epoch 62/200\n",
      "1046/1046 [==============================] - 0s - loss: 0.0061     \n",
      "Epoch 63/200\n",
      "1046/1046 [==============================] - 0s - loss: 0.0054     \n",
      "Epoch 64/200\n",
      "1046/1046 [==============================] - 0s - loss: 0.0047     \n",
      "Epoch 65/200\n",
      "1046/1046 [==============================] - 0s - loss: 0.0041     \n",
      "Epoch 66/200\n",
      "1046/1046 [==============================] - 0s - loss: 0.0035     \n",
      "Epoch 67/200\n",
      "1046/1046 [==============================] - 0s - loss: 0.0030     \n",
      "Epoch 68/200\n",
      "1046/1046 [==============================] - 0s - loss: 0.0026     \n",
      "Epoch 69/200\n",
      "1046/1046 [==============================] - 0s - loss: 0.0022     \n",
      "Epoch 70/200\n",
      "1046/1046 [==============================] - 0s - loss: 0.0019     \n",
      "Epoch 71/200\n",
      "1046/1046 [==============================] - 0s - loss: 0.0016     \n",
      "Epoch 72/200\n",
      "1046/1046 [==============================] - 0s - loss: 0.0014     \n",
      "Epoch 73/200\n",
      "1046/1046 [==============================] - 0s - loss: 0.0012     \n",
      "Epoch 74/200\n",
      "1046/1046 [==============================] - 0s - loss: 0.0010      \n",
      "Epoch 75/200\n",
      "1046/1046 [==============================] - 0s - loss: 8.8589e-04     \n",
      "Epoch 76/200\n",
      "1046/1046 [==============================] - 0s - loss: 7.6690e-04     \n",
      "Epoch 77/200\n",
      "1046/1046 [==============================] - 0s - loss: 6.7092e-04     \n",
      "Epoch 78/200\n",
      "1046/1046 [==============================] - 0s - loss: 5.8869e-04     \n",
      "Epoch 79/200\n",
      "1046/1046 [==============================] - 0s - loss: 5.2637e-04     \n",
      "Epoch 80/200\n",
      "1046/1046 [==============================] - 0s - loss: 4.7286e-04     \n",
      "Epoch 81/200\n",
      "1046/1046 [==============================] - 0s - loss: 4.2932e-04     \n",
      "Epoch 82/200\n",
      "1046/1046 [==============================] - 0s - loss: 3.9670e-04     \n",
      "Epoch 83/200\n",
      "1046/1046 [==============================] - 0s - loss: 3.7005e-04     \n",
      "Epoch 84/200\n",
      "1046/1046 [==============================] - 0s - loss: 3.4884e-04     \n",
      "Epoch 85/200\n",
      "1046/1046 [==============================] - 0s - loss: 3.3221e-04     \n",
      "Epoch 86/200\n",
      "1046/1046 [==============================] - 0s - loss: 3.1938e-04     \n",
      "Epoch 87/200\n",
      "1046/1046 [==============================] - 0s - loss: 3.1013e-04     \n",
      "Epoch 88/200\n",
      "1046/1046 [==============================] - 0s - loss: 3.0268e-04     \n",
      "Epoch 89/200\n",
      "1046/1046 [==============================] - 0s - loss: 2.9651e-04     \n",
      "Epoch 90/200\n",
      "1046/1046 [==============================] - 0s - loss: 2.9263e-04     \n",
      "Epoch 91/200\n",
      "1046/1046 [==============================] - 0s - loss: 2.8829e-04     \n",
      "Epoch 92/200\n",
      "1046/1046 [==============================] - 0s - loss: 2.8682e-04     \n",
      "Epoch 93/200\n",
      "1046/1046 [==============================] - 0s - loss: 2.8699e-04     \n",
      "Epoch 94/200\n",
      "1046/1046 [==============================] - 0s - loss: 2.8253e-04     \n",
      "Epoch 95/200\n",
      "1046/1046 [==============================] - 0s - loss: 2.8228e-04     \n",
      "Epoch 96/200\n",
      "1046/1046 [==============================] - 0s - loss: 2.8073e-04     \n",
      "Epoch 97/200\n",
      "1046/1046 [==============================] - 0s - loss: 2.8080e-04     \n",
      "Epoch 98/200\n",
      "1046/1046 [==============================] - 0s - loss: 2.8108e-04     \n",
      "Epoch 99/200\n",
      "1046/1046 [==============================] - 0s - loss: 2.7959e-04     \n",
      "Epoch 100/200\n",
      "1046/1046 [==============================] - 0s - loss: 2.7998e-04     \n",
      "Epoch 101/200\n",
      "1046/1046 [==============================] - 0s - loss: 2.7949e-04     \n",
      "Epoch 102/200\n",
      "1046/1046 [==============================] - 0s - loss: 2.7947e-04     \n",
      "Epoch 103/200\n",
      "1046/1046 [==============================] - 0s - loss: 2.7997e-04     \n",
      "Epoch 104/200\n",
      "1046/1046 [==============================] - 0s - loss: 2.7968e-04     \n",
      "Epoch 105/200\n",
      "1046/1046 [==============================] - 0s - loss: 2.7991e-04     \n",
      "Epoch 106/200\n",
      "1046/1046 [==============================] - 0s - loss: 2.7960e-04     \n",
      "Epoch 107/200\n",
      "1046/1046 [==============================] - 0s - loss: 2.7978e-04     \n",
      "Epoch 108/200\n",
      "1046/1046 [==============================] - 0s - loss: 2.7993e-04     \n",
      "Epoch 109/200\n",
      "1046/1046 [==============================] - 0s - loss: 2.7949e-04     \n",
      "Epoch 110/200\n",
      "1046/1046 [==============================] - 0s - loss: 2.8036e-04     \n",
      "Epoch 111/200\n",
      "1046/1046 [==============================] - 0s - loss: 2.8017e-04     \n",
      "Epoch 112/200\n",
      "1046/1046 [==============================] - 0s - loss: 2.7979e-04     \n",
      "Epoch 113/200\n",
      "1046/1046 [==============================] - 0s - loss: 2.8003e-04     \n",
      "Epoch 114/200\n",
      "1046/1046 [==============================] - 0s - loss: 2.8129e-04     \n",
      "Epoch 115/200\n",
      "1046/1046 [==============================] - 0s - loss: 2.8312e-04     \n",
      "Epoch 116/200\n",
      "1046/1046 [==============================] - 0s - loss: 2.7943e-04     \n",
      "Epoch 117/200\n",
      "1046/1046 [==============================] - 0s - loss: 2.7933e-04     \n",
      "Epoch 118/200\n",
      "1046/1046 [==============================] - 0s - loss: 2.7888e-04     \n",
      "Epoch 119/200\n",
      "1046/1046 [==============================] - 0s - loss: 2.7902e-04     \n",
      "Epoch 120/200\n",
      "1046/1046 [==============================] - 0s - loss: 2.7921e-04     \n",
      "Epoch 121/200\n",
      "1046/1046 [==============================] - 0s - loss: 2.8039e-04     \n",
      "Epoch 122/200\n",
      "1046/1046 [==============================] - 0s - loss: 2.7990e-04     \n",
      "Epoch 123/200\n",
      "1046/1046 [==============================] - 0s - loss: 2.7954e-04     \n",
      "Epoch 124/200\n",
      "1046/1046 [==============================] - 0s - loss: 2.8030e-04     \n",
      "Epoch 125/200\n",
      "1046/1046 [==============================] - 0s - loss: 2.8123e-04     \n",
      "Epoch 126/200\n",
      "1046/1046 [==============================] - 0s - loss: 2.7959e-04     \n",
      "Epoch 127/200\n",
      "1046/1046 [==============================] - 0s - loss: 2.7953e-04     \n",
      "Epoch 128/200\n",
      "1046/1046 [==============================] - 0s - loss: 2.7911e-04     \n",
      "Epoch 129/200\n",
      "1046/1046 [==============================] - 0s - loss: 2.7900e-04     \n",
      "Epoch 130/200\n",
      "1046/1046 [==============================] - 0s - loss: 2.7924e-04     \n",
      "Epoch 131/200\n",
      "1046/1046 [==============================] - 0s - loss: 2.7897e-04     \n",
      "Epoch 132/200\n",
      "1046/1046 [==============================] - 0s - loss: 2.7923e-04     \n",
      "Epoch 133/200\n",
      "1046/1046 [==============================] - 0s - loss: 2.7910e-04     \n",
      "Epoch 134/200\n",
      "1046/1046 [==============================] - 0s - loss: 2.8006e-04     \n",
      "Epoch 135/200\n",
      "1046/1046 [==============================] - 0s - loss: 2.7960e-04     \n",
      "Epoch 136/200\n",
      "1046/1046 [==============================] - 0s - loss: 2.7907e-04     \n",
      "Epoch 137/200\n",
      "1046/1046 [==============================] - 0s - loss: 2.8062e-04     \n",
      "Epoch 138/200\n",
      "1046/1046 [==============================] - 0s - loss: 2.7931e-04     \n",
      "Epoch 139/200\n",
      "1046/1046 [==============================] - 0s - loss: 2.7894e-04     \n",
      "Epoch 140/200\n",
      "1046/1046 [==============================] - 0s - loss: 2.8106e-04     \n",
      "Epoch 141/200\n",
      "1046/1046 [==============================] - 0s - loss: 2.8094e-04     \n",
      "Epoch 142/200\n",
      "1046/1046 [==============================] - 0s - loss: 2.7952e-04     \n",
      "Epoch 143/200\n",
      "1046/1046 [==============================] - 0s - loss: 2.7883e-04     \n",
      "Epoch 144/200\n",
      "1046/1046 [==============================] - 0s - loss: 2.8120e-04     \n",
      "Epoch 145/200\n",
      "1046/1046 [==============================] - ETA: 0s - loss: 2.8231e-0 - 0s - loss: 2.7856e-04     \n",
      "Epoch 146/200\n",
      "1046/1046 [==============================] - 0s - loss: 2.8181e-04     \n",
      "Epoch 147/200\n",
      "1046/1046 [==============================] - 0s - loss: 2.8202e-04     \n",
      "Epoch 148/200\n",
      "1046/1046 [==============================] - 0s - loss: 2.7974e-04     \n",
      "Epoch 149/200\n",
      "1046/1046 [==============================] - 0s - loss: 2.7900e-04     \n",
      "Epoch 150/200\n",
      "1046/1046 [==============================] - 0s - loss: 2.8312e-04     \n",
      "Epoch 151/200\n",
      "1046/1046 [==============================] - 0s - loss: 2.7927e-04     \n",
      "Epoch 152/200\n",
      "1046/1046 [==============================] - 0s - loss: 2.8090e-04     \n",
      "Epoch 153/200\n",
      "1046/1046 [==============================] - 0s - loss: 2.7912e-04     \n",
      "Epoch 154/200\n",
      "1046/1046 [==============================] - 0s - loss: 2.7908e-04     \n",
      "Epoch 155/200\n",
      "1046/1046 [==============================] - 0s - loss: 2.7891e-04     \n",
      "Epoch 156/200\n",
      "1046/1046 [==============================] - 0s - loss: 2.8122e-04     \n",
      "Epoch 157/200\n",
      "1046/1046 [==============================] - 0s - loss: 2.8008e-04     \n",
      "Epoch 158/200\n",
      "1046/1046 [==============================] - 0s - loss: 2.8029e-04     \n",
      "Epoch 159/200\n",
      "1046/1046 [==============================] - 0s - loss: 2.8018e-04     \n",
      "Epoch 160/200\n",
      "1046/1046 [==============================] - 0s - loss: 2.8261e-04     \n",
      "Epoch 161/200\n",
      "1046/1046 [==============================] - 0s - loss: 2.8343e-04     \n",
      "Epoch 162/200\n",
      "1046/1046 [==============================] - 0s - loss: 2.7978e-04     \n",
      "Epoch 163/200\n",
      "1046/1046 [==============================] - 0s - loss: 2.8156e-04     \n",
      "Epoch 164/200\n",
      "1046/1046 [==============================] - 0s - loss: 2.7885e-04     \n",
      "Epoch 165/200\n",
      "1046/1046 [==============================] - 0s - loss: 2.8349e-04     \n",
      "Epoch 166/200\n",
      "1046/1046 [==============================] - 0s - loss: 2.8017e-04     \n",
      "Epoch 167/200\n",
      "1046/1046 [==============================] - 0s - loss: 2.7963e-04     \n",
      "Epoch 168/200\n",
      "1046/1046 [==============================] - 0s - loss: 2.7898e-04     \n",
      "Epoch 169/200\n",
      "1046/1046 [==============================] - 0s - loss: 2.7921e-04     \n",
      "Epoch 170/200\n",
      "1046/1046 [==============================] - 0s - loss: 2.8190e-04     \n",
      "Epoch 171/200\n",
      "1046/1046 [==============================] - 0s - loss: 2.8442e-04     \n",
      "Epoch 172/200\n",
      "1046/1046 [==============================] - 0s - loss: 2.7945e-04     \n",
      "Epoch 173/200\n",
      "1046/1046 [==============================] - 0s - loss: 2.7957e-04     \n",
      "Epoch 174/200\n",
      "1046/1046 [==============================] - 0s - loss: 2.8790e-04     \n",
      "Epoch 175/200\n",
      "1046/1046 [==============================] - 0s - loss: 2.8052e-04     \n",
      "Epoch 176/200\n",
      "1046/1046 [==============================] - 0s - loss: 2.8707e-04     \n",
      "Epoch 177/200\n",
      "1046/1046 [==============================] - 0s - loss: 2.7905e-04     \n",
      "Epoch 178/200\n",
      "1046/1046 [==============================] - 0s - loss: 2.8048e-04     \n",
      "Epoch 179/200\n",
      "1046/1046 [==============================] - 0s - loss: 2.8197e-04     \n",
      "Epoch 180/200\n",
      "1046/1046 [==============================] - 0s - loss: 2.8048e-04     \n",
      "Epoch 181/200\n",
      "1046/1046 [==============================] - 0s - loss: 2.8337e-04     \n",
      "Epoch 182/200\n",
      "1046/1046 [==============================] - 0s - loss: 2.8104e-04     \n",
      "Epoch 183/200\n",
      "1046/1046 [==============================] - 0s - loss: 2.8008e-04     \n",
      "Epoch 184/200\n",
      "1046/1046 [==============================] - 0s - loss: 2.8614e-04     \n",
      "Epoch 185/200\n",
      "1046/1046 [==============================] - 0s - loss: 2.7967e-04     \n",
      "Epoch 186/200\n",
      "1046/1046 [==============================] - 0s - loss: 2.8046e-04     \n",
      "Epoch 187/200\n",
      "1046/1046 [==============================] - 0s - loss: 2.8694e-04     \n",
      "Epoch 188/200\n",
      "1046/1046 [==============================] - 0s - loss: 2.8206e-04     \n",
      "Epoch 189/200\n",
      "1046/1046 [==============================] - 0s - loss: 2.8036e-04     \n",
      "Epoch 190/200\n",
      "1046/1046 [==============================] - 0s - loss: 2.8133e-04     \n",
      "Epoch 191/200\n",
      "1046/1046 [==============================] - 0s - loss: 2.7982e-04     \n",
      "Epoch 192/200\n",
      "1046/1046 [==============================] - 0s - loss: 2.8023e-04     \n",
      "Epoch 193/200\n",
      "1046/1046 [==============================] - 0s - loss: 2.8172e-04     \n",
      "Epoch 194/200\n",
      "1046/1046 [==============================] - 0s - loss: 2.7942e-04     \n",
      "Epoch 195/200\n"
     ]
    },
    {
     "name": "stdout",
     "output_type": "stream",
     "text": [
      "1046/1046 [==============================] - 0s - loss: 2.8550e-04     \n",
      "Epoch 196/200\n",
      "1046/1046 [==============================] - 0s - loss: 2.7972e-04     \n",
      "Epoch 197/200\n",
      "1046/1046 [==============================] - 0s - loss: 2.7904e-04     \n",
      "Epoch 198/200\n",
      "1046/1046 [==============================] - 0s - loss: 2.7951e-04     \n",
      "Epoch 199/200\n",
      "1046/1046 [==============================] - 0s - loss: 2.8148e-04     \n",
      "Epoch 200/200\n",
      "1046/1046 [==============================] - 0s - loss: 2.8450e-04     \n"
     ]
    },
    {
     "data": {
      "text/plain": [
       "<keras.callbacks.History at 0x7f1451a8e550>"
      ]
     },
     "execution_count": 161,
     "metadata": {},
     "output_type": "execute_result"
    }
   ],
   "source": [
    "myreg.fit(x_train,y_train,batch_size=32,epochs=200)"
   ]
  },
  {
   "cell_type": "code",
   "execution_count": 162,
   "metadata": {
    "collapsed": true
   },
   "outputs": [],
   "source": [
    "test_data = mms.transform(test_data.reshape(len(test_data),1))"
   ]
  },
  {
   "cell_type": "code",
   "execution_count": 163,
   "metadata": {},
   "outputs": [
    {
     "data": {
      "text/plain": [
       "array([[ 0.83564774],\n",
       "       [ 0.85596473],\n",
       "       [ 0.85599402],\n",
       "       [ 0.83529619],\n",
       "       [ 0.83257163],\n",
       "       [ 0.83920724],\n",
       "       [ 0.88577372],\n",
       "       [ 0.91943517],\n",
       "       [ 0.94676862],\n",
       "       [ 0.9484971 ],\n",
       "       [ 0.93260386],\n",
       "       [ 0.91335618],\n",
       "       [ 0.91397141],\n",
       "       [ 0.93223765],\n",
       "       [ 0.94695904],\n",
       "       [ 0.95095799],\n",
       "       [ 0.95829671],\n",
       "       [ 0.95066503],\n",
       "       [ 0.97241753],\n",
       "       [ 0.99704107],\n",
       "       [ 0.99636726],\n",
       "       [ 0.97335501],\n",
       "       [ 0.95059179],\n",
       "       [ 0.92774067],\n",
       "       [ 0.917985  ],\n",
       "       [ 0.88978731],\n",
       "       [ 0.91602215],\n",
       "       [ 0.88526103],\n",
       "       [ 0.93919552],\n",
       "       [ 0.90215035]])"
      ]
     },
     "execution_count": 163,
     "metadata": {},
     "output_type": "execute_result"
    }
   ],
   "source": [
    "test_data"
   ]
  },
  {
   "cell_type": "code",
   "execution_count": 164,
   "metadata": {
    "collapsed": true
   },
   "outputs": [],
   "source": [
    "yp = myreg.predict(test_data.reshape(len(test_data),1,1))    "
   ]
  },
  {
   "cell_type": "code",
   "execution_count": 165,
   "metadata": {},
   "outputs": [
    {
     "data": {
      "text/plain": [
       "[<matplotlib.lines.Line2D at 0x7f14519b0828>]"
      ]
     },
     "execution_count": 165,
     "metadata": {},
     "output_type": "execute_result"
    },
    {
     "data": {
      "image/png": "[encoded data removed]",
      "text/plain": [
       "<Figure size 432x288 with 1 Axes>"
      ]
     },
     "metadata": {},
     "output_type": "display_data"
    }
   ],
   "source": [
    "plt.plot(test_data)\n",
    "plt.plot(yp)"
   ]
  },
  {
   "cell_type": "code",
   "execution_count": 166,
   "metadata": {
    "collapsed": true
   },
   "outputs": [],
   "source": [
    "from sklearn.metrics import mean_squared_error"
   ]
  },
  {
   "cell_type": "code",
   "execution_count": 167,
   "metadata": {},
   "outputs": [
    {
     "data": {
      "text/plain": [
       "3.7652478679315063e-05"
      ]
     },
     "execution_count": 167,
     "metadata": {},
     "output_type": "execute_result"
    }
   ],
   "source": [
    "mean_squared_error(test_data,yp)"
   ]
  },
  {
   "cell_type": "code",
   "execution_count": 168,
   "metadata": {
    "collapsed": true
   },
   "outputs": [],
   "source": [
    "test_data = mms.inverse_transform(test_data)\n",
    "yp = mms.inverse_transform(yp)"
   ]
  },
  {
   "cell_type": "code",
   "execution_count": 169,
   "metadata": {},
   "outputs": [
    {
     "data": {
      "text/plain": [
       "[<matplotlib.lines.Line2D at 0x7f1451905cc0>]"
      ]
     },
     "execution_count": 169,
     "metadata": {},
     "output_type": "execute_result"
    },
    {
     "data": {
      "image/png": "[encoded data removed]",
      "text/plain": [
       "<Figure size 432x288 with 1 Axes>"
      ]
     },
     "metadata": {},
     "output_type": "display_data"
    }
   ],
   "source": [
    "plt.plot(test_data)\n",
    "plt.plot(yp)"
   ]
  },
  {
   "cell_type": "markdown",
   "metadata": {},
   "source": [
    "# Taking 20 timestamps and one layer"
   ]
  },
  {
   "cell_type": "code",
   "execution_count": 190,
   "metadata": {
    "collapsed": true
   },
   "outputs": [],
   "source": [
    "train_data = data.iloc[:-30].values\n",
    "test_data = data.iloc[-30:].values"
   ]
  },
  {
   "cell_type": "code",
   "execution_count": 191,
   "metadata": {
    "collapsed": true
   },
   "outputs": [],
   "source": [
    "from sklearn.preprocessing import MinMaxScaler"
   ]
  },
  {
   "cell_type": "code",
   "execution_count": 192,
   "metadata": {},
   "outputs": [
    {
     "name": "stderr",
     "output_type": "stream",
     "text": [
      "/home/vatsal/anaconda3/lib/python3.6/site-packages/sklearn/utils/validation.py:444: DataConversionWarning: Data with input dtype object was converted to float64 by MinMaxScaler.\n",
      "  warnings.warn(msg, DataConversionWarning)\n"
     ]
    }
   ],
   "source": [
    "mms = MinMaxScaler()\n",
    "train_data = mms.fit_transform(train_data.reshape(len(train_data),1))"
   ]
  },
  {
   "cell_type": "code",
   "execution_count": 193,
   "metadata": {
    "collapsed": true
   },
   "outputs": [],
   "source": [
    "import numpy as np\n",
    "x_train = []\n",
    "y_train = []\n",
    "for i in range(20,len(train_data)):\n",
    "    x_train.append(train_data[i-20:i])\n",
    "    y_train.append(train_data[i])\n",
    "x_train = np.array(x_train)\n",
    "y_train = np.array(y_train)"
   ]
  },
  {
   "cell_type": "code",
   "execution_count": 194,
   "metadata": {},
   "outputs": [
    {
     "data": {
      "text/plain": [
       "(1027, 20, 1)"
      ]
     },
     "execution_count": 194,
     "metadata": {},
     "output_type": "execute_result"
    }
   ],
   "source": [
    "x_train.shape"
   ]
  },
  {
   "cell_type": "code",
   "execution_count": 195,
   "metadata": {},
   "outputs": [
    {
     "data": {
      "text/plain": [
       "(1027, 1)"
      ]
     },
     "execution_count": 195,
     "metadata": {},
     "output_type": "execute_result"
    }
   ],
   "source": [
    "y_train.shape"
   ]
  },
  {
   "cell_type": "code",
   "execution_count": 196,
   "metadata": {
    "collapsed": true
   },
   "outputs": [],
   "source": [
    "x_train = x_train.reshape(1027,20,1)"
   ]
  },
  {
   "cell_type": "code",
   "execution_count": 197,
   "metadata": {},
   "outputs": [
    {
     "data": {
      "text/plain": [
       "(1027, 20, 1)"
      ]
     },
     "execution_count": 197,
     "metadata": {},
     "output_type": "execute_result"
    }
   ],
   "source": [
    "x_train.shape"
   ]
  },
  {
   "cell_type": "code",
   "execution_count": 198,
   "metadata": {
    "collapsed": true
   },
   "outputs": [],
   "source": [
    "y_train = y_train.reshape(1027,1)"
   ]
  },
  {
   "cell_type": "code",
   "execution_count": 199,
   "metadata": {
    "collapsed": true
   },
   "outputs": [],
   "source": [
    "from keras.models import Sequential\n",
    "from keras.layers import Dense\n",
    "from keras.layers import LSTM"
   ]
  },
  {
   "cell_type": "code",
   "execution_count": 200,
   "metadata": {
    "collapsed": true
   },
   "outputs": [],
   "source": [
    "myreg = Sequential()\n",
    "myreg.add(LSTM(units=4,activation='sigmoid',input_shape=(None,1)))\n",
    "myreg.add(Dense(units=1))\n",
    "myreg.compile(optimizer='adam',loss='mean_squared_error')"
   ]
  },
  {
   "cell_type": "code",
   "execution_count": 181,
   "metadata": {},
   "outputs": [
    {
     "name": "stdout",
     "output_type": "stream",
     "text": [
      "Epoch 1/200\n",
      "1027/1027 [==============================] - 1s - loss: 0.1591     \n",
      "Epoch 2/200\n",
      "1027/1027 [==============================] - 0s - loss: 0.1045     \n",
      "Epoch 3/200\n",
      "1027/1027 [==============================] - 0s - loss: 0.0766     \n",
      "Epoch 4/200\n",
      "1027/1027 [==============================] - 0s - loss: 0.0645     \n",
      "Epoch 5/200\n",
      "1027/1027 [==============================] - 0s - loss: 0.0598     \n",
      "Epoch 6/200\n",
      "1027/1027 [==============================] - 0s - loss: 0.0577     \n",
      "Epoch 7/200\n",
      "1027/1027 [==============================] - 0s - loss: 0.0560     \n",
      "Epoch 8/200\n",
      "1027/1027 [==============================] - 0s - loss: 0.0544     \n",
      "Epoch 9/200\n",
      "1027/1027 [==============================] - 0s - loss: 0.0526     \n",
      "Epoch 10/200\n",
      "1027/1027 [==============================] - 0s - loss: 0.0507     \n",
      "Epoch 11/200\n",
      "1027/1027 [==============================] - 0s - loss: 0.0487     \n",
      "Epoch 12/200\n",
      "1027/1027 [==============================] - 0s - loss: 0.0466     \n",
      "Epoch 13/200\n",
      "1027/1027 [==============================] - ETA: 0s - loss: 0.044 - 0s - loss: 0.0442     \n",
      "Epoch 14/200\n",
      "1027/1027 [==============================] - 0s - loss: 0.0419     \n",
      "Epoch 15/200\n",
      "1027/1027 [==============================] - 0s - loss: 0.0394     \n",
      "Epoch 16/200\n",
      "1027/1027 [==============================] - 0s - loss: 0.0368     \n",
      "Epoch 17/200\n",
      "1027/1027 [==============================] - 0s - loss: 0.0341     \n",
      "Epoch 18/200\n",
      "1027/1027 [==============================] - 0s - loss: 0.0313     \n",
      "Epoch 19/200\n",
      "1027/1027 [==============================] - 0s - loss: 0.0285     \n",
      "Epoch 20/200\n",
      "1027/1027 [==============================] - 0s - loss: 0.0256     \n",
      "Epoch 21/200\n",
      "1027/1027 [==============================] - 0s - loss: 0.0225     - ETA: 0s -\n",
      "Epoch 22/200\n",
      "1027/1027 [==============================] - 0s - loss: 0.0193     \n",
      "Epoch 23/200\n",
      "1027/1027 [==============================] - 0s - loss: 0.0161     \n",
      "Epoch 24/200\n",
      "1027/1027 [==============================] - 0s - loss: 0.0131     \n",
      "Epoch 25/200\n",
      "1027/1027 [==============================] - 0s - loss: 0.0102     \n",
      "Epoch 26/200\n",
      "1027/1027 [==============================] - 0s - loss: 0.0076     \n",
      "Epoch 27/200\n",
      "1027/1027 [==============================] - 0s - loss: 0.0055     \n",
      "Epoch 28/200\n",
      "1027/1027 [==============================] - 0s - loss: 0.0039     \n",
      "Epoch 29/200\n",
      "1027/1027 [==============================] - 0s - loss: 0.0028     \n",
      "Epoch 30/200\n",
      "1027/1027 [==============================] - 0s - loss: 0.0019     \n",
      "Epoch 31/200\n",
      "1027/1027 [==============================] - 0s - loss: 0.0014     - ETA: 0s - \n",
      "Epoch 32/200\n",
      "1027/1027 [==============================] - 0s - loss: 0.0011     - ETA: 0s - loss: 0.00\n",
      "Epoch 33/200\n",
      "1027/1027 [==============================] - 0s - loss: 9.2273e-04     \n",
      "Epoch 34/200\n",
      "1027/1027 [==============================] - 0s - loss: 8.1605e-04     \n",
      "Epoch 35/200\n",
      "1027/1027 [==============================] - 0s - loss: 7.6287e-04     \n",
      "Epoch 36/200\n",
      "1027/1027 [==============================] - 0s - loss: 7.3962e-04     \n",
      "Epoch 37/200\n",
      "1027/1027 [==============================] - 0s - loss: 7.2138e-04     \n",
      "Epoch 38/200\n",
      "1027/1027 [==============================] - 0s - loss: 7.1197e-04     \n",
      "Epoch 39/200\n",
      "1027/1027 [==============================] - 0s - loss: 7.1118e-04     \n",
      "Epoch 40/200\n",
      "1027/1027 [==============================] - 0s - loss: 7.0050e-04     \n",
      "Epoch 41/200\n",
      "1027/1027 [==============================] - 0s - loss: 6.9652e-04     \n",
      "Epoch 42/200\n",
      "1027/1027 [==============================] - 1s - loss: 6.9188e-04     \n",
      "Epoch 43/200\n",
      "1027/1027 [==============================] - 0s - loss: 6.9416e-04     \n",
      "Epoch 44/200\n",
      "1027/1027 [==============================] - 0s - loss: 6.8915e-04     - ETA: 0s - loss: 6.5813\n",
      "Epoch 45/200\n",
      "1027/1027 [==============================] - 1s - loss: 6.8067e-04     \n",
      "Epoch 46/200\n",
      "1027/1027 [==============================] - 0s - loss: 6.7604e-04     \n",
      "Epoch 47/200\n",
      "1027/1027 [==============================] - 0s - loss: 6.7374e-04     \n",
      "Epoch 48/200\n",
      "1027/1027 [==============================] - 0s - loss: 6.7000e-04     \n",
      "Epoch 49/200\n",
      "1027/1027 [==============================] - 0s - loss: 6.6300e-04     \n",
      "Epoch 50/200\n",
      "1027/1027 [==============================] - 0s - loss: 6.5720e-04     \n",
      "Epoch 51/200\n",
      "1027/1027 [==============================] - 0s - loss: 6.5536e-04     \n",
      "Epoch 52/200\n",
      "1027/1027 [==============================] - 0s - loss: 6.5073e-04     \n",
      "Epoch 53/200\n",
      "1027/1027 [==============================] - 1s - loss: 6.4879e-04     \n",
      "Epoch 54/200\n",
      "1027/1027 [==============================] - 1s - loss: 6.4569e-04     \n",
      "Epoch 55/200\n",
      "1027/1027 [==============================] - 0s - loss: 6.4618e-04     \n",
      "Epoch 56/200\n",
      "1027/1027 [==============================] - 0s - loss: 6.3476e-04     \n",
      "Epoch 57/200\n",
      "1027/1027 [==============================] - 1s - loss: 6.3483e-04     \n",
      "Epoch 58/200\n",
      "1027/1027 [==============================] - 0s - loss: 6.3888e-04     \n",
      "Epoch 59/200\n",
      "1027/1027 [==============================] - 0s - loss: 6.2967e-04     \n",
      "Epoch 60/200\n",
      "1027/1027 [==============================] - 0s - loss: 6.2298e-04     \n",
      "Epoch 61/200\n",
      "1027/1027 [==============================] - 0s - loss: 6.1931e-04     \n",
      "Epoch 62/200\n",
      "1027/1027 [==============================] - 1s - loss: 6.1729e-04     \n",
      "Epoch 63/200\n",
      "1027/1027 [==============================] - 1s - loss: 6.1591e-04     \n",
      "Epoch 64/200\n",
      "1027/1027 [==============================] - 1s - loss: 6.1247e-04     \n",
      "Epoch 65/200\n",
      "1027/1027 [==============================] - 1s - loss: 6.0808e-04     \n",
      "Epoch 66/200\n",
      "1027/1027 [==============================] - 1s - loss: 6.0887e-04     \n",
      "Epoch 67/200\n",
      "1027/1027 [==============================] - 1s - loss: 6.0394e-04     \n",
      "Epoch 68/200\n",
      "1027/1027 [==============================] - 0s - loss: 6.0127e-04     \n",
      "Epoch 69/200\n",
      "1027/1027 [==============================] - 0s - loss: 5.9620e-04     \n",
      "Epoch 70/200\n",
      "1027/1027 [==============================] - 1s - loss: 5.9526e-04     \n",
      "Epoch 71/200\n",
      "1027/1027 [==============================] - 1s - loss: 5.9314e-04     \n",
      "Epoch 72/200\n",
      "1027/1027 [==============================] - 0s - loss: 5.8959e-04     \n",
      "Epoch 73/200\n",
      "1027/1027 [==============================] - 0s - loss: 5.9104e-04     \n",
      "Epoch 74/200\n",
      "1027/1027 [==============================] - 0s - loss: 5.9404e-04     \n",
      "Epoch 75/200\n",
      "1027/1027 [==============================] - 0s - loss: 5.8337e-04     \n",
      "Epoch 76/200\n",
      "1027/1027 [==============================] - 0s - loss: 5.7955e-04     \n",
      "Epoch 77/200\n",
      "1027/1027 [==============================] - 0s - loss: 5.7577e-04     \n",
      "Epoch 78/200\n",
      "1027/1027 [==============================] - 0s - loss: 5.7784e-04     \n",
      "Epoch 79/200\n",
      "1027/1027 [==============================] - 0s - loss: 5.7283e-04     \n",
      "Epoch 80/200\n",
      "1027/1027 [==============================] - 0s - loss: 5.6933e-04     \n",
      "Epoch 81/200\n",
      "1027/1027 [==============================] - 0s - loss: 5.6853e-04     \n",
      "Epoch 82/200\n",
      "1027/1027 [==============================] - 1s - loss: 5.7441e-04     \n",
      "Epoch 83/200\n",
      "1027/1027 [==============================] - 0s - loss: 5.6289e-04     \n",
      "Epoch 84/200\n",
      "1027/1027 [==============================] - 0s - loss: 5.6142e-04     \n",
      "Epoch 85/200\n",
      "1027/1027 [==============================] - 0s - loss: 5.5660e-04     \n",
      "Epoch 86/200\n",
      "1027/1027 [==============================] - 0s - loss: 5.5722e-04     \n",
      "Epoch 87/200\n",
      "1027/1027 [==============================] - 0s - loss: 5.6029e-04     \n",
      "Epoch 88/200\n",
      "1027/1027 [==============================] - 0s - loss: 5.5736e-04     \n",
      "Epoch 89/200\n",
      "1027/1027 [==============================] - 0s - loss: 5.5980e-04     \n",
      "Epoch 90/200\n",
      "1027/1027 [==============================] - 1s - loss: 5.6642e-04     \n",
      "Epoch 91/200\n",
      "1027/1027 [==============================] - 1s - loss: 5.6063e-04     \n",
      "Epoch 92/200\n",
      "1027/1027 [==============================] - 0s - loss: 5.4461e-04     \n",
      "Epoch 93/200\n",
      "1027/1027 [==============================] - 0s - loss: 5.4225e-04     \n",
      "Epoch 94/200\n",
      "1027/1027 [==============================] - 1s - loss: 5.4802e-04     \n",
      "Epoch 95/200\n",
      "1027/1027 [==============================] - 1s - loss: 5.3644e-04     - ETA: 1s - l\n",
      "Epoch 96/200\n",
      "1027/1027 [==============================] - 1s - loss: 5.4008e-04     \n",
      "Epoch 97/200\n",
      "1027/1027 [==============================] - 0s - loss: 5.4657e-04     \n",
      "Epoch 98/200\n",
      "1027/1027 [==============================] - 0s - loss: 5.4325e-04     \n",
      "Epoch 99/200\n",
      "1027/1027 [==============================] - 0s - loss: 5.3724e-04     \n",
      "Epoch 100/200\n",
      "1027/1027 [==============================] - 0s - loss: 5.3878e-04     \n",
      "Epoch 101/200\n",
      "1027/1027 [==============================] - 0s - loss: 5.3122e-04     \n",
      "Epoch 102/200\n",
      "1027/1027 [==============================] - 0s - loss: 5.3247e-04     - ETA: 0s - loss: 5.108\n",
      "Epoch 103/200\n",
      "1027/1027 [==============================] - 0s - loss: 5.2843e-04     \n",
      "Epoch 104/200\n",
      "1027/1027 [==============================] - 0s - loss: 5.2886e-04     \n",
      "Epoch 105/200\n",
      "1027/1027 [==============================] - 0s - loss: 5.2557e-04     \n",
      "Epoch 106/200\n",
      "1027/1027 [==============================] - 0s - loss: 5.2802e-04     \n",
      "Epoch 107/200\n",
      "1027/1027 [==============================] - 0s - loss: 5.2123e-04     \n",
      "Epoch 108/200\n",
      "1027/1027 [==============================] - 0s - loss: 5.1738e-04     \n",
      "Epoch 109/200\n",
      "1027/1027 [==============================] - 0s - loss: 5.2518e-04     \n",
      "Epoch 110/200\n",
      "1027/1027 [==============================] - 0s - loss: 5.2131e-04     \n",
      "Epoch 111/200\n",
      "1027/1027 [==============================] - 0s - loss: 5.2005e-04     \n",
      "Epoch 112/200\n",
      "1027/1027 [==============================] - 0s - loss: 5.1477e-04     \n",
      "Epoch 113/200\n",
      "1027/1027 [==============================] - 0s - loss: 5.2108e-04     \n",
      "Epoch 114/200\n",
      "1027/1027 [==============================] - 0s - loss: 5.1379e-04     \n",
      "Epoch 115/200\n",
      "1027/1027 [==============================] - 1s - loss: 5.1564e-04     \n",
      "Epoch 116/200\n",
      "1027/1027 [==============================] - 0s - loss: 5.1980e-04     \n",
      "Epoch 117/200\n",
      "1027/1027 [==============================] - 1s - loss: 5.1041e-04     \n",
      "Epoch 118/200\n",
      "1027/1027 [==============================] - 0s - loss: 5.2101e-04     \n",
      "Epoch 119/200\n",
      "1027/1027 [==============================] - 1s - loss: 5.0685e-04     \n",
      "Epoch 120/200\n",
      "1027/1027 [==============================] - 1s - loss: 5.0053e-04     \n",
      "Epoch 121/200\n",
      "1027/1027 [==============================] - 0s - loss: 5.0645e-04     \n",
      "Epoch 122/200\n",
      "1027/1027 [==============================] - 0s - loss: 4.9937e-04     \n",
      "Epoch 123/200\n",
      "1027/1027 [==============================] - 1s - loss: 5.0600e-04     - ETA: 0s - loss: 5.65\n",
      "Epoch 124/200\n",
      "1027/1027 [==============================] - 0s - loss: 5.0346e-04     \n",
      "Epoch 125/200\n",
      "1027/1027 [==============================] - 1s - loss: 5.0046e-04     - ETA: 1s - l\n",
      "Epoch 126/200\n",
      "1027/1027 [==============================] - 0s - loss: 4.9507e-04     \n",
      "Epoch 127/200\n",
      "1027/1027 [==============================] - 0s - loss: 4.9334e-04     \n",
      "Epoch 128/200\n",
      "1027/1027 [==============================] - 0s - loss: 4.9841e-04     \n",
      "Epoch 129/200\n",
      "1027/1027 [==============================] - 0s - loss: 4.9506e-04     \n",
      "Epoch 130/200\n",
      "1027/1027 [==============================] - 0s - loss: 4.9919e-04     \n",
      "Epoch 131/200\n",
      "1027/1027 [==============================] - 0s - loss: 5.0171e-04     \n",
      "Epoch 132/200\n",
      "1027/1027 [==============================] - 0s - loss: 4.9897e-04     \n",
      "Epoch 133/200\n",
      "1027/1027 [==============================] - 0s - loss: 4.8851e-04     \n",
      "Epoch 134/200\n",
      "1027/1027 [==============================] - 0s - loss: 4.8729e-04     \n",
      "Epoch 135/200\n",
      "1027/1027 [==============================] - 0s - loss: 5.0156e-04     \n",
      "Epoch 136/200\n",
      "1027/1027 [==============================] - 1s - loss: 4.8969e-04     \n",
      "Epoch 137/200\n",
      "1027/1027 [==============================] - 0s - loss: 4.8759e-04     \n",
      "Epoch 138/200\n",
      "1027/1027 [==============================] - 1s - loss: 4.8471e-04     - ETA: 0s - loss: 4.9\n",
      "Epoch 139/200\n",
      "1027/1027 [==============================] - 0s - loss: 4.8665e-04     \n",
      "Epoch 140/200\n",
      "1027/1027 [==============================] - 0s - loss: 5.0129e-04     \n",
      "Epoch 141/200\n",
      "1027/1027 [==============================] - 0s - loss: 4.9512e-04     \n",
      "Epoch 142/200\n",
      "1027/1027 [==============================] - 0s - loss: 4.8897e-04     \n",
      "Epoch 143/200\n",
      "1027/1027 [==============================] - 1s - loss: 4.8015e-04     \n",
      "Epoch 144/200\n",
      "1027/1027 [==============================] - 1s - loss: 4.7863e-04     \n",
      "Epoch 145/200\n",
      "1027/1027 [==============================] - 0s - loss: 4.7884e-04     \n",
      "Epoch 146/200\n",
      "1027/1027 [==============================] - 0s - loss: 4.7611e-04     \n",
      "Epoch 147/200\n",
      "1027/1027 [==============================] - 0s - loss: 4.7892e-04     \n",
      "Epoch 148/200\n",
      "1027/1027 [==============================] - 0s - loss: 4.7538e-04     \n",
      "Epoch 149/200\n",
      "1027/1027 [==============================] - 0s - loss: 4.7528e-04     \n",
      "Epoch 150/200\n",
      "1027/1027 [==============================] - 1s - loss: 4.7205e-04     \n",
      "Epoch 151/200\n",
      "1027/1027 [==============================] - 0s - loss: 4.8809e-04     \n",
      "Epoch 152/200\n",
      "1027/1027 [==============================] - 0s - loss: 4.7612e-04     \n",
      "Epoch 153/200\n",
      "1027/1027 [==============================] - 1s - loss: 4.7613e-04     \n",
      "Epoch 154/200\n",
      "1027/1027 [==============================] - 0s - loss: 4.7108e-04     \n",
      "Epoch 155/200\n",
      "1027/1027 [==============================] - 0s - loss: 4.7493e-04     \n",
      "Epoch 156/200\n",
      "1027/1027 [==============================] - 0s - loss: 4.7087e-04     \n",
      "Epoch 157/200\n",
      "1027/1027 [==============================] - 0s - loss: 4.6621e-04     \n",
      "Epoch 158/200\n",
      "1027/1027 [==============================] - 0s - loss: 4.6964e-04     \n",
      "Epoch 159/200\n",
      "1027/1027 [==============================] - 1s - loss: 4.6977e-04     \n",
      "Epoch 160/200\n",
      "1027/1027 [==============================] - 0s - loss: 4.6770e-04     \n",
      "Epoch 161/200\n",
      "1027/1027 [==============================] - 0s - loss: 4.6893e-04     \n",
      "Epoch 162/200\n",
      "1027/1027 [==============================] - 1s - loss: 4.7281e-04     \n",
      "Epoch 163/200\n",
      "1027/1027 [==============================] - 0s - loss: 4.6969e-04     \n",
      "Epoch 164/200\n",
      "1027/1027 [==============================] - 1s - loss: 4.6400e-04     \n",
      "Epoch 165/200\n",
      "1027/1027 [==============================] - 1s - loss: 4.6100e-04     \n",
      "Epoch 166/200\n",
      "1027/1027 [==============================] - 1s - loss: 4.6081e-04     \n",
      "Epoch 167/200\n",
      "1027/1027 [==============================] - 0s - loss: 4.8631e-04     \n",
      "Epoch 168/200\n",
      "1027/1027 [==============================] - 1s - loss: 4.8679e-04     \n",
      "Epoch 169/200\n",
      "1027/1027 [==============================] - 0s - loss: 4.6169e-04     \n",
      "Epoch 170/200\n",
      "1027/1027 [==============================] - 0s - loss: 4.6605e-04     \n",
      "Epoch 171/200\n",
      "1027/1027 [==============================] - 0s - loss: 4.5449e-04     \n",
      "Epoch 172/200\n",
      "1027/1027 [==============================] - 0s - loss: 4.5711e-04     \n",
      "Epoch 173/200\n",
      "1027/1027 [==============================] - 0s - loss: 4.5322e-04     - ETA: 0s - loss: 4.3\n",
      "Epoch 174/200\n",
      "1027/1027 [==============================] - 0s - loss: 4.5772e-04     \n",
      "Epoch 175/200\n",
      "1027/1027 [==============================] - 0s - loss: 4.5892e-04     \n",
      "Epoch 176/200\n",
      "1027/1027 [==============================] - 0s - loss: 4.6114e-04     \n",
      "Epoch 177/200\n",
      "1027/1027 [==============================] - 0s - loss: 4.4802e-04     \n",
      "Epoch 178/200\n",
      "1027/1027 [==============================] - 1s - loss: 4.5573e-04     \n",
      "Epoch 179/200\n",
      "1027/1027 [==============================] - 1s - loss: 4.5267e-04     \n",
      "Epoch 180/200\n",
      "1027/1027 [==============================] - 1s - loss: 4.4860e-04     \n",
      "Epoch 181/200\n",
      "1027/1027 [==============================] - 0s - loss: 4.5331e-04     \n",
      "Epoch 182/200\n",
      "1027/1027 [==============================] - 0s - loss: 4.4391e-04     \n",
      "Epoch 183/200\n",
      "1027/1027 [==============================] - 1s - loss: 4.4615e-04     \n",
      "Epoch 184/200\n",
      "1027/1027 [==============================] - 0s - loss: 4.4308e-04     \n",
      "Epoch 185/200\n",
      "1027/1027 [==============================] - 0s - loss: 4.5304e-04     \n",
      "Epoch 186/200\n",
      "1027/1027 [==============================] - 0s - loss: 4.5288e-04     \n",
      "Epoch 187/200\n",
      "1027/1027 [==============================] - 0s - loss: 4.4438e-04     \n",
      "Epoch 188/200\n",
      "1027/1027 [==============================] - 1s - loss: 4.4422e-04     \n",
      "Epoch 189/200\n",
      "1027/1027 [==============================] - 1s - loss: 4.4351e-04     \n",
      "Epoch 190/200\n",
      "1027/1027 [==============================] - 1s - loss: 4.4573e-04     \n",
      "Epoch 191/200\n"
     ]
    },
    {
     "name": "stdout",
     "output_type": "stream",
     "text": [
      "1027/1027 [==============================] - 0s - loss: 4.5004e-04     \n",
      "Epoch 192/200\n",
      "1027/1027 [==============================] - 0s - loss: 4.4019e-04     \n",
      "Epoch 193/200\n",
      "1027/1027 [==============================] - 0s - loss: 4.3810e-04     \n",
      "Epoch 194/200\n",
      "1027/1027 [==============================] - 0s - loss: 4.3982e-04     \n",
      "Epoch 195/200\n",
      "1027/1027 [==============================] - 0s - loss: 4.4283e-04     \n",
      "Epoch 196/200\n",
      "1027/1027 [==============================] - 0s - loss: 4.4225e-04     \n",
      "Epoch 197/200\n",
      "1027/1027 [==============================] - 0s - loss: 4.3330e-04     \n",
      "Epoch 198/200\n",
      "1027/1027 [==============================] - 0s - loss: 4.3265e-04     \n",
      "Epoch 199/200\n",
      "1027/1027 [==============================] - 1s - loss: 4.3657e-04     \n",
      "Epoch 200/200\n",
      "1027/1027 [==============================] - ETA: 0s - loss: 4.2881e-0 - 1s - loss: 4.2909e-04     \n"
     ]
    },
    {
     "data": {
      "text/plain": [
       "<keras.callbacks.History at 0x7f1450cf7c18>"
      ]
     },
     "execution_count": 181,
     "metadata": {},
     "output_type": "execute_result"
    }
   ],
   "source": [
    "myreg.fit(x_train,y_train,batch_size=32,epochs=200)"
   ]
  },
  {
   "cell_type": "code",
   "execution_count": 205,
   "metadata": {
    "collapsed": true
   },
   "outputs": [],
   "source": [
    "test_data = mms.transform(test_data.reshape(len(test_data),1))"
   ]
  },
  {
   "cell_type": "code",
   "execution_count": 206,
   "metadata": {},
   "outputs": [
    {
     "data": {
      "text/plain": [
       "array([[ 0.83564774],\n",
       "       [ 0.85596473],\n",
       "       [ 0.85599402],\n",
       "       [ 0.83529619],\n",
       "       [ 0.83257163],\n",
       "       [ 0.83920724],\n",
       "       [ 0.88577372],\n",
       "       [ 0.91943517],\n",
       "       [ 0.94676862],\n",
       "       [ 0.9484971 ],\n",
       "       [ 0.93260386],\n",
       "       [ 0.91335618],\n",
       "       [ 0.91397141],\n",
       "       [ 0.93223765],\n",
       "       [ 0.94695904],\n",
       "       [ 0.95095799],\n",
       "       [ 0.95829671],\n",
       "       [ 0.95066503],\n",
       "       [ 0.97241753],\n",
       "       [ 0.99704107],\n",
       "       [ 0.99636726],\n",
       "       [ 0.97335501],\n",
       "       [ 0.95059179],\n",
       "       [ 0.92774067],\n",
       "       [ 0.917985  ],\n",
       "       [ 0.88978731],\n",
       "       [ 0.91602215],\n",
       "       [ 0.88526103],\n",
       "       [ 0.93919552],\n",
       "       [ 0.90215035]])"
      ]
     },
     "execution_count": 206,
     "metadata": {},
     "output_type": "execute_result"
    }
   ],
   "source": [
    "test_data"
   ]
  },
  {
   "cell_type": "code",
   "execution_count": 184,
   "metadata": {
    "collapsed": true
   },
   "outputs": [],
   "source": [
    "x_test = []\n",
    "y_test = []\n",
    "for i in range(20,30):\n",
    "    x_test.append(test_data[i-20:i])\n",
    "    y_test.append(test_data[i])\n"
   ]
  },
  {
   "cell_type": "code",
   "execution_count": 185,
   "metadata": {
    "collapsed": true
   },
   "outputs": [],
   "source": [
    "x_test = np.array(x_test)\n",
    "y_test = np.array(y_test)"
   ]
  },
  {
   "cell_type": "code",
   "execution_count": 186,
   "metadata": {
    "collapsed": true
   },
   "outputs": [],
   "source": [
    "x_test = x_test.reshape(10,20,1)"
   ]
  },
  {
   "cell_type": "code",
   "execution_count": null,
   "metadata": {
    "collapsed": true
   },
   "outputs": [],
   "source": []
  },
  {
   "cell_type": "code",
   "execution_count": 187,
   "metadata": {
    "collapsed": true
   },
   "outputs": [],
   "source": [
    "yp = myreg.predict(x_test)"
   ]
  },
  {
   "cell_type": "code",
   "execution_count": 188,
   "metadata": {},
   "outputs": [
    {
     "data": {
      "text/plain": [
       "[<matplotlib.lines.Line2D at 0x7f1450bc4898>]"
      ]
     },
     "execution_count": 188,
     "metadata": {},
     "output_type": "execute_result"
    },
    {
     "data": {
      "image/png": "[encoded data removed]",
      "text/plain": [
       "<Figure size 432x288 with 1 Axes>"
      ]
     },
     "metadata": {},
     "output_type": "display_data"
    }
   ],
   "source": [
    "plt.plot(yp)\n",
    "plt.plot(y_test)\n"
   ]
  },
  {
   "cell_type": "code",
   "execution_count": 64,
   "metadata": {},
   "outputs": [
    {
     "data": {
      "text/plain": [
       "0.00060935113489422659"
      ]
     },
     "execution_count": 64,
     "metadata": {},
     "output_type": "execute_result"
    }
   ],
   "source": [
    "from sklearn.metrics import mean_squared_error\n",
    "mean_squared_error(y_test,yp)"
   ]
  },
  {
   "cell_type": "markdown",
   "metadata": {},
   "source": [
    "# for 60 training examples and four layers "
   ]
  },
  {
   "cell_type": "code",
   "execution_count": 207,
   "metadata": {},
   "outputs": [
    {
     "data": {
      "text/plain": [
       "(1047, 1)"
      ]
     },
     "execution_count": 207,
     "metadata": {},
     "output_type": "execute_result"
    }
   ],
   "source": [
    "train_data.shape"
   ]
  },
  {
   "cell_type": "code",
   "execution_count": 208,
   "metadata": {},
   "outputs": [
    {
     "data": {
      "text/plain": [
       "array([[ 0.10744419],\n",
       "       [ 0.09748345],\n",
       "       [ 0.10581825],\n",
       "       ..., \n",
       "       [ 0.8308578 ],\n",
       "       [ 0.84872854],\n",
       "       [ 0.86264428]])"
      ]
     },
     "execution_count": 208,
     "metadata": {},
     "output_type": "execute_result"
    }
   ],
   "source": [
    "train_data"
   ]
  },
  {
   "cell_type": "code",
   "execution_count": 209,
   "metadata": {},
   "outputs": [
    {
     "data": {
      "text/plain": [
       "(30, 1)"
      ]
     },
     "execution_count": 209,
     "metadata": {},
     "output_type": "execute_result"
    }
   ],
   "source": [
    "test_data.shape"
   ]
  },
  {
   "cell_type": "code",
   "execution_count": 210,
   "metadata": {},
   "outputs": [
    {
     "data": {
      "text/plain": [
       "array([[ 0.83564774],\n",
       "       [ 0.85596473],\n",
       "       [ 0.85599402],\n",
       "       [ 0.83529619],\n",
       "       [ 0.83257163],\n",
       "       [ 0.83920724],\n",
       "       [ 0.88577372],\n",
       "       [ 0.91943517],\n",
       "       [ 0.94676862],\n",
       "       [ 0.9484971 ],\n",
       "       [ 0.93260386],\n",
       "       [ 0.91335618],\n",
       "       [ 0.91397141],\n",
       "       [ 0.93223765],\n",
       "       [ 0.94695904],\n",
       "       [ 0.95095799],\n",
       "       [ 0.95829671],\n",
       "       [ 0.95066503],\n",
       "       [ 0.97241753],\n",
       "       [ 0.99704107],\n",
       "       [ 0.99636726],\n",
       "       [ 0.97335501],\n",
       "       [ 0.95059179],\n",
       "       [ 0.92774067],\n",
       "       [ 0.917985  ],\n",
       "       [ 0.88978731],\n",
       "       [ 0.91602215],\n",
       "       [ 0.88526103],\n",
       "       [ 0.93919552],\n",
       "       [ 0.90215035]])"
      ]
     },
     "execution_count": 210,
     "metadata": {},
     "output_type": "execute_result"
    }
   ],
   "source": [
    "test_data"
   ]
  },
  {
   "cell_type": "code",
   "execution_count": 211,
   "metadata": {
    "collapsed": true
   },
   "outputs": [],
   "source": [
    "from sklearn.preprocessing import MinMaxScaler\n",
    "mms = MinMaxScaler()\n",
    "train_data = mms.fit_transform(train_data.reshape(len(train_data),1))\n"
   ]
  },
  {
   "cell_type": "code",
   "execution_count": 212,
   "metadata": {},
   "outputs": [
    {
     "data": {
      "text/plain": [
       "(1047, 1)"
      ]
     },
     "execution_count": 212,
     "metadata": {},
     "output_type": "execute_result"
    }
   ],
   "source": [
    "train_data.shape"
   ]
  },
  {
   "cell_type": "code",
   "execution_count": 213,
   "metadata": {},
   "outputs": [
    {
     "data": {
      "text/plain": [
       "array([[ 0.10744419],\n",
       "       [ 0.09748345],\n",
       "       [ 0.10581825],\n",
       "       ..., \n",
       "       [ 0.8308578 ],\n",
       "       [ 0.84872854],\n",
       "       [ 0.86264428]])"
      ]
     },
     "execution_count": 213,
     "metadata": {},
     "output_type": "execute_result"
    }
   ],
   "source": [
    "train_data\n"
   ]
  },
  {
   "cell_type": "code",
   "execution_count": 214,
   "metadata": {
    "collapsed": true
   },
   "outputs": [],
   "source": [
    "x_train = []\n",
    "y_train =[]\n",
    "for i in range(60,len(train_data)):\n",
    "    x_train.append(train_data[i-60:i])\n",
    "    y_train.append(train_data[i])\n",
    "x_train,y_train = np.array(x_train),np.array(y_train)"
   ]
  },
  {
   "cell_type": "code",
   "execution_count": 215,
   "metadata": {},
   "outputs": [
    {
     "data": {
      "text/plain": [
       "(987, 60, 1)"
      ]
     },
     "execution_count": 215,
     "metadata": {},
     "output_type": "execute_result"
    }
   ],
   "source": [
    "x_train.shape"
   ]
  },
  {
   "cell_type": "code",
   "execution_count": 216,
   "metadata": {},
   "outputs": [
    {
     "data": {
      "text/plain": [
       "(987, 1)"
      ]
     },
     "execution_count": 216,
     "metadata": {},
     "output_type": "execute_result"
    }
   ],
   "source": [
    "y_train.shape"
   ]
  },
  {
   "cell_type": "code",
   "execution_count": 217,
   "metadata": {
    "collapsed": true
   },
   "outputs": [],
   "source": [
    "from keras.models import Sequential\n",
    "from keras.layers import Dense\n",
    "from keras.layers import LSTM"
   ]
  },
  {
   "cell_type": "code",
   "execution_count": 218,
   "metadata": {
    "collapsed": true
   },
   "outputs": [],
   "source": [
    "myreg = Sequential()\n",
    "myreg.add(LSTM(units=4,activation='sigmoid',input_shape=(None,1),return_sequences=True))\n",
    "myreg.add(LSTM(units=4,activation='sigmoid',return_sequences=True))\n",
    "myreg.add(LSTM(units=4,activation='sigmoid',return_sequences=True))\n",
    "myreg.add(LSTM(units=4,activation='sigmoid'))\n",
    "myreg.add(Dense(units=1))\n",
    "myreg.compile(optimizer='adam',loss='mean_squared_error')"
   ]
  },
  {
   "cell_type": "code",
   "execution_count": 219,
   "metadata": {},
   "outputs": [
    {
     "name": "stdout",
     "output_type": "stream",
     "text": [
      "Epoch 1/10\n",
      "987/987 [==============================] - 6s - loss: 0.3411     \n",
      "Epoch 2/10\n",
      "987/987 [==============================] - 5s - loss: 0.2287     \n",
      "Epoch 3/10\n",
      "987/987 [==============================] - 5s - loss: 0.1534     \n",
      "Epoch 4/10\n",
      "987/987 [==============================] - 6s - loss: 0.1057     \n",
      "Epoch 5/10\n",
      "987/987 [==============================] - 5s - loss: 0.0810     \n",
      "Epoch 6/10\n",
      "987/987 [==============================] - 5s - loss: 0.0723     \n",
      "Epoch 7/10\n",
      "987/987 [==============================] - 5s - loss: 0.0702     \n",
      "Epoch 8/10\n",
      "987/987 [==============================] - 5s - loss: 0.0700     \n",
      "Epoch 9/10\n",
      "987/987 [==============================] - 5s - loss: 0.0699     \n",
      "Epoch 10/10\n",
      "987/987 [==============================] - 6s - loss: 0.0700     \n"
     ]
    },
    {
     "data": {
      "text/plain": [
       "<keras.callbacks.History at 0x7f1449973f60>"
      ]
     },
     "execution_count": 219,
     "metadata": {},
     "output_type": "execute_result"
    }
   ],
   "source": [
    "myreg.fit(x_train,y_train)"
   ]
  },
  {
   "cell_type": "code",
   "execution_count": 220,
   "metadata": {
    "collapsed": true
   },
   "outputs": [],
   "source": [
    "test_data = mms.transform(test_data.reshape(len(test_data),1))"
   ]
  },
  {
   "cell_type": "code",
   "execution_count": null,
   "metadata": {
    "collapsed": true
   },
   "outputs": [],
   "source": []
  },
  {
   "cell_type": "code",
   "execution_count": null,
   "metadata": {
    "collapsed": true
   },
   "outputs": [],
   "source": []
  }
 ],
 "metadata": {
  "kernelspec": {
   "display_name": "Python 3",
   "language": "python",
   "name": "python3"
  },
  "language_info": {
   "codemirror_mode": {
    "name": "ipython",
    "version": 3
   },
   "file_extension": ".py",
   "mimetype": "text/x-python",
   "name": "python",
   "nbconvert_exporter": "python",
   "pygments_lexer": "ipython3",
   "version": "3.6.5"
  }
 },
 "nbformat": 4,
 "nbformat_minor": 2
}
