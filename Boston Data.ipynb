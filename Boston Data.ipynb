{
 "cells": [
  {
   "cell_type": "code",
   "execution_count": 2,
   "metadata": {
    "collapsed": true
   },
   "outputs": [],
   "source": [
    "import pandas as pd\n",
    "import matplotlib.pyplot as plt\n",
    "import seaborn as sns\n",
    "%matplotlib inline\n"
   ]
  },
  {
   "cell_type": "code",
   "execution_count": 3,
   "metadata": {
    "collapsed": true
   },
   "outputs": [],
   "source": [
    "data_train = pd.read_csv(\"/home/vatsal/Downloads/boston_data.csv\")\n",
    "data_test = pd.read_csv(\"/home/vatsal/Downloads/boston_test_data.csv\")"
   ]
  },
  {
   "cell_type": "code",
   "execution_count": 4,
   "metadata": {},
   "outputs": [
    {
     "data": {
      "text/html": [
       "<div>\n",
       "<style>\n",
       "    .dataframe thead tr:only-child th {\n",
       "        text-align: right;\n",
       "    }\n",
       "\n",
       "    .dataframe thead th {\n",
       "        text-align: left;\n",
       "    }\n",
       "\n",
       "    .dataframe tbody tr th {\n",
       "        vertical-align: top;\n",
       "    }\n",
       "</style>\n",
       "<table border=\"1\" class=\"dataframe\">\n",
       "  <thead>\n",
       "    <tr style=\"text-align: right;\">\n",
       "      <th></th>\n",
       "      <th>crim</th>\n",
       "      <th>zn</th>\n",
       "      <th>indus</th>\n",
       "      <th>chas</th>\n",
       "      <th>nox</th>\n",
       "      <th>rm</th>\n",
       "      <th>age</th>\n",
       "      <th>dis</th>\n",
       "      <th>rad</th>\n",
       "      <th>tax</th>\n",
       "      <th>ptratio</th>\n",
       "      <th>black</th>\n",
       "      <th>lstat</th>\n",
       "      <th>medv</th>\n",
       "    </tr>\n",
       "  </thead>\n",
       "  <tbody>\n",
       "    <tr>\n",
       "      <th>0</th>\n",
       "      <td>0.15876</td>\n",
       "      <td>0.0</td>\n",
       "      <td>10.81</td>\n",
       "      <td>0.0</td>\n",
       "      <td>0.413</td>\n",
       "      <td>5.961</td>\n",
       "      <td>17.5</td>\n",
       "      <td>5.2873</td>\n",
       "      <td>4.0</td>\n",
       "      <td>305.0</td>\n",
       "      <td>19.2</td>\n",
       "      <td>376.94</td>\n",
       "      <td>9.88</td>\n",
       "      <td>21.7</td>\n",
       "    </tr>\n",
       "    <tr>\n",
       "      <th>1</th>\n",
       "      <td>0.10328</td>\n",
       "      <td>25.0</td>\n",
       "      <td>5.13</td>\n",
       "      <td>0.0</td>\n",
       "      <td>0.453</td>\n",
       "      <td>5.927</td>\n",
       "      <td>47.2</td>\n",
       "      <td>6.9320</td>\n",
       "      <td>8.0</td>\n",
       "      <td>284.0</td>\n",
       "      <td>19.7</td>\n",
       "      <td>396.90</td>\n",
       "      <td>9.22</td>\n",
       "      <td>19.6</td>\n",
       "    </tr>\n",
       "    <tr>\n",
       "      <th>2</th>\n",
       "      <td>0.34940</td>\n",
       "      <td>0.0</td>\n",
       "      <td>9.90</td>\n",
       "      <td>0.0</td>\n",
       "      <td>0.544</td>\n",
       "      <td>5.972</td>\n",
       "      <td>76.7</td>\n",
       "      <td>3.1025</td>\n",
       "      <td>4.0</td>\n",
       "      <td>304.0</td>\n",
       "      <td>18.4</td>\n",
       "      <td>396.24</td>\n",
       "      <td>9.97</td>\n",
       "      <td>20.3</td>\n",
       "    </tr>\n",
       "    <tr>\n",
       "      <th>3</th>\n",
       "      <td>2.73397</td>\n",
       "      <td>0.0</td>\n",
       "      <td>19.58</td>\n",
       "      <td>0.0</td>\n",
       "      <td>0.871</td>\n",
       "      <td>5.597</td>\n",
       "      <td>94.9</td>\n",
       "      <td>1.5257</td>\n",
       "      <td>5.0</td>\n",
       "      <td>403.0</td>\n",
       "      <td>14.7</td>\n",
       "      <td>351.85</td>\n",
       "      <td>21.45</td>\n",
       "      <td>15.4</td>\n",
       "    </tr>\n",
       "    <tr>\n",
       "      <th>4</th>\n",
       "      <td>0.04337</td>\n",
       "      <td>21.0</td>\n",
       "      <td>5.64</td>\n",
       "      <td>0.0</td>\n",
       "      <td>0.439</td>\n",
       "      <td>6.115</td>\n",
       "      <td>63.0</td>\n",
       "      <td>6.8147</td>\n",
       "      <td>4.0</td>\n",
       "      <td>243.0</td>\n",
       "      <td>16.8</td>\n",
       "      <td>393.97</td>\n",
       "      <td>9.43</td>\n",
       "      <td>20.5</td>\n",
       "    </tr>\n",
       "  </tbody>\n",
       "</table>\n",
       "</div>"
      ],
      "text/plain": [
       "      crim    zn  indus  chas    nox     rm   age     dis  rad    tax  \\\n",
       "0  0.15876   0.0  10.81   0.0  0.413  5.961  17.5  5.2873  4.0  305.0   \n",
       "1  0.10328  25.0   5.13   0.0  0.453  5.927  47.2  6.9320  8.0  284.0   \n",
       "2  0.34940   0.0   9.90   0.0  0.544  5.972  76.7  3.1025  4.0  304.0   \n",
       "3  2.73397   0.0  19.58   0.0  0.871  5.597  94.9  1.5257  5.0  403.0   \n",
       "4  0.04337  21.0   5.64   0.0  0.439  6.115  63.0  6.8147  4.0  243.0   \n",
       "\n",
       "   ptratio   black  lstat  medv  \n",
       "0     19.2  376.94   9.88  21.7  \n",
       "1     19.7  396.90   9.22  19.6  \n",
       "2     18.4  396.24   9.97  20.3  \n",
       "3     14.7  351.85  21.45  15.4  \n",
       "4     16.8  393.97   9.43  20.5  "
      ]
     },
     "execution_count": 4,
     "metadata": {},
     "output_type": "execute_result"
    }
   ],
   "source": [
    "data_train.head()"
   ]
  },
  {
   "cell_type": "code",
   "execution_count": 5,
   "metadata": {
    "collapsed": true
   },
   "outputs": [],
   "source": [
    "from sklearn.preprocessing import StandardScaler"
   ]
  },
  {
   "cell_type": "code",
   "execution_count": 6,
   "metadata": {
    "collapsed": true
   },
   "outputs": [],
   "source": [
    "ss = StandardScaler()"
   ]
  },
  {
   "cell_type": "code",
   "execution_count": 7,
   "metadata": {
    "collapsed": true
   },
   "outputs": [],
   "source": [
    "scaled_data_train = ss.fit_transform(data_train.drop('medv',axis=1))\n",
    "scaled_data_test = ss.fit_transform(data_test)"
   ]
  },
  {
   "cell_type": "code",
   "execution_count": 8,
   "metadata": {},
   "outputs": [
    {
     "data": {
      "text/plain": [
       "(102, 13)"
      ]
     },
     "execution_count": 8,
     "metadata": {},
     "output_type": "execute_result"
    }
   ],
   "source": [
    "scaled_data_test.shape"
   ]
  },
  {
   "cell_type": "code",
   "execution_count": 28,
   "metadata": {
    "collapsed": true
   },
   "outputs": [],
   "source": [
    "from sklearn.linear_model import LinearRegression"
   ]
  },
  {
   "cell_type": "code",
   "execution_count": 29,
   "metadata": {
    "collapsed": true
   },
   "outputs": [],
   "source": [
    "mylr = LinearRegression()"
   ]
  },
  {
   "cell_type": "code",
   "execution_count": 9,
   "metadata": {
    "collapsed": true
   },
   "outputs": [],
   "source": [
    "from sklearn.model_selection import train_test_split"
   ]
  },
  {
   "cell_type": "code",
   "execution_count": 10,
   "metadata": {
    "collapsed": true
   },
   "outputs": [],
   "source": [
    "x_train,x_test,y_train,y_test = train_test_split(scaled_data_train,data_train['medv'],test_size=0.3)"
   ]
  },
  {
   "cell_type": "code",
   "execution_count": 30,
   "metadata": {},
   "outputs": [
    {
     "data": {
      "text/plain": [
       "LinearRegression(copy_X=True, fit_intercept=True, n_jobs=1, normalize=False)"
      ]
     },
     "execution_count": 30,
     "metadata": {},
     "output_type": "execute_result"
    }
   ],
   "source": [
    "mylr.fit(x_train,y_train)"
   ]
  },
  {
   "cell_type": "code",
   "execution_count": 31,
   "metadata": {
    "collapsed": true
   },
   "outputs": [],
   "source": [
    "yp = mylr.predict(x_test)"
   ]
  },
  {
   "cell_type": "code",
   "execution_count": 11,
   "metadata": {
    "collapsed": true
   },
   "outputs": [],
   "source": [
    "from sklearn.metrics import r2_score,average_precision_score,mean_squared_error"
   ]
  },
  {
   "cell_type": "code",
   "execution_count": 32,
   "metadata": {},
   "outputs": [
    {
     "data": {
      "text/plain": [
       "27.314723761225487"
      ]
     },
     "execution_count": 32,
     "metadata": {},
     "output_type": "execute_result"
    }
   ],
   "source": [
    "mean_squared_error(y_test,yp)"
   ]
  },
  {
   "cell_type": "code",
   "execution_count": 28,
   "metadata": {
    "collapsed": true
   },
   "outputs": [],
   "source": [
    "from sklearn.tree import DecisionTreeRegressor"
   ]
  },
  {
   "cell_type": "code",
   "execution_count": 29,
   "metadata": {
    "collapsed": true
   },
   "outputs": [],
   "source": [
    "myrfr = DecisionTreeRegressor(max_depth=4)"
   ]
  },
  {
   "cell_type": "code",
   "execution_count": 30,
   "metadata": {},
   "outputs": [
    {
     "data": {
      "text/plain": [
       "DecisionTreeRegressor(criterion='mse', max_depth=4, max_features=None,\n",
       "           max_leaf_nodes=None, min_impurity_decrease=0.0,\n",
       "           min_impurity_split=None, min_samples_leaf=1,\n",
       "           min_samples_split=2, min_weight_fraction_leaf=0.0,\n",
       "           presort=False, random_state=None, splitter='best')"
      ]
     },
     "execution_count": 30,
     "metadata": {},
     "output_type": "execute_result"
    }
   ],
   "source": [
    "myrfr.fit(x_train,y_train)"
   ]
  },
  {
   "cell_type": "code",
   "execution_count": 31,
   "metadata": {
    "collapsed": true
   },
   "outputs": [],
   "source": [
    "yp = myrfr.predict(x_test)"
   ]
  },
  {
   "cell_type": "code",
   "execution_count": 32,
   "metadata": {},
   "outputs": [
    {
     "data": {
      "text/plain": [
       "0.78735028914257099"
      ]
     },
     "execution_count": 32,
     "metadata": {},
     "output_type": "execute_result"
    }
   ],
   "source": [
    "r2_score(y_test,yp)"
   ]
  },
  {
   "cell_type": "code",
   "execution_count": 11,
   "metadata": {
    "collapsed": true
   },
   "outputs": [],
   "source": [
    "from sklearn.svm import SVR"
   ]
  },
  {
   "cell_type": "code",
   "execution_count": 40,
   "metadata": {},
   "outputs": [
    {
     "name": "stderr",
     "output_type": "stream",
     "text": [
      "/home/vatsal/anaconda3/lib/python3.6/site-packages/sklearn/cross_validation.py:41: DeprecationWarning: This module was deprecated in version 0.18 in favor of the model_selection module into which all the refactored classes and functions are moved. Also note that the interface of the new CV iterators are different from that of this module. This module will be removed in 0.20.\n",
      "  \"This module will be removed in 0.20.\", DeprecationWarning)\n",
      "/home/vatsal/anaconda3/lib/python3.6/site-packages/sklearn/grid_search.py:42: DeprecationWarning: This module was deprecated in version 0.18 in favor of the model_selection module into which all the refactored classes and functions are moved. This module will be removed in 0.20.\n",
      "  DeprecationWarning)\n"
     ]
    }
   ],
   "source": [
    "from sklearn.grid_search import GridSearchCV"
   ]
  },
  {
   "cell_type": "code",
   "execution_count": 13,
   "metadata": {
    "collapsed": true
   },
   "outputs": [],
   "source": [
    "param_grid = {'C':[500,600,700,800,900,1000],'gamma':[1,0.1,0.01,0.001,0.0001],'kernel':['linear','poly','rbf'] }"
   ]
  },
  {
   "cell_type": "code",
   "execution_count": 14,
   "metadata": {
    "collapsed": true
   },
   "outputs": [],
   "source": [
    "grid = GridSearchCV(SVR(),param_grid,refit=True,verbose=3)"
   ]
  },
  {
   "cell_type": "code",
   "execution_count": 15,
   "metadata": {},
   "outputs": [
    {
     "name": "stdout",
     "output_type": "stream",
     "text": [
      "Fitting 3 folds for each of 90 candidates, totalling 270 fits\n",
      "[CV] C=500, gamma=1, kernel=linear ...................................\n",
      "[CV] .......... C=500, gamma=1, kernel=linear, score=0.816606 -   1.2s\n",
      "[CV] C=500, gamma=1, kernel=linear ...................................\n"
     ]
    },
    {
     "name": "stderr",
     "output_type": "stream",
     "text": [
      "[Parallel(n_jobs=1)]: Done   1 out of   1 | elapsed:    1.2s remaining:    0.0s\n"
     ]
    },
    {
     "name": "stdout",
     "output_type": "stream",
     "text": [
      "[CV] .......... C=500, gamma=1, kernel=linear, score=0.669914 -   0.6s\n",
      "[CV] C=500, gamma=1, kernel=linear ...................................\n"
     ]
    },
    {
     "name": "stderr",
     "output_type": "stream",
     "text": [
      "[Parallel(n_jobs=1)]: Done   2 out of   2 | elapsed:    1.8s remaining:    0.0s\n"
     ]
    },
    {
     "name": "stdout",
     "output_type": "stream",
     "text": [
      "[CV] .......... C=500, gamma=1, kernel=linear, score=0.734981 -   0.9s\n",
      "[CV] C=500, gamma=1, kernel=poly .....................................\n",
      "[CV] ........... C=500, gamma=1, kernel=poly, score=-3.306444 -   2.2s\n",
      "[CV] C=500, gamma=1, kernel=poly .....................................\n",
      "[CV] ........... C=500, gamma=1, kernel=poly, score=-4.450347 -   1.6s\n",
      "[CV] C=500, gamma=1, kernel=poly .....................................\n",
      "[CV] ........... C=500, gamma=1, kernel=poly, score=-9.990831 -   3.2s\n",
      "[CV] C=500, gamma=1, kernel=rbf ......................................\n",
      "[CV] ............. C=500, gamma=1, kernel=rbf, score=0.489163 -   0.0s\n",
      "[CV] C=500, gamma=1, kernel=rbf ......................................\n",
      "[CV] ............. C=500, gamma=1, kernel=rbf, score=0.517281 -   0.0s\n",
      "[CV] C=500, gamma=1, kernel=rbf ......................................\n",
      "[CV] ............. C=500, gamma=1, kernel=rbf, score=0.431596 -   0.0s\n",
      "[CV] C=500, gamma=0.1, kernel=linear .................................\n",
      "[CV] ........ C=500, gamma=0.1, kernel=linear, score=0.816606 -   1.1s\n",
      "[CV] C=500, gamma=0.1, kernel=linear .................................\n",
      "[CV] ........ C=500, gamma=0.1, kernel=linear, score=0.669914 -   0.6s\n",
      "[CV] C=500, gamma=0.1, kernel=linear .................................\n",
      "[CV] ........ C=500, gamma=0.1, kernel=linear, score=0.734981 -   0.9s\n",
      "[CV] C=500, gamma=0.1, kernel=poly ...................................\n",
      "[CV] ......... C=500, gamma=0.1, kernel=poly, score=-0.351353 -   0.4s\n",
      "[CV] C=500, gamma=0.1, kernel=poly ...................................\n",
      "[CV] ......... C=500, gamma=0.1, kernel=poly, score=-0.248619 -   0.3s\n",
      "[CV] C=500, gamma=0.1, kernel=poly ...................................\n",
      "[CV] .......... C=500, gamma=0.1, kernel=poly, score=0.017170 -   0.4s\n",
      "[CV] C=500, gamma=0.1, kernel=rbf ....................................\n",
      "[CV] ........... C=500, gamma=0.1, kernel=rbf, score=0.814926 -   0.1s\n",
      "[CV] C=500, gamma=0.1, kernel=rbf ....................................\n",
      "[CV] ........... C=500, gamma=0.1, kernel=rbf, score=0.766665 -   0.1s\n",
      "[CV] C=500, gamma=0.1, kernel=rbf ....................................\n",
      "[CV] ........... C=500, gamma=0.1, kernel=rbf, score=0.766404 -   0.1s\n",
      "[CV] C=500, gamma=0.01, kernel=linear ................................\n",
      "[CV] ....... C=500, gamma=0.01, kernel=linear, score=0.816606 -   1.2s\n",
      "[CV] C=500, gamma=0.01, kernel=linear ................................\n",
      "[CV] ....... C=500, gamma=0.01, kernel=linear, score=0.669914 -   0.6s\n",
      "[CV] C=500, gamma=0.01, kernel=linear ................................\n",
      "[CV] ....... C=500, gamma=0.01, kernel=linear, score=0.734981 -   0.9s\n",
      "[CV] C=500, gamma=0.01, kernel=poly ..................................\n",
      "[CV] ......... C=500, gamma=0.01, kernel=poly, score=0.648207 -   0.0s\n",
      "[CV] C=500, gamma=0.01, kernel=poly ..................................\n",
      "[CV] ......... C=500, gamma=0.01, kernel=poly, score=0.571834 -   0.0s\n",
      "[CV] C=500, gamma=0.01, kernel=poly ..................................\n",
      "[CV] ......... C=500, gamma=0.01, kernel=poly, score=0.610793 -   0.0s\n",
      "[CV] C=500, gamma=0.01, kernel=rbf ...................................\n",
      "[CV] .......... C=500, gamma=0.01, kernel=rbf, score=0.855098 -   0.0s\n",
      "[CV] C=500, gamma=0.01, kernel=rbf ...................................\n",
      "[CV] .......... C=500, gamma=0.01, kernel=rbf, score=0.804020 -   0.0s\n",
      "[CV] C=500, gamma=0.01, kernel=rbf ...................................\n",
      "[CV] .......... C=500, gamma=0.01, kernel=rbf, score=0.772444 -   0.0s\n",
      "[CV] C=500, gamma=0.001, kernel=linear ...............................\n",
      "[CV] ...... C=500, gamma=0.001, kernel=linear, score=0.816606 -   1.2s\n",
      "[CV] C=500, gamma=0.001, kernel=linear ...............................\n",
      "[CV] ...... C=500, gamma=0.001, kernel=linear, score=0.669914 -   0.6s\n",
      "[CV] C=500, gamma=0.001, kernel=linear ...............................\n",
      "[CV] ...... C=500, gamma=0.001, kernel=linear, score=0.734981 -   0.9s\n",
      "[CV] C=500, gamma=0.001, kernel=poly .................................\n",
      "[CV] ....... C=500, gamma=0.001, kernel=poly, score=-0.005002 -   0.0s\n",
      "[CV] C=500, gamma=0.001, kernel=poly .................................\n",
      "[CV] ....... C=500, gamma=0.001, kernel=poly, score=-0.019537 -   0.0s\n",
      "[CV] C=500, gamma=0.001, kernel=poly .................................\n",
      "[CV] ....... C=500, gamma=0.001, kernel=poly, score=-0.025650 -   0.0s\n",
      "[CV] C=500, gamma=0.001, kernel=rbf ..................................\n",
      "[CV] ......... C=500, gamma=0.001, kernel=rbf, score=0.834614 -   0.0s\n",
      "[CV] C=500, gamma=0.001, kernel=rbf ..................................\n",
      "[CV] ......... C=500, gamma=0.001, kernel=rbf, score=0.749739 -   0.0s\n",
      "[CV] C=500, gamma=0.001, kernel=rbf ..................................\n",
      "[CV] ......... C=500, gamma=0.001, kernel=rbf, score=0.763203 -   0.0s\n",
      "[CV] C=500, gamma=0.0001, kernel=linear ..............................\n",
      "[CV] ..... C=500, gamma=0.0001, kernel=linear, score=0.816606 -   1.2s\n",
      "[CV] C=500, gamma=0.0001, kernel=linear ..............................\n",
      "[CV] ..... C=500, gamma=0.0001, kernel=linear, score=0.669914 -   0.7s\n",
      "[CV] C=500, gamma=0.0001, kernel=linear ..............................\n",
      "[CV] ..... C=500, gamma=0.0001, kernel=linear, score=0.734981 -   0.9s\n",
      "[CV] C=500, gamma=0.0001, kernel=poly ................................\n",
      "[CV] ...... C=500, gamma=0.0001, kernel=poly, score=-0.014415 -   0.0s\n",
      "[CV] C=500, gamma=0.0001, kernel=poly ................................\n",
      "[CV] ...... C=500, gamma=0.0001, kernel=poly, score=-0.027309 -   0.0s\n",
      "[CV] C=500, gamma=0.0001, kernel=poly ................................\n",
      "[CV] ...... C=500, gamma=0.0001, kernel=poly, score=-0.034020 -   0.0s\n",
      "[CV] C=500, gamma=0.0001, kernel=rbf .................................\n",
      "[CV] ........ C=500, gamma=0.0001, kernel=rbf, score=0.792871 -   0.0s\n",
      "[CV] C=500, gamma=0.0001, kernel=rbf .................................\n",
      "[CV] ........ C=500, gamma=0.0001, kernel=rbf, score=0.676333 -   0.0s\n",
      "[CV] C=500, gamma=0.0001, kernel=rbf .................................\n",
      "[CV] ........ C=500, gamma=0.0001, kernel=rbf, score=0.692024 -   0.0s\n",
      "[CV] C=600, gamma=1, kernel=linear ...................................\n",
      "[CV] .......... C=600, gamma=1, kernel=linear, score=0.816660 -   3.7s\n",
      "[CV] C=600, gamma=1, kernel=linear ...................................\n",
      "[CV] .......... C=600, gamma=1, kernel=linear, score=0.669912 -   0.9s\n",
      "[CV] C=600, gamma=1, kernel=linear ...................................\n",
      "[CV] .......... C=600, gamma=1, kernel=linear, score=0.734980 -   1.4s\n",
      "[CV] C=600, gamma=1, kernel=poly .....................................\n",
      "[CV] ........... C=600, gamma=1, kernel=poly, score=-3.306444 -   2.1s\n",
      "[CV] C=600, gamma=1, kernel=poly .....................................\n",
      "[CV] ........... C=600, gamma=1, kernel=poly, score=-4.450347 -   1.6s\n",
      "[CV] C=600, gamma=1, kernel=poly .....................................\n",
      "[CV] ........... C=600, gamma=1, kernel=poly, score=-9.990831 -   3.5s\n",
      "[CV] C=600, gamma=1, kernel=rbf ......................................\n",
      "[CV] ............. C=600, gamma=1, kernel=rbf, score=0.489163 -   0.0s\n",
      "[CV] C=600, gamma=1, kernel=rbf ......................................\n",
      "[CV] ............. C=600, gamma=1, kernel=rbf, score=0.517281 -   0.0s\n",
      "[CV] C=600, gamma=1, kernel=rbf ......................................\n",
      "[CV] ............. C=600, gamma=1, kernel=rbf, score=0.431596 -   0.0s\n",
      "[CV] C=600, gamma=0.1, kernel=linear .................................\n",
      "[CV] ........ C=600, gamma=0.1, kernel=linear, score=0.816660 -   3.9s\n",
      "[CV] C=600, gamma=0.1, kernel=linear .................................\n",
      "[CV] ........ C=600, gamma=0.1, kernel=linear, score=0.669912 -   1.0s\n",
      "[CV] C=600, gamma=0.1, kernel=linear .................................\n",
      "[CV] ........ C=600, gamma=0.1, kernel=linear, score=0.734980 -   1.4s\n",
      "[CV] C=600, gamma=0.1, kernel=poly ...................................\n",
      "[CV] ......... C=600, gamma=0.1, kernel=poly, score=-0.566208 -   0.3s\n",
      "[CV] C=600, gamma=0.1, kernel=poly ...................................\n",
      "[CV] ......... C=600, gamma=0.1, kernel=poly, score=-0.188066 -   0.4s\n",
      "[CV] C=600, gamma=0.1, kernel=poly ...................................\n",
      "[CV] ......... C=600, gamma=0.1, kernel=poly, score=-0.008656 -   0.3s\n",
      "[CV] C=600, gamma=0.1, kernel=rbf ....................................\n",
      "[CV] ........... C=600, gamma=0.1, kernel=rbf, score=0.814247 -   0.1s\n",
      "[CV] C=600, gamma=0.1, kernel=rbf ....................................\n",
      "[CV] ........... C=600, gamma=0.1, kernel=rbf, score=0.758873 -   0.1s\n",
      "[CV] C=600, gamma=0.1, kernel=rbf ....................................\n"
     ]
    },
    {
     "name": "stdout",
     "output_type": "stream",
     "text": [
      "[CV] ........... C=600, gamma=0.1, kernel=rbf, score=0.761747 -   0.1s\n",
      "[CV] C=600, gamma=0.01, kernel=linear ................................\n",
      "[CV] ....... C=600, gamma=0.01, kernel=linear, score=0.816660 -   4.2s\n",
      "[CV] C=600, gamma=0.01, kernel=linear ................................\n",
      "[CV] ....... C=600, gamma=0.01, kernel=linear, score=0.669912 -   0.9s\n",
      "[CV] C=600, gamma=0.01, kernel=linear ................................\n",
      "[CV] ....... C=600, gamma=0.01, kernel=linear, score=0.734980 -   1.5s\n",
      "[CV] C=600, gamma=0.01, kernel=poly ..................................\n",
      "[CV] ......... C=600, gamma=0.01, kernel=poly, score=0.651300 -   0.0s\n",
      "[CV] C=600, gamma=0.01, kernel=poly ..................................\n",
      "[CV] ......... C=600, gamma=0.01, kernel=poly, score=0.580175 -   0.0s\n",
      "[CV] C=600, gamma=0.01, kernel=poly ..................................\n",
      "[CV] ......... C=600, gamma=0.01, kernel=poly, score=0.631527 -   0.0s\n",
      "[CV] C=600, gamma=0.01, kernel=rbf ...................................\n",
      "[CV] .......... C=600, gamma=0.01, kernel=rbf, score=0.853884 -   0.0s\n",
      "[CV] C=600, gamma=0.01, kernel=rbf ...................................\n",
      "[CV] .......... C=600, gamma=0.01, kernel=rbf, score=0.799278 -   0.0s\n",
      "[CV] C=600, gamma=0.01, kernel=rbf ...................................\n",
      "[CV] .......... C=600, gamma=0.01, kernel=rbf, score=0.769369 -   0.0s\n",
      "[CV] C=600, gamma=0.001, kernel=linear ...............................\n",
      "[CV] ...... C=600, gamma=0.001, kernel=linear, score=0.816660 -   3.6s\n",
      "[CV] C=600, gamma=0.001, kernel=linear ...............................\n",
      "[CV] ...... C=600, gamma=0.001, kernel=linear, score=0.669912 -   0.9s\n",
      "[CV] C=600, gamma=0.001, kernel=linear ...............................\n",
      "[CV] ...... C=600, gamma=0.001, kernel=linear, score=0.734980 -   1.5s\n",
      "[CV] C=600, gamma=0.001, kernel=poly .................................\n",
      "[CV] ....... C=600, gamma=0.001, kernel=poly, score=-0.003195 -   0.0s\n",
      "[CV] C=600, gamma=0.001, kernel=poly .................................\n",
      "[CV] ....... C=600, gamma=0.001, kernel=poly, score=-0.017991 -   0.0s\n",
      "[CV] C=600, gamma=0.001, kernel=poly .................................\n",
      "[CV] ....... C=600, gamma=0.001, kernel=poly, score=-0.023984 -   0.0s\n",
      "[CV] C=600, gamma=0.001, kernel=rbf ..................................\n",
      "[CV] ......... C=600, gamma=0.001, kernel=rbf, score=0.836037 -   0.0s\n",
      "[CV] C=600, gamma=0.001, kernel=rbf ..................................\n",
      "[CV] ......... C=600, gamma=0.001, kernel=rbf, score=0.760364 -   0.0s\n",
      "[CV] C=600, gamma=0.001, kernel=rbf ..................................\n",
      "[CV] ......... C=600, gamma=0.001, kernel=rbf, score=0.766998 -   0.0s\n",
      "[CV] C=600, gamma=0.0001, kernel=linear ..............................\n",
      "[CV] ..... C=600, gamma=0.0001, kernel=linear, score=0.816660 -   3.8s\n",
      "[CV] C=600, gamma=0.0001, kernel=linear ..............................\n",
      "[CV] ..... C=600, gamma=0.0001, kernel=linear, score=0.669912 -   1.0s\n",
      "[CV] C=600, gamma=0.0001, kernel=linear ..............................\n",
      "[CV] ..... C=600, gamma=0.0001, kernel=linear, score=0.734980 -   1.5s\n",
      "[CV] C=600, gamma=0.0001, kernel=poly ................................\n",
      "[CV] ...... C=600, gamma=0.0001, kernel=poly, score=-0.014413 -   0.0s\n",
      "[CV] C=600, gamma=0.0001, kernel=poly ................................\n",
      "[CV] ...... C=600, gamma=0.0001, kernel=poly, score=-0.027308 -   0.0s\n",
      "[CV] C=600, gamma=0.0001, kernel=poly ................................\n",
      "[CV] ...... C=600, gamma=0.0001, kernel=poly, score=-0.034018 -   0.0s\n",
      "[CV] C=600, gamma=0.0001, kernel=rbf .................................\n",
      "[CV] ........ C=600, gamma=0.0001, kernel=rbf, score=0.795070 -   0.0s\n",
      "[CV] C=600, gamma=0.0001, kernel=rbf .................................\n",
      "[CV] ........ C=600, gamma=0.0001, kernel=rbf, score=0.683184 -   0.0s\n",
      "[CV] C=600, gamma=0.0001, kernel=rbf .................................\n",
      "[CV] ........ C=600, gamma=0.0001, kernel=rbf, score=0.702512 -   0.0s\n",
      "[CV] C=700, gamma=1, kernel=linear ...................................\n",
      "[CV] .......... C=700, gamma=1, kernel=linear, score=0.816650 -   1.4s\n",
      "[CV] C=700, gamma=1, kernel=linear ...................................\n",
      "[CV] .......... C=700, gamma=1, kernel=linear, score=0.669879 -   0.7s\n",
      "[CV] C=700, gamma=1, kernel=linear ...................................\n",
      "[CV] .......... C=700, gamma=1, kernel=linear, score=0.734976 -   1.1s\n",
      "[CV] C=700, gamma=1, kernel=poly .....................................\n",
      "[CV] ........... C=700, gamma=1, kernel=poly, score=-3.306444 -   2.2s\n",
      "[CV] C=700, gamma=1, kernel=poly .....................................\n",
      "[CV] ........... C=700, gamma=1, kernel=poly, score=-4.450347 -   1.7s\n",
      "[CV] C=700, gamma=1, kernel=poly .....................................\n",
      "[CV] ........... C=700, gamma=1, kernel=poly, score=-9.990831 -   3.3s\n",
      "[CV] C=700, gamma=1, kernel=rbf ......................................\n",
      "[CV] ............. C=700, gamma=1, kernel=rbf, score=0.489163 -   0.0s\n",
      "[CV] C=700, gamma=1, kernel=rbf ......................................\n",
      "[CV] ............. C=700, gamma=1, kernel=rbf, score=0.517281 -   0.0s\n",
      "[CV] C=700, gamma=1, kernel=rbf ......................................\n",
      "[CV] ............. C=700, gamma=1, kernel=rbf, score=0.431596 -   0.0s\n",
      "[CV] C=700, gamma=0.1, kernel=linear .................................\n",
      "[CV] ........ C=700, gamma=0.1, kernel=linear, score=0.816650 -   1.4s\n",
      "[CV] C=700, gamma=0.1, kernel=linear .................................\n",
      "[CV] ........ C=700, gamma=0.1, kernel=linear, score=0.669879 -   0.7s\n",
      "[CV] C=700, gamma=0.1, kernel=linear .................................\n",
      "[CV] ........ C=700, gamma=0.1, kernel=linear, score=0.734976 -   1.2s\n",
      "[CV] C=700, gamma=0.1, kernel=poly ...................................\n",
      "[CV] ......... C=700, gamma=0.1, kernel=poly, score=-0.742995 -   0.4s\n",
      "[CV] C=700, gamma=0.1, kernel=poly ...................................\n",
      "[CV] ......... C=700, gamma=0.1, kernel=poly, score=-0.168728 -   0.7s\n",
      "[CV] C=700, gamma=0.1, kernel=poly ...................................\n",
      "[CV] ......... C=700, gamma=0.1, kernel=poly, score=-0.036005 -   0.3s\n",
      "[CV] C=700, gamma=0.1, kernel=rbf ....................................\n",
      "[CV] ........... C=700, gamma=0.1, kernel=rbf, score=0.813582 -   0.1s\n",
      "[CV] C=700, gamma=0.1, kernel=rbf ....................................\n",
      "[CV] ........... C=700, gamma=0.1, kernel=rbf, score=0.754177 -   0.1s\n",
      "[CV] C=700, gamma=0.1, kernel=rbf ....................................\n",
      "[CV] ........... C=700, gamma=0.1, kernel=rbf, score=0.756126 -   0.1s\n",
      "[CV] C=700, gamma=0.01, kernel=linear ................................\n",
      "[CV] ....... C=700, gamma=0.01, kernel=linear, score=0.816650 -   1.4s\n",
      "[CV] C=700, gamma=0.01, kernel=linear ................................\n",
      "[CV] ....... C=700, gamma=0.01, kernel=linear, score=0.669879 -   0.7s\n",
      "[CV] C=700, gamma=0.01, kernel=linear ................................\n",
      "[CV] ....... C=700, gamma=0.01, kernel=linear, score=0.734976 -   1.1s\n",
      "[CV] C=700, gamma=0.01, kernel=poly ..................................\n",
      "[CV] ......... C=700, gamma=0.01, kernel=poly, score=0.653328 -   0.0s\n",
      "[CV] C=700, gamma=0.01, kernel=poly ..................................\n",
      "[CV] ......... C=700, gamma=0.01, kernel=poly, score=0.581801 -   0.0s\n",
      "[CV] C=700, gamma=0.01, kernel=poly ..................................\n",
      "[CV] ......... C=700, gamma=0.01, kernel=poly, score=0.645132 -   0.0s\n",
      "[CV] C=700, gamma=0.01, kernel=rbf ...................................\n",
      "[CV] .......... C=700, gamma=0.01, kernel=rbf, score=0.851532 -   0.0s\n",
      "[CV] C=700, gamma=0.01, kernel=rbf ...................................\n",
      "[CV] .......... C=700, gamma=0.01, kernel=rbf, score=0.791866 -   0.0s\n",
      "[CV] C=700, gamma=0.01, kernel=rbf ...................................\n",
      "[CV] .......... C=700, gamma=0.01, kernel=rbf, score=0.766677 -   0.0s\n",
      "[CV] C=700, gamma=0.001, kernel=linear ...............................\n",
      "[CV] ...... C=700, gamma=0.001, kernel=linear, score=0.816650 -   1.4s\n",
      "[CV] C=700, gamma=0.001, kernel=linear ...............................\n",
      "[CV] ...... C=700, gamma=0.001, kernel=linear, score=0.669879 -   0.7s\n",
      "[CV] C=700, gamma=0.001, kernel=linear ...............................\n",
      "[CV] ...... C=700, gamma=0.001, kernel=linear, score=0.734976 -   1.1s\n",
      "[CV] C=700, gamma=0.001, kernel=poly .................................\n",
      "[CV] ....... C=700, gamma=0.001, kernel=poly, score=-0.001068 -   0.0s\n",
      "[CV] C=700, gamma=0.001, kernel=poly .................................\n",
      "[CV] ....... C=700, gamma=0.001, kernel=poly, score=-0.016449 -   0.0s\n",
      "[CV] C=700, gamma=0.001, kernel=poly .................................\n",
      "[CV] ....... C=700, gamma=0.001, kernel=poly, score=-0.022322 -   0.0s\n",
      "[CV] C=700, gamma=0.001, kernel=rbf ..................................\n",
      "[CV] ......... C=700, gamma=0.001, kernel=rbf, score=0.836621 -   0.0s\n",
      "[CV] C=700, gamma=0.001, kernel=rbf ..................................\n",
      "[CV] ......... C=700, gamma=0.001, kernel=rbf, score=0.764874 -   0.0s\n",
      "[CV] C=700, gamma=0.001, kernel=rbf ..................................\n",
      "[CV] ......... C=700, gamma=0.001, kernel=rbf, score=0.767977 -   0.0s\n",
      "[CV] C=700, gamma=0.0001, kernel=linear ..............................\n"
     ]
    },
    {
     "name": "stdout",
     "output_type": "stream",
     "text": [
      "[CV] ..... C=700, gamma=0.0001, kernel=linear, score=0.816650 -   1.6s\n",
      "[CV] C=700, gamma=0.0001, kernel=linear ..............................\n",
      "[CV] ..... C=700, gamma=0.0001, kernel=linear, score=0.669879 -   0.7s\n",
      "[CV] C=700, gamma=0.0001, kernel=linear ..............................\n",
      "[CV] ..... C=700, gamma=0.0001, kernel=linear, score=0.734976 -   1.1s\n",
      "[CV] C=700, gamma=0.0001, kernel=poly ................................\n",
      "[CV] ...... C=700, gamma=0.0001, kernel=poly, score=-0.014412 -   0.0s\n",
      "[CV] C=700, gamma=0.0001, kernel=poly ................................\n",
      "[CV] ...... C=700, gamma=0.0001, kernel=poly, score=-0.027306 -   0.0s\n",
      "[CV] C=700, gamma=0.0001, kernel=poly ................................\n",
      "[CV] ...... C=700, gamma=0.0001, kernel=poly, score=-0.034016 -   0.0s\n",
      "[CV] C=700, gamma=0.0001, kernel=rbf .................................\n",
      "[CV] ........ C=700, gamma=0.0001, kernel=rbf, score=0.798034 -   0.0s\n",
      "[CV] C=700, gamma=0.0001, kernel=rbf .................................\n",
      "[CV] ........ C=700, gamma=0.0001, kernel=rbf, score=0.687348 -   0.0s\n",
      "[CV] C=700, gamma=0.0001, kernel=rbf .................................\n",
      "[CV] ........ C=700, gamma=0.0001, kernel=rbf, score=0.705804 -   0.0s\n",
      "[CV] C=800, gamma=1, kernel=linear ...................................\n",
      "[CV] .......... C=800, gamma=1, kernel=linear, score=0.816613 -   1.6s\n",
      "[CV] C=800, gamma=1, kernel=linear ...................................\n",
      "[CV] .......... C=800, gamma=1, kernel=linear, score=0.669885 -   1.6s\n",
      "[CV] C=800, gamma=1, kernel=linear ...................................\n",
      "[CV] .......... C=800, gamma=1, kernel=linear, score=0.734994 -   1.6s\n",
      "[CV] C=800, gamma=1, kernel=poly .....................................\n",
      "[CV] ........... C=800, gamma=1, kernel=poly, score=-3.306444 -   2.2s\n",
      "[CV] C=800, gamma=1, kernel=poly .....................................\n",
      "[CV] ........... C=800, gamma=1, kernel=poly, score=-4.450347 -   1.6s\n",
      "[CV] C=800, gamma=1, kernel=poly .....................................\n",
      "[CV] ........... C=800, gamma=1, kernel=poly, score=-9.990831 -   3.4s\n",
      "[CV] C=800, gamma=1, kernel=rbf ......................................\n",
      "[CV] ............. C=800, gamma=1, kernel=rbf, score=0.489163 -   0.0s\n",
      "[CV] C=800, gamma=1, kernel=rbf ......................................\n",
      "[CV] ............. C=800, gamma=1, kernel=rbf, score=0.517281 -   0.0s\n",
      "[CV] C=800, gamma=1, kernel=rbf ......................................\n",
      "[CV] ............. C=800, gamma=1, kernel=rbf, score=0.431596 -   0.0s\n",
      "[CV] C=800, gamma=0.1, kernel=linear .................................\n",
      "[CV] ........ C=800, gamma=0.1, kernel=linear, score=0.816613 -   1.8s\n",
      "[CV] C=800, gamma=0.1, kernel=linear .................................\n",
      "[CV] ........ C=800, gamma=0.1, kernel=linear, score=0.669885 -   1.7s\n",
      "[CV] C=800, gamma=0.1, kernel=linear .................................\n",
      "[CV] ........ C=800, gamma=0.1, kernel=linear, score=0.734994 -   1.6s\n",
      "[CV] C=800, gamma=0.1, kernel=poly ...................................\n",
      "[CV] ......... C=800, gamma=0.1, kernel=poly, score=-0.916202 -   0.5s\n",
      "[CV] C=800, gamma=0.1, kernel=poly ...................................\n",
      "[CV] ......... C=800, gamma=0.1, kernel=poly, score=-0.196229 -   0.5s\n",
      "[CV] C=800, gamma=0.1, kernel=poly ...................................\n",
      "[CV] ......... C=800, gamma=0.1, kernel=poly, score=-0.066972 -   0.5s\n",
      "[CV] C=800, gamma=0.1, kernel=rbf ....................................\n",
      "[CV] ........... C=800, gamma=0.1, kernel=rbf, score=0.812169 -   0.1s\n",
      "[CV] C=800, gamma=0.1, kernel=rbf ....................................\n",
      "[CV] ........... C=800, gamma=0.1, kernel=rbf, score=0.750452 -   0.1s\n",
      "[CV] C=800, gamma=0.1, kernel=rbf ....................................\n",
      "[CV] ........... C=800, gamma=0.1, kernel=rbf, score=0.750335 -   0.1s\n",
      "[CV] C=800, gamma=0.01, kernel=linear ................................\n",
      "[CV] ....... C=800, gamma=0.01, kernel=linear, score=0.816613 -   1.7s\n",
      "[CV] C=800, gamma=0.01, kernel=linear ................................\n",
      "[CV] ....... C=800, gamma=0.01, kernel=linear, score=0.669885 -   1.8s\n",
      "[CV] C=800, gamma=0.01, kernel=linear ................................\n",
      "[CV] ....... C=800, gamma=0.01, kernel=linear, score=0.734994 -   1.7s\n",
      "[CV] C=800, gamma=0.01, kernel=poly ..................................\n",
      "[CV] ......... C=800, gamma=0.01, kernel=poly, score=0.656062 -   0.0s\n",
      "[CV] C=800, gamma=0.01, kernel=poly ..................................\n",
      "[CV] ......... C=800, gamma=0.01, kernel=poly, score=0.582050 -   0.0s\n",
      "[CV] C=800, gamma=0.01, kernel=poly ..................................\n",
      "[CV] ......... C=800, gamma=0.01, kernel=poly, score=0.652691 -   0.0s\n",
      "[CV] C=800, gamma=0.01, kernel=rbf ...................................\n",
      "[CV] .......... C=800, gamma=0.01, kernel=rbf, score=0.847857 -   0.1s\n",
      "[CV] C=800, gamma=0.01, kernel=rbf ...................................\n",
      "[CV] .......... C=800, gamma=0.01, kernel=rbf, score=0.783439 -   0.0s\n",
      "[CV] C=800, gamma=0.01, kernel=rbf ...................................\n",
      "[CV] .......... C=800, gamma=0.01, kernel=rbf, score=0.764679 -   0.1s\n",
      "[CV] C=800, gamma=0.001, kernel=linear ...............................\n",
      "[CV] ...... C=800, gamma=0.001, kernel=linear, score=0.816613 -   1.7s\n",
      "[CV] C=800, gamma=0.001, kernel=linear ...............................\n",
      "[CV] ...... C=800, gamma=0.001, kernel=linear, score=0.669885 -   1.7s\n",
      "[CV] C=800, gamma=0.001, kernel=linear ...............................\n",
      "[CV] ...... C=800, gamma=0.001, kernel=linear, score=0.734994 -   1.6s\n",
      "[CV] C=800, gamma=0.001, kernel=poly .................................\n",
      "[CV] ........ C=800, gamma=0.001, kernel=poly, score=0.000826 -   0.0s\n",
      "[CV] C=800, gamma=0.001, kernel=poly .................................\n",
      "[CV] ....... C=800, gamma=0.001, kernel=poly, score=-0.014909 -   0.0s\n",
      "[CV] C=800, gamma=0.001, kernel=poly .................................\n",
      "[CV] ....... C=800, gamma=0.001, kernel=poly, score=-0.020662 -   0.0s\n",
      "[CV] C=800, gamma=0.001, kernel=rbf ..................................\n",
      "[CV] ......... C=800, gamma=0.001, kernel=rbf, score=0.837550 -   0.0s\n",
      "[CV] C=800, gamma=0.001, kernel=rbf ..................................\n",
      "[CV] ......... C=800, gamma=0.001, kernel=rbf, score=0.769612 -   0.0s\n",
      "[CV] C=800, gamma=0.001, kernel=rbf ..................................\n",
      "[CV] ......... C=800, gamma=0.001, kernel=rbf, score=0.770173 -   0.0s\n",
      "[CV] C=800, gamma=0.0001, kernel=linear ..............................\n",
      "[CV] ..... C=800, gamma=0.0001, kernel=linear, score=0.816613 -   1.7s\n",
      "[CV] C=800, gamma=0.0001, kernel=linear ..............................\n",
      "[CV] ..... C=800, gamma=0.0001, kernel=linear, score=0.669885 -   1.7s\n",
      "[CV] C=800, gamma=0.0001, kernel=linear ..............................\n",
      "[CV] ..... C=800, gamma=0.0001, kernel=linear, score=0.734994 -   1.5s\n",
      "[CV] C=800, gamma=0.0001, kernel=poly ................................\n",
      "[CV] ...... C=800, gamma=0.0001, kernel=poly, score=-0.014410 -   0.0s\n",
      "[CV] C=800, gamma=0.0001, kernel=poly ................................\n",
      "[CV] ...... C=800, gamma=0.0001, kernel=poly, score=-0.027304 -   0.0s\n",
      "[CV] C=800, gamma=0.0001, kernel=poly ................................\n",
      "[CV] ...... C=800, gamma=0.0001, kernel=poly, score=-0.034015 -   0.0s\n",
      "[CV] C=800, gamma=0.0001, kernel=rbf .................................\n",
      "[CV] ........ C=800, gamma=0.0001, kernel=rbf, score=0.798961 -   0.0s\n",
      "[CV] C=800, gamma=0.0001, kernel=rbf .................................\n",
      "[CV] ........ C=800, gamma=0.0001, kernel=rbf, score=0.690540 -   0.0s\n",
      "[CV] C=800, gamma=0.0001, kernel=rbf .................................\n",
      "[CV] ........ C=800, gamma=0.0001, kernel=rbf, score=0.708425 -   0.0s\n",
      "[CV] C=900, gamma=1, kernel=linear ...................................\n",
      "[CV] .......... C=900, gamma=1, kernel=linear, score=0.816671 -   2.1s\n",
      "[CV] C=900, gamma=1, kernel=linear ...................................\n",
      "[CV] .......... C=900, gamma=1, kernel=linear, score=0.669877 -   1.2s\n",
      "[CV] C=900, gamma=1, kernel=linear ...................................\n",
      "[CV] .......... C=900, gamma=1, kernel=linear, score=0.734973 -   1.4s\n",
      "[CV] C=900, gamma=1, kernel=poly .....................................\n",
      "[CV] ........... C=900, gamma=1, kernel=poly, score=-3.306444 -   2.2s\n",
      "[CV] C=900, gamma=1, kernel=poly .....................................\n"
     ]
    },
    {
     "name": "stdout",
     "output_type": "stream",
     "text": [
      "[CV] ........... C=900, gamma=1, kernel=poly, score=-4.450347 -   1.9s\n",
      "[CV] C=900, gamma=1, kernel=poly .....................................\n",
      "[CV] ........... C=900, gamma=1, kernel=poly, score=-9.990831 -   3.3s\n",
      "[CV] C=900, gamma=1, kernel=rbf ......................................\n",
      "[CV] ............. C=900, gamma=1, kernel=rbf, score=0.489163 -   0.0s\n",
      "[CV] C=900, gamma=1, kernel=rbf ......................................\n",
      "[CV] ............. C=900, gamma=1, kernel=rbf, score=0.517281 -   0.0s\n",
      "[CV] C=900, gamma=1, kernel=rbf ......................................\n",
      "[CV] ............. C=900, gamma=1, kernel=rbf, score=0.431596 -   0.0s\n",
      "[CV] C=900, gamma=0.1, kernel=linear .................................\n",
      "[CV] ........ C=900, gamma=0.1, kernel=linear, score=0.816671 -   2.2s\n",
      "[CV] C=900, gamma=0.1, kernel=linear .................................\n",
      "[CV] ........ C=900, gamma=0.1, kernel=linear, score=0.669877 -   1.3s\n",
      "[CV] C=900, gamma=0.1, kernel=linear .................................\n",
      "[CV] ........ C=900, gamma=0.1, kernel=linear, score=0.734973 -   1.4s\n",
      "[CV] C=900, gamma=0.1, kernel=poly ...................................\n",
      "[CV] ......... C=900, gamma=0.1, kernel=poly, score=-1.108541 -   0.4s\n",
      "[CV] C=900, gamma=0.1, kernel=poly ...................................\n",
      "[CV] ......... C=900, gamma=0.1, kernel=poly, score=-0.228279 -   0.6s\n",
      "[CV] C=900, gamma=0.1, kernel=poly ...................................\n",
      "[CV] ......... C=900, gamma=0.1, kernel=poly, score=-0.098554 -   0.4s\n",
      "[CV] C=900, gamma=0.1, kernel=rbf ....................................\n",
      "[CV] ........... C=900, gamma=0.1, kernel=rbf, score=0.809336 -   0.1s\n",
      "[CV] C=900, gamma=0.1, kernel=rbf ....................................\n",
      "[CV] ........... C=900, gamma=0.1, kernel=rbf, score=0.746484 -   0.1s\n",
      "[CV] C=900, gamma=0.1, kernel=rbf ....................................\n",
      "[CV] ........... C=900, gamma=0.1, kernel=rbf, score=0.746804 -   0.1s\n",
      "[CV] C=900, gamma=0.01, kernel=linear ................................\n",
      "[CV] ....... C=900, gamma=0.01, kernel=linear, score=0.816671 -   2.1s\n",
      "[CV] C=900, gamma=0.01, kernel=linear ................................\n",
      "[CV] ....... C=900, gamma=0.01, kernel=linear, score=0.669877 -   1.3s\n",
      "[CV] C=900, gamma=0.01, kernel=linear ................................\n",
      "[CV] ....... C=900, gamma=0.01, kernel=linear, score=0.734973 -   1.4s\n",
      "[CV] C=900, gamma=0.01, kernel=poly ..................................\n",
      "[CV] ......... C=900, gamma=0.01, kernel=poly, score=0.659008 -   0.0s\n",
      "[CV] C=900, gamma=0.01, kernel=poly ..................................\n",
      "[CV] ......... C=900, gamma=0.01, kernel=poly, score=0.577926 -   0.0s\n",
      "[CV] C=900, gamma=0.01, kernel=poly ..................................\n",
      "[CV] ......... C=900, gamma=0.01, kernel=poly, score=0.656044 -   0.0s\n",
      "[CV] C=900, gamma=0.01, kernel=rbf ...................................\n",
      "[CV] .......... C=900, gamma=0.01, kernel=rbf, score=0.844113 -   0.1s\n",
      "[CV] C=900, gamma=0.01, kernel=rbf ...................................\n",
      "[CV] .......... C=900, gamma=0.01, kernel=rbf, score=0.778888 -   0.1s\n",
      "[CV] C=900, gamma=0.01, kernel=rbf ...................................\n",
      "[CV] .......... C=900, gamma=0.01, kernel=rbf, score=0.766069 -   0.1s\n",
      "[CV] C=900, gamma=0.001, kernel=linear ...............................\n",
      "[CV] ...... C=900, gamma=0.001, kernel=linear, score=0.816671 -   2.0s\n",
      "[CV] C=900, gamma=0.001, kernel=linear ...............................\n",
      "[CV] ...... C=900, gamma=0.001, kernel=linear, score=0.669877 -   1.2s\n",
      "[CV] C=900, gamma=0.001, kernel=linear ...............................\n",
      "[CV] ...... C=900, gamma=0.001, kernel=linear, score=0.734973 -   1.4s\n",
      "[CV] C=900, gamma=0.001, kernel=poly .................................\n",
      "[CV] ........ C=900, gamma=0.001, kernel=poly, score=0.002717 -   0.0s\n",
      "[CV] C=900, gamma=0.001, kernel=poly .................................\n",
      "[CV] ....... C=900, gamma=0.001, kernel=poly, score=-0.013373 -   0.0s\n",
      "[CV] C=900, gamma=0.001, kernel=poly .................................\n",
      "[CV] ....... C=900, gamma=0.001, kernel=poly, score=-0.019007 -   0.0s\n",
      "[CV] C=900, gamma=0.001, kernel=rbf ..................................\n",
      "[CV] ......... C=900, gamma=0.001, kernel=rbf, score=0.838723 -   0.0s\n",
      "[CV] C=900, gamma=0.001, kernel=rbf ..................................\n",
      "[CV] ......... C=900, gamma=0.001, kernel=rbf, score=0.774492 -   0.0s\n",
      "[CV] C=900, gamma=0.001, kernel=rbf ..................................\n",
      "[CV] ......... C=900, gamma=0.001, kernel=rbf, score=0.770384 -   0.0s\n",
      "[CV] C=900, gamma=0.0001, kernel=linear ..............................\n",
      "[CV] ..... C=900, gamma=0.0001, kernel=linear, score=0.816671 -   2.1s\n",
      "[CV] C=900, gamma=0.0001, kernel=linear ..............................\n",
      "[CV] ..... C=900, gamma=0.0001, kernel=linear, score=0.669877 -   1.2s\n",
      "[CV] C=900, gamma=0.0001, kernel=linear ..............................\n",
      "[CV] ..... C=900, gamma=0.0001, kernel=linear, score=0.734973 -   1.4s\n",
      "[CV] C=900, gamma=0.0001, kernel=poly ................................\n",
      "[CV] ...... C=900, gamma=0.0001, kernel=poly, score=-0.014408 -   0.0s\n",
      "[CV] C=900, gamma=0.0001, kernel=poly ................................\n",
      "[CV] ...... C=900, gamma=0.0001, kernel=poly, score=-0.027303 -   0.0s\n",
      "[CV] C=900, gamma=0.0001, kernel=poly ................................\n",
      "[CV] ...... C=900, gamma=0.0001, kernel=poly, score=-0.034013 -   0.0s\n",
      "[CV] C=900, gamma=0.0001, kernel=rbf .................................\n",
      "[CV] ........ C=900, gamma=0.0001, kernel=rbf, score=0.802265 -   0.0s\n",
      "[CV] C=900, gamma=0.0001, kernel=rbf .................................\n",
      "[CV] ........ C=900, gamma=0.0001, kernel=rbf, score=0.691911 -   0.0s\n",
      "[CV] C=900, gamma=0.0001, kernel=rbf .................................\n",
      "[CV] ........ C=900, gamma=0.0001, kernel=rbf, score=0.711628 -   0.0s\n",
      "[CV] C=1000, gamma=1, kernel=linear ..................................\n",
      "[CV] ......... C=1000, gamma=1, kernel=linear, score=0.816609 -   2.5s\n",
      "[CV] C=1000, gamma=1, kernel=linear ..................................\n",
      "[CV] ......... C=1000, gamma=1, kernel=linear, score=0.669858 -   2.3s\n",
      "[CV] C=1000, gamma=1, kernel=linear ..................................\n",
      "[CV] ......... C=1000, gamma=1, kernel=linear, score=0.735007 -   2.7s\n",
      "[CV] C=1000, gamma=1, kernel=poly ....................................\n",
      "[CV] .......... C=1000, gamma=1, kernel=poly, score=-3.306444 -   2.2s\n",
      "[CV] C=1000, gamma=1, kernel=poly ....................................\n",
      "[CV] .......... C=1000, gamma=1, kernel=poly, score=-4.450347 -   1.7s\n",
      "[CV] C=1000, gamma=1, kernel=poly ....................................\n",
      "[CV] .......... C=1000, gamma=1, kernel=poly, score=-9.990831 -   3.4s\n",
      "[CV] C=1000, gamma=1, kernel=rbf .....................................\n",
      "[CV] ............ C=1000, gamma=1, kernel=rbf, score=0.489163 -   0.0s\n",
      "[CV] C=1000, gamma=1, kernel=rbf .....................................\n",
      "[CV] ............ C=1000, gamma=1, kernel=rbf, score=0.517281 -   0.0s\n",
      "[CV] C=1000, gamma=1, kernel=rbf .....................................\n",
      "[CV] ............ C=1000, gamma=1, kernel=rbf, score=0.431596 -   0.0s\n",
      "[CV] C=1000, gamma=0.1, kernel=linear ................................\n",
      "[CV] ....... C=1000, gamma=0.1, kernel=linear, score=0.816609 -   2.5s\n",
      "[CV] C=1000, gamma=0.1, kernel=linear ................................\n",
      "[CV] ....... C=1000, gamma=0.1, kernel=linear, score=0.669858 -   2.4s\n",
      "[CV] C=1000, gamma=0.1, kernel=linear ................................\n",
      "[CV] ....... C=1000, gamma=0.1, kernel=linear, score=0.735007 -   2.5s\n",
      "[CV] C=1000, gamma=0.1, kernel=poly ..................................\n",
      "[CV] ........ C=1000, gamma=0.1, kernel=poly, score=-1.313675 -   0.4s\n",
      "[CV] C=1000, gamma=0.1, kernel=poly ..................................\n",
      "[CV] ........ C=1000, gamma=0.1, kernel=poly, score=-0.232542 -   0.6s\n",
      "[CV] C=1000, gamma=0.1, kernel=poly ..................................\n",
      "[CV] ........ C=1000, gamma=0.1, kernel=poly, score=-0.137162 -   0.4s\n",
      "[CV] C=1000, gamma=0.1, kernel=rbf ...................................\n",
      "[CV] .......... C=1000, gamma=0.1, kernel=rbf, score=0.806803 -   0.1s\n",
      "[CV] C=1000, gamma=0.1, kernel=rbf ...................................\n",
      "[CV] .......... C=1000, gamma=0.1, kernel=rbf, score=0.742291 -   0.1s\n",
      "[CV] C=1000, gamma=0.1, kernel=rbf ...................................\n"
     ]
    },
    {
     "name": "stdout",
     "output_type": "stream",
     "text": [
      "[CV] .......... C=1000, gamma=0.1, kernel=rbf, score=0.743186 -   0.1s\n",
      "[CV] C=1000, gamma=0.01, kernel=linear ...............................\n",
      "[CV] ...... C=1000, gamma=0.01, kernel=linear, score=0.816609 -   2.5s\n",
      "[CV] C=1000, gamma=0.01, kernel=linear ...............................\n",
      "[CV] ...... C=1000, gamma=0.01, kernel=linear, score=0.669858 -   2.3s\n",
      "[CV] C=1000, gamma=0.01, kernel=linear ...............................\n",
      "[CV] ...... C=1000, gamma=0.01, kernel=linear, score=0.735007 -   2.5s\n",
      "[CV] C=1000, gamma=0.01, kernel=poly .................................\n",
      "[CV] ........ C=1000, gamma=0.01, kernel=poly, score=0.662041 -   0.0s\n",
      "[CV] C=1000, gamma=0.01, kernel=poly .................................\n",
      "[CV] ........ C=1000, gamma=0.01, kernel=poly, score=0.571002 -   0.0s\n",
      "[CV] C=1000, gamma=0.01, kernel=poly .................................\n",
      "[CV] ........ C=1000, gamma=0.01, kernel=poly, score=0.657450 -   0.0s\n",
      "[CV] C=1000, gamma=0.01, kernel=rbf ..................................\n",
      "[CV] ......... C=1000, gamma=0.01, kernel=rbf, score=0.840861 -   0.1s\n",
      "[CV] C=1000, gamma=0.01, kernel=rbf ..................................\n",
      "[CV] ......... C=1000, gamma=0.01, kernel=rbf, score=0.773172 -   0.1s\n",
      "[CV] C=1000, gamma=0.01, kernel=rbf ..................................\n",
      "[CV] ......... C=1000, gamma=0.01, kernel=rbf, score=0.765919 -   0.1s\n",
      "[CV] C=1000, gamma=0.001, kernel=linear ..............................\n",
      "[CV] ..... C=1000, gamma=0.001, kernel=linear, score=0.816609 -   2.6s\n",
      "[CV] C=1000, gamma=0.001, kernel=linear ..............................\n",
      "[CV] ..... C=1000, gamma=0.001, kernel=linear, score=0.669858 -   2.5s\n",
      "[CV] C=1000, gamma=0.001, kernel=linear ..............................\n",
      "[CV] ..... C=1000, gamma=0.001, kernel=linear, score=0.735007 -   2.5s\n",
      "[CV] C=1000, gamma=0.001, kernel=poly ................................\n",
      "[CV] ....... C=1000, gamma=0.001, kernel=poly, score=0.004613 -   0.0s\n",
      "[CV] C=1000, gamma=0.001, kernel=poly ................................\n",
      "[CV] ...... C=1000, gamma=0.001, kernel=poly, score=-0.011841 -   0.0s\n",
      "[CV] C=1000, gamma=0.001, kernel=poly ................................\n",
      "[CV] ...... C=1000, gamma=0.001, kernel=poly, score=-0.017354 -   0.0s\n",
      "[CV] C=1000, gamma=0.001, kernel=rbf .................................\n",
      "[CV] ........ C=1000, gamma=0.001, kernel=rbf, score=0.839878 -   0.0s\n",
      "[CV] C=1000, gamma=0.001, kernel=rbf .................................\n",
      "[CV] ........ C=1000, gamma=0.001, kernel=rbf, score=0.778449 -   0.0s\n",
      "[CV] C=1000, gamma=0.001, kernel=rbf .................................\n",
      "[CV] ........ C=1000, gamma=0.001, kernel=rbf, score=0.771073 -   0.0s\n",
      "[CV] C=1000, gamma=0.0001, kernel=linear .............................\n",
      "[CV] .... C=1000, gamma=0.0001, kernel=linear, score=0.816609 -   2.8s\n",
      "[CV] C=1000, gamma=0.0001, kernel=linear .............................\n",
      "[CV] .... C=1000, gamma=0.0001, kernel=linear, score=0.669858 -   2.4s\n",
      "[CV] C=1000, gamma=0.0001, kernel=linear .............................\n",
      "[CV] .... C=1000, gamma=0.0001, kernel=linear, score=0.735007 -   2.6s\n",
      "[CV] C=1000, gamma=0.0001, kernel=poly ...............................\n",
      "[CV] ..... C=1000, gamma=0.0001, kernel=poly, score=-0.014406 -   0.0s\n",
      "[CV] C=1000, gamma=0.0001, kernel=poly ...............................\n",
      "[CV] ..... C=1000, gamma=0.0001, kernel=poly, score=-0.027301 -   0.0s\n",
      "[CV] C=1000, gamma=0.0001, kernel=poly ...............................\n",
      "[CV] ..... C=1000, gamma=0.0001, kernel=poly, score=-0.034011 -   0.0s\n",
      "[CV] C=1000, gamma=0.0001, kernel=rbf ................................\n",
      "[CV] ....... C=1000, gamma=0.0001, kernel=rbf, score=0.805862 -   0.0s\n",
      "[CV] C=1000, gamma=0.0001, kernel=rbf ................................\n",
      "[CV] ....... C=1000, gamma=0.0001, kernel=rbf, score=0.690872 -   0.0s\n",
      "[CV] C=1000, gamma=0.0001, kernel=rbf ................................\n",
      "[CV] ....... C=1000, gamma=0.0001, kernel=rbf, score=0.717882 -   0.0s\n"
     ]
    },
    {
     "name": "stderr",
     "output_type": "stream",
     "text": [
      "[Parallel(n_jobs=1)]: Done 270 out of 270 | elapsed:  3.4min finished\n"
     ]
    },
    {
     "data": {
      "text/plain": [
       "GridSearchCV(cv=None, error_score='raise',\n",
       "       estimator=SVR(C=1.0, cache_size=200, coef0=0.0, degree=3, epsilon=0.1, gamma='auto',\n",
       "  kernel='rbf', max_iter=-1, shrinking=True, tol=0.001, verbose=False),\n",
       "       fit_params={}, iid=True, n_jobs=1,\n",
       "       param_grid={'C': [500, 600, 700, 800, 900, 1000], 'gamma': [1, 0.1, 0.01, 0.001, 0.0001], 'kernel': ['linear', 'poly', 'rbf']},\n",
       "       pre_dispatch='2*n_jobs', refit=True, scoring=None, verbose=3)"
      ]
     },
     "execution_count": 15,
     "metadata": {},
     "output_type": "execute_result"
    }
   ],
   "source": [
    "grid.fit(x_train,y_train)"
   ]
  },
  {
   "cell_type": "code",
   "execution_count": 16,
   "metadata": {},
   "outputs": [
    {
     "data": {
      "text/plain": [
       "{'C': 500, 'gamma': 0.01, 'kernel': 'rbf'}"
      ]
     },
     "execution_count": 16,
     "metadata": {},
     "output_type": "execute_result"
    }
   ],
   "source": [
    "grid.best_params_"
   ]
  },
  {
   "cell_type": "code",
   "execution_count": 17,
   "metadata": {
    "collapsed": true
   },
   "outputs": [],
   "source": [
    "yp = grid.predict(x_test)"
   ]
  },
  {
   "cell_type": "code",
   "execution_count": 22,
   "metadata": {},
   "outputs": [
    {
     "data": {
      "text/plain": [
       "16.499955327545187"
      ]
     },
     "execution_count": 22,
     "metadata": {},
     "output_type": "execute_result"
    }
   ],
   "source": [
    "mean_squared_error(y_test,yp)"
   ]
  },
  {
   "cell_type": "code",
   "execution_count": 76,
   "metadata": {
    "collapsed": true
   },
   "outputs": [],
   "source": [
    "mysvr = SVR()"
   ]
  },
  {
   "cell_type": "code",
   "execution_count": 77,
   "metadata": {},
   "outputs": [
    {
     "data": {
      "text/plain": [
       "SVR(C=1.0, cache_size=200, coef0=0.0, degree=3, epsilon=0.1, gamma='auto',\n",
       "  kernel='rbf', max_iter=-1, shrinking=True, tol=0.001, verbose=False)"
      ]
     },
     "execution_count": 77,
     "metadata": {},
     "output_type": "execute_result"
    }
   ],
   "source": [
    "mysvr.fit(x_train,y_train)"
   ]
  },
  {
   "cell_type": "code",
   "execution_count": 78,
   "metadata": {
    "collapsed": true
   },
   "outputs": [],
   "source": [
    "yp = mysvr.predict(x_test)"
   ]
  },
  {
   "cell_type": "code",
   "execution_count": 79,
   "metadata": {},
   "outputs": [
    {
     "data": {
      "text/plain": [
       "0.64698488305091084"
      ]
     },
     "execution_count": 79,
     "metadata": {},
     "output_type": "execute_result"
    }
   ],
   "source": [
    "r2_score(y_test,yp)"
   ]
  },
  {
   "cell_type": "code",
   "execution_count": 11,
   "metadata": {
    "collapsed": true
   },
   "outputs": [],
   "source": [
    "from sklearn.neural_network import MLPRegressor"
   ]
  },
  {
   "cell_type": "code",
   "execution_count": 12,
   "metadata": {
    "collapsed": true
   },
   "outputs": [],
   "source": [
    "mymlp = MLPRegressor(max_iter=10000)"
   ]
  },
  {
   "cell_type": "code",
   "execution_count": 13,
   "metadata": {
    "collapsed": true
   },
   "outputs": [],
   "source": [
    "tuned_parameters={'hidden_layer_sizes': [100,110,120,130,140,150],\n",
    "                  'alpha':[0.0001,0.001,0.01,0.1,1,10]\n",
    "    \n",
    "}"
   ]
  },
  {
   "cell_type": "code",
   "execution_count": 16,
   "metadata": {
    "collapsed": true
   },
   "outputs": [],
   "source": [
    "nn_grid = GridSearchCV(mymlp,tuned_parameters,refit=True,verbose=3)"
   ]
  },
  {
   "cell_type": "code",
   "execution_count": null,
   "metadata": {},
   "outputs": [
    {
     "name": "stdout",
     "output_type": "stream",
     "text": [
      "Fitting 3 folds for each of 36 candidates, totalling 108 fits\n",
      "[CV] alpha=0.0001, hidden_layer_sizes=100 ............................\n",
      "[CV] ... alpha=0.0001, hidden_layer_sizes=100, score=0.768035 -   9.7s\n",
      "[CV] alpha=0.0001, hidden_layer_sizes=100 ............................\n"
     ]
    },
    {
     "name": "stderr",
     "output_type": "stream",
     "text": [
      "[Parallel(n_jobs=1)]: Done   1 out of   1 | elapsed:    9.7s remaining:    0.0s\n"
     ]
    },
    {
     "name": "stdout",
     "output_type": "stream",
     "text": [
      "[CV] ... alpha=0.0001, hidden_layer_sizes=100, score=0.713257 -  10.6s\n",
      "[CV] alpha=0.0001, hidden_layer_sizes=100 ............................\n"
     ]
    },
    {
     "name": "stderr",
     "output_type": "stream",
     "text": [
      "[Parallel(n_jobs=1)]: Done   2 out of   2 | elapsed:   20.3s remaining:    0.0s\n"
     ]
    },
    {
     "name": "stdout",
     "output_type": "stream",
     "text": [
      "[CV] ... alpha=0.0001, hidden_layer_sizes=100, score=0.569540 -   8.1s\n",
      "[CV] alpha=0.0001, hidden_layer_sizes=110 ............................\n",
      "[CV] ... alpha=0.0001, hidden_layer_sizes=110, score=0.791882 -  10.4s\n",
      "[CV] alpha=0.0001, hidden_layer_sizes=110 ............................\n",
      "[CV] ... alpha=0.0001, hidden_layer_sizes=110, score=0.730465 -  10.6s\n",
      "[CV] alpha=0.0001, hidden_layer_sizes=110 ............................\n",
      "[CV] ... alpha=0.0001, hidden_layer_sizes=110, score=0.718202 -   8.1s\n",
      "[CV] alpha=0.0001, hidden_layer_sizes=120 ............................\n",
      "[CV] ... alpha=0.0001, hidden_layer_sizes=120, score=0.848679 -  10.2s\n",
      "[CV] alpha=0.0001, hidden_layer_sizes=120 ............................\n",
      "[CV] ... alpha=0.0001, hidden_layer_sizes=120, score=0.649421 -  10.3s\n",
      "[CV] alpha=0.0001, hidden_layer_sizes=120 ............................\n",
      "[CV] ... alpha=0.0001, hidden_layer_sizes=120, score=0.629995 -   8.6s\n",
      "[CV] alpha=0.0001, hidden_layer_sizes=130 ............................\n",
      "[CV] ... alpha=0.0001, hidden_layer_sizes=130, score=0.838698 -  10.4s\n",
      "[CV] alpha=0.0001, hidden_layer_sizes=130 ............................\n",
      "[CV] ... alpha=0.0001, hidden_layer_sizes=130, score=0.826254 -  10.4s\n",
      "[CV] alpha=0.0001, hidden_layer_sizes=130 ............................\n",
      "[CV] ... alpha=0.0001, hidden_layer_sizes=130, score=0.663397 -  10.1s\n",
      "[CV] alpha=0.0001, hidden_layer_sizes=140 ............................\n",
      "[CV] ... alpha=0.0001, hidden_layer_sizes=140, score=0.755454 -  10.7s\n",
      "[CV] alpha=0.0001, hidden_layer_sizes=140 ............................\n",
      "[CV] ... alpha=0.0001, hidden_layer_sizes=140, score=0.732993 -  11.2s\n",
      "[CV] alpha=0.0001, hidden_layer_sizes=140 ............................\n",
      "[CV] ... alpha=0.0001, hidden_layer_sizes=140, score=0.675383 -   9.2s\n",
      "[CV] alpha=0.0001, hidden_layer_sizes=150 ............................\n",
      "[CV] ... alpha=0.0001, hidden_layer_sizes=150, score=0.845559 -  11.8s\n",
      "[CV] alpha=0.0001, hidden_layer_sizes=150 ............................\n",
      "[CV] ... alpha=0.0001, hidden_layer_sizes=150, score=0.802628 -  12.6s\n",
      "[CV] alpha=0.0001, hidden_layer_sizes=150 ............................\n",
      "[CV] ... alpha=0.0001, hidden_layer_sizes=150, score=0.695496 -   8.8s\n",
      "[CV] alpha=0.001, hidden_layer_sizes=100 .............................\n",
      "[CV] .... alpha=0.001, hidden_layer_sizes=100, score=0.734302 -   9.9s\n",
      "[CV] alpha=0.001, hidden_layer_sizes=100 .............................\n",
      "[CV] .... alpha=0.001, hidden_layer_sizes=100, score=0.756986 -  10.1s\n",
      "[CV] alpha=0.001, hidden_layer_sizes=100 .............................\n",
      "[CV] .... alpha=0.001, hidden_layer_sizes=100, score=0.666762 -   8.1s\n",
      "[CV] alpha=0.001, hidden_layer_sizes=110 .............................\n",
      "[CV] .... alpha=0.001, hidden_layer_sizes=110, score=0.822936 -  10.4s\n",
      "[CV] alpha=0.001, hidden_layer_sizes=110 .............................\n",
      "[CV] .... alpha=0.001, hidden_layer_sizes=110, score=0.786691 -  10.2s\n",
      "[CV] alpha=0.001, hidden_layer_sizes=110 .............................\n",
      "[CV] .... alpha=0.001, hidden_layer_sizes=110, score=0.705116 -   8.8s\n",
      "[CV] alpha=0.001, hidden_layer_sizes=120 .............................\n",
      "[CV] .... alpha=0.001, hidden_layer_sizes=120, score=0.812577 -  13.7s\n",
      "[CV] alpha=0.001, hidden_layer_sizes=120 .............................\n",
      "[CV] .... alpha=0.001, hidden_layer_sizes=120, score=0.770673 -  22.7s\n",
      "[CV] alpha=0.001, hidden_layer_sizes=120 .............................\n",
      "[CV] .... alpha=0.001, hidden_layer_sizes=120, score=0.685490 -  11.3s\n",
      "[CV] alpha=0.001, hidden_layer_sizes=130 .............................\n",
      "[CV] .... alpha=0.001, hidden_layer_sizes=130, score=0.812954 -  12.9s\n",
      "[CV] alpha=0.001, hidden_layer_sizes=130 .............................\n",
      "[CV] .... alpha=0.001, hidden_layer_sizes=130, score=0.785931 -  10.1s\n",
      "[CV] alpha=0.001, hidden_layer_sizes=130 .............................\n",
      "[CV] .... alpha=0.001, hidden_layer_sizes=130, score=0.629487 -  10.7s\n",
      "[CV] alpha=0.001, hidden_layer_sizes=140 .............................\n",
      "[CV] .... alpha=0.001, hidden_layer_sizes=140, score=0.828477 -  12.8s\n",
      "[CV] alpha=0.001, hidden_layer_sizes=140 .............................\n",
      "[CV] .... alpha=0.001, hidden_layer_sizes=140, score=0.795861 -  10.8s\n",
      "[CV] alpha=0.001, hidden_layer_sizes=140 .............................\n",
      "[CV] .... alpha=0.001, hidden_layer_sizes=140, score=0.634752 -   9.5s\n",
      "[CV] alpha=0.001, hidden_layer_sizes=150 .............................\n",
      "[CV] .... alpha=0.001, hidden_layer_sizes=150, score=0.867213 -  11.5s\n",
      "[CV] alpha=0.001, hidden_layer_sizes=150 .............................\n",
      "[CV] .... alpha=0.001, hidden_layer_sizes=150, score=0.733785 -  14.5s\n",
      "[CV] alpha=0.001, hidden_layer_sizes=150 .............................\n",
      "[CV] .... alpha=0.001, hidden_layer_sizes=150, score=0.742356 -  12.0s\n",
      "[CV] alpha=0.01, hidden_layer_sizes=100 ..............................\n",
      "[CV] ..... alpha=0.01, hidden_layer_sizes=100, score=0.790747 -  17.4s\n",
      "[CV] alpha=0.01, hidden_layer_sizes=100 ..............................\n",
      "[CV] ..... alpha=0.01, hidden_layer_sizes=100, score=0.801674 -  12.7s\n",
      "[CV] alpha=0.01, hidden_layer_sizes=100 ..............................\n",
      "[CV] ..... alpha=0.01, hidden_layer_sizes=100, score=0.640381 -  10.1s\n",
      "[CV] alpha=0.01, hidden_layer_sizes=110 ..............................\n",
      "[CV] ..... alpha=0.01, hidden_layer_sizes=110, score=0.845609 -  13.9s\n",
      "[CV] alpha=0.01, hidden_layer_sizes=110 ..............................\n",
      "[CV] ..... alpha=0.01, hidden_layer_sizes=110, score=0.710800 -  18.4s\n",
      "[CV] alpha=0.01, hidden_layer_sizes=110 ..............................\n",
      "[CV] ..... alpha=0.01, hidden_layer_sizes=110, score=0.699738 -  13.9s\n",
      "[CV] alpha=0.01, hidden_layer_sizes=120 ..............................\n",
      "[CV] ..... alpha=0.01, hidden_layer_sizes=120, score=0.843950 -  11.2s\n",
      "[CV] alpha=0.01, hidden_layer_sizes=120 ..............................\n",
      "[CV] ..... alpha=0.01, hidden_layer_sizes=120, score=0.799807 -  10.3s\n",
      "[CV] alpha=0.01, hidden_layer_sizes=120 ..............................\n",
      "[CV] ..... alpha=0.01, hidden_layer_sizes=120, score=0.716378 -   9.1s\n",
      "[CV] alpha=0.01, hidden_layer_sizes=130 ..............................\n",
      "[CV] ..... alpha=0.01, hidden_layer_sizes=130, score=0.766784 -  15.1s\n",
      "[CV] alpha=0.01, hidden_layer_sizes=130 ..............................\n",
      "[CV] ..... alpha=0.01, hidden_layer_sizes=130, score=0.776218 -  10.7s\n",
      "[CV] alpha=0.01, hidden_layer_sizes=130 ..............................\n",
      "[CV] ..... alpha=0.01, hidden_layer_sizes=130, score=0.649719 -  11.6s\n",
      "[CV] alpha=0.01, hidden_layer_sizes=140 ..............................\n",
      "[CV] ..... alpha=0.01, hidden_layer_sizes=140, score=0.810831 -  14.8s\n",
      "[CV] alpha=0.01, hidden_layer_sizes=140 ..............................\n",
      "[CV] ..... alpha=0.01, hidden_layer_sizes=140, score=0.699665 -  13.2s\n",
      "[CV] alpha=0.01, hidden_layer_sizes=140 ..............................\n",
      "[CV] ..... alpha=0.01, hidden_layer_sizes=140, score=0.685016 -  12.3s\n",
      "[CV] alpha=0.01, hidden_layer_sizes=150 ..............................\n",
      "[CV] ..... alpha=0.01, hidden_layer_sizes=150, score=0.789639 -  17.5s\n",
      "[CV] alpha=0.01, hidden_layer_sizes=150 ..............................\n",
      "[CV] ..... alpha=0.01, hidden_layer_sizes=150, score=0.749243 -  15.6s\n",
      "[CV] alpha=0.01, hidden_layer_sizes=150 ..............................\n",
      "[CV] ..... alpha=0.01, hidden_layer_sizes=150, score=0.646570 -  10.5s\n",
      "[CV] alpha=0.1, hidden_layer_sizes=100 ...............................\n",
      "[CV] ...... alpha=0.1, hidden_layer_sizes=100, score=0.759134 -  11.0s\n",
      "[CV] alpha=0.1, hidden_layer_sizes=100 ...............................\n"
     ]
    }
   ],
   "source": [
    "nn_grid.fit(x_train,y_train)"
   ]
  },
  {
   "cell_type": "code",
   "execution_count": null,
   "metadata": {
    "collapsed": true
   },
   "outputs": [],
   "source": [
    "mymlp.fit(x_train,y_train)"
   ]
  },
  {
   "cell_type": "code",
   "execution_count": 54,
   "metadata": {
    "collapsed": true
   },
   "outputs": [],
   "source": [
    "yp = mymlp.predict(x_test)"
   ]
  },
  {
   "cell_type": "code",
   "execution_count": 55,
   "metadata": {},
   "outputs": [
    {
     "data": {
      "text/plain": [
       "13.735165278925558"
      ]
     },
     "execution_count": 55,
     "metadata": {},
     "output_type": "execute_result"
    }
   ],
   "source": [
    "r2(y_test,yp)"
   ]
  },
  {
   "cell_type": "code",
   "execution_count": 48,
   "metadata": {
    "collapsed": true
   },
   "outputs": [],
   "source": [
    "from xgboost import XGBRegressor"
   ]
  },
  {
   "cell_type": "code",
   "execution_count": 49,
   "metadata": {
    "collapsed": true
   },
   "outputs": [],
   "source": [
    "xgb = XGBRegressor()"
   ]
  },
  {
   "cell_type": "code",
   "execution_count": 50,
   "metadata": {
    "collapsed": true
   },
   "outputs": [],
   "source": [
    "param_grid = {'gamma':[1,0,0.1,0.01,0.001,0.0001],'learning_rate':[0.1,0.01,0.001],'max_depth':[3,4,5,6,7]}"
   ]
  },
  {
   "cell_type": "code",
   "execution_count": 55,
   "metadata": {
    "collapsed": true
   },
   "outputs": [],
   "source": [
    "xgb_grid = GridSearchCV(xgb,param_grid,refit=True,verbose=3,scoring='neg_mean_squared_error')"
   ]
  },
  {
   "cell_type": "code",
   "execution_count": 56,
   "metadata": {},
   "outputs": [
    {
     "name": "stdout",
     "output_type": "stream",
     "text": [
      "Fitting 3 folds for each of 90 candidates, totalling 270 fits\n",
      "[CV] gamma=1, learning_rate=0.1, max_depth=3 .........................\n",
      "[CV]  gamma=1, learning_rate=0.1, max_depth=3, score=-26.648993 -   0.0s\n",
      "[CV] gamma=1, learning_rate=0.1, max_depth=3 .........................\n",
      "[CV]  gamma=1, learning_rate=0.1, max_depth=3, score=-12.155380 -   0.0s\n",
      "[CV] gamma=1, learning_rate=0.1, max_depth=3 .........................\n",
      "[CV]  gamma=1, learning_rate=0.1, max_depth=3, score=-13.308975 -   0.0s\n",
      "[CV] gamma=1, learning_rate=0.1, max_depth=4 .........................\n",
      "[CV]  gamma=1, learning_rate=0.1, max_depth=4, score=-27.348362 -   0.0s\n",
      "[CV] gamma=1, learning_rate=0.1, max_depth=4 .........................\n",
      "[CV]  gamma=1, learning_rate=0.1, max_depth=4, score=-12.674963 -   0.0s\n",
      "[CV] gamma=1, learning_rate=0.1, max_depth=4 .........................\n"
     ]
    },
    {
     "name": "stderr",
     "output_type": "stream",
     "text": [
      "[Parallel(n_jobs=1)]: Done   1 out of   1 | elapsed:    0.1s remaining:    0.0s\n",
      "[Parallel(n_jobs=1)]: Done   2 out of   2 | elapsed:    0.1s remaining:    0.0s\n"
     ]
    },
    {
     "name": "stdout",
     "output_type": "stream",
     "text": [
      "[CV]  gamma=1, learning_rate=0.1, max_depth=4, score=-12.737384 -   0.0s\n",
      "[CV] gamma=1, learning_rate=0.1, max_depth=5 .........................\n",
      "[CV]  gamma=1, learning_rate=0.1, max_depth=5, score=-26.962554 -   0.1s\n",
      "[CV] gamma=1, learning_rate=0.1, max_depth=5 .........................\n",
      "[CV]  gamma=1, learning_rate=0.1, max_depth=5, score=-12.560208 -   0.0s\n",
      "[CV] gamma=1, learning_rate=0.1, max_depth=5 .........................\n",
      "[CV]  gamma=1, learning_rate=0.1, max_depth=5, score=-13.217076 -   0.0s\n",
      "[CV] gamma=1, learning_rate=0.1, max_depth=6 .........................\n",
      "[CV]  gamma=1, learning_rate=0.1, max_depth=6, score=-28.727286 -   0.0s\n",
      "[CV] gamma=1, learning_rate=0.1, max_depth=6 .........................\n",
      "[CV]  gamma=1, learning_rate=0.1, max_depth=6, score=-13.656064 -   0.1s\n",
      "[CV] gamma=1, learning_rate=0.1, max_depth=6 .........................\n",
      "[CV]  gamma=1, learning_rate=0.1, max_depth=6, score=-13.031403 -   0.0s\n",
      "[CV] gamma=1, learning_rate=0.1, max_depth=7 .........................\n",
      "[CV]  gamma=1, learning_rate=0.1, max_depth=7, score=-28.670747 -   0.1s\n",
      "[CV] gamma=1, learning_rate=0.1, max_depth=7 .........................\n",
      "[CV]  gamma=1, learning_rate=0.1, max_depth=7, score=-14.727510 -   0.1s\n",
      "[CV] gamma=1, learning_rate=0.1, max_depth=7 .........................\n",
      "[CV]  gamma=1, learning_rate=0.1, max_depth=7, score=-13.016564 -   0.1s\n",
      "[CV] gamma=1, learning_rate=0.01, max_depth=3 ........................\n",
      "[CV]  gamma=1, learning_rate=0.01, max_depth=3, score=-110.494242 -   0.0s\n",
      "[CV] gamma=1, learning_rate=0.01, max_depth=3 ........................\n",
      "[CV]  gamma=1, learning_rate=0.01, max_depth=3, score=-107.442951 -   0.0s\n",
      "[CV] gamma=1, learning_rate=0.01, max_depth=3 ........................\n",
      "[CV]  gamma=1, learning_rate=0.01, max_depth=3, score=-108.321133 -   0.0s\n",
      "[CV] gamma=1, learning_rate=0.01, max_depth=4 ........................\n",
      "[CV]  gamma=1, learning_rate=0.01, max_depth=4, score=-110.861984 -   0.0s\n",
      "[CV] gamma=1, learning_rate=0.01, max_depth=4 ........................\n",
      "[CV]  gamma=1, learning_rate=0.01, max_depth=4, score=-109.560485 -   0.0s\n",
      "[CV] gamma=1, learning_rate=0.01, max_depth=4 ........................\n",
      "[CV]  gamma=1, learning_rate=0.01, max_depth=4, score=-107.056890 -   0.0s\n",
      "[CV] gamma=1, learning_rate=0.01, max_depth=5 ........................\n",
      "[CV]  gamma=1, learning_rate=0.01, max_depth=5, score=-110.991822 -   0.0s\n",
      "[CV] gamma=1, learning_rate=0.01, max_depth=5 ........................\n",
      "[CV]  gamma=1, learning_rate=0.01, max_depth=5, score=-110.308195 -   0.0s\n",
      "[CV] gamma=1, learning_rate=0.01, max_depth=5 ........................\n",
      "[CV]  gamma=1, learning_rate=0.01, max_depth=5, score=-107.076460 -   0.0s\n",
      "[CV] gamma=1, learning_rate=0.01, max_depth=6 ........................\n",
      "[CV]  gamma=1, learning_rate=0.01, max_depth=6, score=-110.905294 -   0.0s\n",
      "[CV] gamma=1, learning_rate=0.01, max_depth=6 ........................\n",
      "[CV]  gamma=1, learning_rate=0.01, max_depth=6, score=-110.367153 -   0.0s\n",
      "[CV] gamma=1, learning_rate=0.01, max_depth=6 ........................\n",
      "[CV]  gamma=1, learning_rate=0.01, max_depth=6, score=-106.866080 -   0.0s\n",
      "[CV] gamma=1, learning_rate=0.01, max_depth=7 ........................\n",
      "[CV]  gamma=1, learning_rate=0.01, max_depth=7, score=-111.077723 -   0.0s\n",
      "[CV] gamma=1, learning_rate=0.01, max_depth=7 ........................\n",
      "[CV]  gamma=1, learning_rate=0.01, max_depth=7, score=-110.367153 -   0.0s\n",
      "[CV] gamma=1, learning_rate=0.01, max_depth=7 ........................\n",
      "[CV]  gamma=1, learning_rate=0.01, max_depth=7, score=-106.878142 -   0.0s\n",
      "[CV] gamma=1, learning_rate=0.001, max_depth=3 .......................\n",
      "[CV]  gamma=1, learning_rate=0.001, max_depth=3, score=-461.835833 -   0.0s\n",
      "[CV] gamma=1, learning_rate=0.001, max_depth=3 .......................\n",
      "[CV]  gamma=1, learning_rate=0.001, max_depth=3, score=-511.931875 -   0.0s\n",
      "[CV] gamma=1, learning_rate=0.001, max_depth=3 .......................\n",
      "[CV]  gamma=1, learning_rate=0.001, max_depth=3, score=-504.929989 -   0.0s\n",
      "[CV] gamma=1, learning_rate=0.001, max_depth=4 .......................\n",
      "[CV]  gamma=1, learning_rate=0.001, max_depth=4, score=-461.727183 -   0.0s\n",
      "[CV] gamma=1, learning_rate=0.001, max_depth=4 .......................\n",
      "[CV]  gamma=1, learning_rate=0.001, max_depth=4, score=-511.958781 -   0.0s\n",
      "[CV] gamma=1, learning_rate=0.001, max_depth=4 .......................\n",
      "[CV]  gamma=1, learning_rate=0.001, max_depth=4, score=-504.622941 -   0.0s\n",
      "[CV] gamma=1, learning_rate=0.001, max_depth=5 .......................\n",
      "[CV]  gamma=1, learning_rate=0.001, max_depth=5, score=-461.727183 -   0.0s\n",
      "[CV] gamma=1, learning_rate=0.001, max_depth=5 .......................\n",
      "[CV]  gamma=1, learning_rate=0.001, max_depth=5, score=-512.143272 -   0.0s\n",
      "[CV] gamma=1, learning_rate=0.001, max_depth=5 .......................\n",
      "[CV]  gamma=1, learning_rate=0.001, max_depth=5, score=-504.622941 -   0.0s\n",
      "[CV] gamma=1, learning_rate=0.001, max_depth=6 .......................\n",
      "[CV]  gamma=1, learning_rate=0.001, max_depth=6, score=-461.727183 -   0.0s\n",
      "[CV] gamma=1, learning_rate=0.001, max_depth=6 .......................\n",
      "[CV]  gamma=1, learning_rate=0.001, max_depth=6, score=-512.143272 -   0.0s\n",
      "[CV] gamma=1, learning_rate=0.001, max_depth=6 .......................\n",
      "[CV]  gamma=1, learning_rate=0.001, max_depth=6, score=-504.622941 -   0.0s\n",
      "[CV] gamma=1, learning_rate=0.001, max_depth=7 .......................\n",
      "[CV]  gamma=1, learning_rate=0.001, max_depth=7, score=-461.727183 -   0.0s\n",
      "[CV] gamma=1, learning_rate=0.001, max_depth=7 .......................\n",
      "[CV]  gamma=1, learning_rate=0.001, max_depth=7, score=-512.143272 -   0.0s\n",
      "[CV] gamma=1, learning_rate=0.001, max_depth=7 .......................\n",
      "[CV]  gamma=1, learning_rate=0.001, max_depth=7, score=-504.622941 -   0.0s\n",
      "[CV] gamma=0, learning_rate=0.1, max_depth=3 .........................\n",
      "[CV]  gamma=0, learning_rate=0.1, max_depth=3, score=-27.195602 -   0.0s\n",
      "[CV] gamma=0, learning_rate=0.1, max_depth=3 .........................\n",
      "[CV]  gamma=0, learning_rate=0.1, max_depth=3, score=-12.237960 -   0.0s\n",
      "[CV] gamma=0, learning_rate=0.1, max_depth=3 .........................\n",
      "[CV]  gamma=0, learning_rate=0.1, max_depth=3, score=-14.010158 -   0.0s\n",
      "[CV] gamma=0, learning_rate=0.1, max_depth=4 .........................\n",
      "[CV]  gamma=0, learning_rate=0.1, max_depth=4, score=-26.252855 -   0.0s\n",
      "[CV] gamma=0, learning_rate=0.1, max_depth=4 .........................\n",
      "[CV]  gamma=0, learning_rate=0.1, max_depth=4, score=-12.910569 -   0.0s\n",
      "[CV] gamma=0, learning_rate=0.1, max_depth=4 .........................\n",
      "[CV]  gamma=0, learning_rate=0.1, max_depth=4, score=-12.686188 -   0.0s\n",
      "[CV] gamma=0, learning_rate=0.1, max_depth=5 .........................\n",
      "[CV]  gamma=0, learning_rate=0.1, max_depth=5, score=-27.065141 -   0.0s\n",
      "[CV] gamma=0, learning_rate=0.1, max_depth=5 .........................\n",
      "[CV]  gamma=0, learning_rate=0.1, max_depth=5, score=-12.639782 -   0.0s\n",
      "[CV] gamma=0, learning_rate=0.1, max_depth=5 .........................\n",
      "[CV]  gamma=0, learning_rate=0.1, max_depth=5, score=-12.180681 -   0.0s\n",
      "[CV] gamma=0, learning_rate=0.1, max_depth=6 .........................\n",
      "[CV]  gamma=0, learning_rate=0.1, max_depth=6, score=-28.934944 -   0.1s\n",
      "[CV] gamma=0, learning_rate=0.1, max_depth=6 .........................\n",
      "[CV]  gamma=0, learning_rate=0.1, max_depth=6, score=-13.853318 -   0.1s\n",
      "[CV] gamma=0, learning_rate=0.1, max_depth=6 .........................\n",
      "[CV]  gamma=0, learning_rate=0.1, max_depth=6, score=-12.438748 -   0.0s\n",
      "[CV] gamma=0, learning_rate=0.1, max_depth=7 .........................\n",
      "[CV]  gamma=0, learning_rate=0.1, max_depth=7, score=-27.098864 -   0.1s\n",
      "[CV] gamma=0, learning_rate=0.1, max_depth=7 .........................\n",
      "[CV]  gamma=0, learning_rate=0.1, max_depth=7, score=-13.814370 -   0.1s\n",
      "[CV] gamma=0, learning_rate=0.1, max_depth=7 .........................\n",
      "[CV]  gamma=0, learning_rate=0.1, max_depth=7, score=-12.726910 -   0.1s\n",
      "[CV] gamma=0, learning_rate=0.01, max_depth=3 ........................\n",
      "[CV]  gamma=0, learning_rate=0.01, max_depth=3, score=-110.494242 -   0.0s\n",
      "[CV] gamma=0, learning_rate=0.01, max_depth=3 ........................\n",
      "[CV]  gamma=0, learning_rate=0.01, max_depth=3, score=-107.442951 -   0.0s\n",
      "[CV] gamma=0, learning_rate=0.01, max_depth=3 ........................\n"
     ]
    },
    {
     "name": "stdout",
     "output_type": "stream",
     "text": [
      "[CV]  gamma=0, learning_rate=0.01, max_depth=3, score=-108.382018 -   0.0s\n",
      "[CV] gamma=0, learning_rate=0.01, max_depth=4 ........................\n",
      "[CV]  gamma=0, learning_rate=0.01, max_depth=4, score=-110.682525 -   0.0s\n",
      "[CV] gamma=0, learning_rate=0.01, max_depth=4 ........................\n",
      "[CV]  gamma=0, learning_rate=0.01, max_depth=4, score=-109.717766 -   0.0s\n",
      "[CV] gamma=0, learning_rate=0.01, max_depth=4 ........................\n",
      "[CV]  gamma=0, learning_rate=0.01, max_depth=4, score=-106.962966 -   0.0s\n",
      "[CV] gamma=0, learning_rate=0.01, max_depth=5 ........................\n",
      "[CV]  gamma=0, learning_rate=0.01, max_depth=5, score=-111.130606 -   0.0s\n",
      "[CV] gamma=0, learning_rate=0.01, max_depth=5 ........................\n",
      "[CV]  gamma=0, learning_rate=0.01, max_depth=5, score=-110.743613 -   0.0s\n",
      "[CV] gamma=0, learning_rate=0.01, max_depth=5 ........................\n",
      "[CV]  gamma=0, learning_rate=0.01, max_depth=5, score=-106.936871 -   0.0s\n",
      "[CV] gamma=0, learning_rate=0.01, max_depth=6 ........................\n",
      "[CV]  gamma=0, learning_rate=0.01, max_depth=6, score=-110.927381 -   0.0s\n",
      "[CV] gamma=0, learning_rate=0.01, max_depth=6 ........................\n",
      "[CV]  gamma=0, learning_rate=0.01, max_depth=6, score=-110.511970 -   0.0s\n",
      "[CV] gamma=0, learning_rate=0.01, max_depth=6 ........................\n",
      "[CV]  gamma=0, learning_rate=0.01, max_depth=6, score=-106.884776 -   0.0s\n",
      "[CV] gamma=0, learning_rate=0.01, max_depth=7 ........................\n",
      "[CV]  gamma=0, learning_rate=0.01, max_depth=7, score=-110.930100 -   0.1s\n",
      "[CV] gamma=0, learning_rate=0.01, max_depth=7 ........................\n",
      "[CV]  gamma=0, learning_rate=0.01, max_depth=7, score=-110.511970 -   0.0s\n",
      "[CV] gamma=0, learning_rate=0.01, max_depth=7 ........................\n",
      "[CV]  gamma=0, learning_rate=0.01, max_depth=7, score=-106.885555 -   0.0s\n",
      "[CV] gamma=0, learning_rate=0.001, max_depth=3 .......................\n",
      "[CV]  gamma=0, learning_rate=0.001, max_depth=3, score=-461.835833 -   0.0s\n",
      "[CV] gamma=0, learning_rate=0.001, max_depth=3 .......................\n",
      "[CV]  gamma=0, learning_rate=0.001, max_depth=3, score=-511.931875 -   0.0s\n",
      "[CV] gamma=0, learning_rate=0.001, max_depth=3 .......................\n",
      "[CV]  gamma=0, learning_rate=0.001, max_depth=3, score=-504.929989 -   0.0s\n",
      "[CV] gamma=0, learning_rate=0.001, max_depth=4 .......................\n",
      "[CV]  gamma=0, learning_rate=0.001, max_depth=4, score=-461.725251 -   0.0s\n",
      "[CV] gamma=0, learning_rate=0.001, max_depth=4 .......................\n",
      "[CV]  gamma=0, learning_rate=0.001, max_depth=4, score=-511.966047 -   0.0s\n",
      "[CV] gamma=0, learning_rate=0.001, max_depth=4 .......................\n",
      "[CV]  gamma=0, learning_rate=0.001, max_depth=4, score=-504.622941 -   0.0s\n",
      "[CV] gamma=0, learning_rate=0.001, max_depth=5 .......................\n",
      "[CV]  gamma=0, learning_rate=0.001, max_depth=5, score=-461.725251 -   0.0s\n",
      "[CV] gamma=0, learning_rate=0.001, max_depth=5 .......................\n",
      "[CV]  gamma=0, learning_rate=0.001, max_depth=5, score=-512.152197 -   0.0s\n",
      "[CV] gamma=0, learning_rate=0.001, max_depth=5 .......................\n",
      "[CV]  gamma=0, learning_rate=0.001, max_depth=5, score=-504.622941 -   0.0s\n",
      "[CV] gamma=0, learning_rate=0.001, max_depth=6 .......................\n",
      "[CV]  gamma=0, learning_rate=0.001, max_depth=6, score=-461.725251 -   0.0s\n",
      "[CV] gamma=0, learning_rate=0.001, max_depth=6 .......................\n",
      "[CV]  gamma=0, learning_rate=0.001, max_depth=6, score=-512.152197 -   0.0s\n",
      "[CV] gamma=0, learning_rate=0.001, max_depth=6 .......................\n",
      "[CV]  gamma=0, learning_rate=0.001, max_depth=6, score=-504.622941 -   0.0s\n",
      "[CV] gamma=0, learning_rate=0.001, max_depth=7 .......................\n",
      "[CV]  gamma=0, learning_rate=0.001, max_depth=7, score=-461.725251 -   0.0s\n",
      "[CV] gamma=0, learning_rate=0.001, max_depth=7 .......................\n",
      "[CV]  gamma=0, learning_rate=0.001, max_depth=7, score=-512.152197 -   0.0s\n",
      "[CV] gamma=0, learning_rate=0.001, max_depth=7 .......................\n",
      "[CV]  gamma=0, learning_rate=0.001, max_depth=7, score=-504.622941 -   0.0s\n",
      "[CV] gamma=0.1, learning_rate=0.1, max_depth=3 .......................\n",
      "[CV]  gamma=0.1, learning_rate=0.1, max_depth=3, score=-27.625366 -   0.0s\n",
      "[CV] gamma=0.1, learning_rate=0.1, max_depth=3 .......................\n",
      "[CV]  gamma=0.1, learning_rate=0.1, max_depth=3, score=-12.260164 -   0.0s\n",
      "[CV] gamma=0.1, learning_rate=0.1, max_depth=3 .......................\n",
      "[CV]  gamma=0.1, learning_rate=0.1, max_depth=3, score=-13.828559 -   0.0s\n",
      "[CV] gamma=0.1, learning_rate=0.1, max_depth=4 .......................\n",
      "[CV]  gamma=0.1, learning_rate=0.1, max_depth=4, score=-25.936768 -   0.0s\n",
      "[CV] gamma=0.1, learning_rate=0.1, max_depth=4 .......................\n",
      "[CV]  gamma=0.1, learning_rate=0.1, max_depth=4, score=-12.885670 -   0.0s\n",
      "[CV] gamma=0.1, learning_rate=0.1, max_depth=4 .......................\n",
      "[CV]  gamma=0.1, learning_rate=0.1, max_depth=4, score=-12.719064 -   0.0s\n",
      "[CV] gamma=0.1, learning_rate=0.1, max_depth=5 .......................\n",
      "[CV]  gamma=0.1, learning_rate=0.1, max_depth=5, score=-27.489448 -   0.1s\n",
      "[CV] gamma=0.1, learning_rate=0.1, max_depth=5 .......................\n",
      "[CV]  gamma=0.1, learning_rate=0.1, max_depth=5, score=-12.926628 -   0.1s\n",
      "[CV] gamma=0.1, learning_rate=0.1, max_depth=5 .......................\n",
      "[CV]  gamma=0.1, learning_rate=0.1, max_depth=5, score=-12.173379 -   0.0s\n",
      "[CV] gamma=0.1, learning_rate=0.1, max_depth=6 .......................\n",
      "[CV]  gamma=0.1, learning_rate=0.1, max_depth=6, score=-28.766198 -   0.1s\n",
      "[CV] gamma=0.1, learning_rate=0.1, max_depth=6 .......................\n",
      "[CV]  gamma=0.1, learning_rate=0.1, max_depth=6, score=-13.534847 -   0.0s\n",
      "[CV] gamma=0.1, learning_rate=0.1, max_depth=6 .......................\n",
      "[CV]  gamma=0.1, learning_rate=0.1, max_depth=6, score=-13.270643 -   0.1s\n",
      "[CV] gamma=0.1, learning_rate=0.1, max_depth=7 .......................\n",
      "[CV]  gamma=0.1, learning_rate=0.1, max_depth=7, score=-28.815228 -   0.1s\n",
      "[CV] gamma=0.1, learning_rate=0.1, max_depth=7 .......................\n",
      "[CV]  gamma=0.1, learning_rate=0.1, max_depth=7, score=-13.769939 -   0.1s\n",
      "[CV] gamma=0.1, learning_rate=0.1, max_depth=7 .......................\n",
      "[CV]  gamma=0.1, learning_rate=0.1, max_depth=7, score=-12.785970 -   0.1s\n",
      "[CV] gamma=0.1, learning_rate=0.01, max_depth=3 ......................\n",
      "[CV]  gamma=0.1, learning_rate=0.01, max_depth=3, score=-110.494242 -   0.0s\n",
      "[CV] gamma=0.1, learning_rate=0.01, max_depth=3 ......................\n",
      "[CV]  gamma=0.1, learning_rate=0.01, max_depth=3, score=-107.442951 -   0.0s\n",
      "[CV] gamma=0.1, learning_rate=0.01, max_depth=3 ......................\n",
      "[CV]  gamma=0.1, learning_rate=0.01, max_depth=3, score=-108.409054 -   0.0s\n",
      "[CV] gamma=0.1, learning_rate=0.01, max_depth=4 ......................\n",
      "[CV]  gamma=0.1, learning_rate=0.01, max_depth=4, score=-110.571053 -   0.0s\n",
      "[CV] gamma=0.1, learning_rate=0.01, max_depth=4 ......................\n",
      "[CV]  gamma=0.1, learning_rate=0.01, max_depth=4, score=-109.717553 -   0.0s\n",
      "[CV] gamma=0.1, learning_rate=0.01, max_depth=4 ......................\n",
      "[CV]  gamma=0.1, learning_rate=0.01, max_depth=4, score=-106.943580 -   0.0s\n",
      "[CV] gamma=0.1, learning_rate=0.01, max_depth=5 ......................\n",
      "[CV]  gamma=0.1, learning_rate=0.01, max_depth=5, score=-111.059953 -   0.1s\n",
      "[CV] gamma=0.1, learning_rate=0.01, max_depth=5 ......................\n",
      "[CV]  gamma=0.1, learning_rate=0.01, max_depth=5, score=-110.741748 -   0.0s\n",
      "[CV] gamma=0.1, learning_rate=0.01, max_depth=5 ......................\n",
      "[CV]  gamma=0.1, learning_rate=0.01, max_depth=5, score=-106.898211 -   0.0s\n",
      "[CV] gamma=0.1, learning_rate=0.01, max_depth=6 ......................\n",
      "[CV]  gamma=0.1, learning_rate=0.01, max_depth=6, score=-110.952433 -   0.0s\n",
      "[CV] gamma=0.1, learning_rate=0.01, max_depth=6 ......................\n",
      "[CV]  gamma=0.1, learning_rate=0.01, max_depth=6, score=-110.496513 -   0.0s\n",
      "[CV] gamma=0.1, learning_rate=0.01, max_depth=6 ......................\n",
      "[CV]  gamma=0.1, learning_rate=0.01, max_depth=6, score=-106.800861 -   0.0s\n",
      "[CV] gamma=0.1, learning_rate=0.01, max_depth=7 ......................\n",
      "[CV]  gamma=0.1, learning_rate=0.01, max_depth=7, score=-110.946351 -   0.0s\n",
      "[CV] gamma=0.1, learning_rate=0.01, max_depth=7 ......................\n",
      "[CV]  gamma=0.1, learning_rate=0.01, max_depth=7, score=-110.496513 -   0.0s\n",
      "[CV] gamma=0.1, learning_rate=0.01, max_depth=7 ......................\n",
      "[CV]  gamma=0.1, learning_rate=0.01, max_depth=7, score=-106.874445 -   0.0s\n",
      "[CV] gamma=0.1, learning_rate=0.001, max_depth=3 .....................\n",
      "[CV]  gamma=0.1, learning_rate=0.001, max_depth=3, score=-461.835833 -   0.0s\n",
      "[CV] gamma=0.1, learning_rate=0.001, max_depth=3 .....................\n",
      "[CV]  gamma=0.1, learning_rate=0.001, max_depth=3, score=-511.931875 -   0.0s\n",
      "[CV] gamma=0.1, learning_rate=0.001, max_depth=3 .....................\n"
     ]
    },
    {
     "name": "stdout",
     "output_type": "stream",
     "text": [
      "[CV]  gamma=0.1, learning_rate=0.001, max_depth=3, score=-504.929989 -   0.0s\n",
      "[CV] gamma=0.1, learning_rate=0.001, max_depth=4 .....................\n",
      "[CV]  gamma=0.1, learning_rate=0.001, max_depth=4, score=-461.726627 -   0.0s\n",
      "[CV] gamma=0.1, learning_rate=0.001, max_depth=4 .....................\n",
      "[CV]  gamma=0.1, learning_rate=0.001, max_depth=4, score=-511.966122 -   0.0s\n",
      "[CV] gamma=0.1, learning_rate=0.001, max_depth=4 .....................\n",
      "[CV]  gamma=0.1, learning_rate=0.001, max_depth=4, score=-504.622941 -   0.0s\n",
      "[CV] gamma=0.1, learning_rate=0.001, max_depth=5 .....................\n",
      "[CV]  gamma=0.1, learning_rate=0.001, max_depth=5, score=-461.726627 -   0.0s\n",
      "[CV] gamma=0.1, learning_rate=0.001, max_depth=5 .....................\n",
      "[CV]  gamma=0.1, learning_rate=0.001, max_depth=5, score=-512.154051 -   0.0s\n",
      "[CV] gamma=0.1, learning_rate=0.001, max_depth=5 .....................\n",
      "[CV]  gamma=0.1, learning_rate=0.001, max_depth=5, score=-504.622941 -   0.0s\n",
      "[CV] gamma=0.1, learning_rate=0.001, max_depth=6 .....................\n",
      "[CV]  gamma=0.1, learning_rate=0.001, max_depth=6, score=-461.726627 -   0.0s\n",
      "[CV] gamma=0.1, learning_rate=0.001, max_depth=6 .....................\n",
      "[CV]  gamma=0.1, learning_rate=0.001, max_depth=6, score=-512.154051 -   0.0s\n",
      "[CV] gamma=0.1, learning_rate=0.001, max_depth=6 .....................\n",
      "[CV]  gamma=0.1, learning_rate=0.001, max_depth=6, score=-504.622941 -   0.0s\n",
      "[CV] gamma=0.1, learning_rate=0.001, max_depth=7 .....................\n",
      "[CV]  gamma=0.1, learning_rate=0.001, max_depth=7, score=-461.726627 -   0.0s\n",
      "[CV] gamma=0.1, learning_rate=0.001, max_depth=7 .....................\n",
      "[CV]  gamma=0.1, learning_rate=0.001, max_depth=7, score=-512.154051 -   0.0s\n",
      "[CV] gamma=0.1, learning_rate=0.001, max_depth=7 .....................\n",
      "[CV]  gamma=0.1, learning_rate=0.001, max_depth=7, score=-504.622941 -   0.0s\n",
      "[CV] gamma=0.01, learning_rate=0.1, max_depth=3 ......................\n",
      "[CV]  gamma=0.01, learning_rate=0.1, max_depth=3, score=-27.195602 -   0.0s\n",
      "[CV] gamma=0.01, learning_rate=0.1, max_depth=3 ......................\n",
      "[CV]  gamma=0.01, learning_rate=0.1, max_depth=3, score=-12.237960 -   0.0s\n",
      "[CV] gamma=0.01, learning_rate=0.1, max_depth=3 ......................\n",
      "[CV]  gamma=0.01, learning_rate=0.1, max_depth=3, score=-14.042336 -   0.0s\n",
      "[CV] gamma=0.01, learning_rate=0.1, max_depth=4 ......................\n",
      "[CV]  gamma=0.01, learning_rate=0.1, max_depth=4, score=-26.399924 -   0.0s\n",
      "[CV] gamma=0.01, learning_rate=0.1, max_depth=4 ......................\n",
      "[CV]  gamma=0.01, learning_rate=0.1, max_depth=4, score=-12.640800 -   0.0s\n",
      "[CV] gamma=0.01, learning_rate=0.1, max_depth=4 ......................\n",
      "[CV]  gamma=0.01, learning_rate=0.1, max_depth=4, score=-12.680525 -   0.0s\n",
      "[CV] gamma=0.01, learning_rate=0.1, max_depth=5 ......................\n",
      "[CV]  gamma=0.01, learning_rate=0.1, max_depth=5, score=-27.044321 -   0.1s\n",
      "[CV] gamma=0.01, learning_rate=0.1, max_depth=5 ......................\n",
      "[CV]  gamma=0.01, learning_rate=0.1, max_depth=5, score=-12.717872 -   0.0s\n",
      "[CV] gamma=0.01, learning_rate=0.1, max_depth=5 ......................\n",
      "[CV]  gamma=0.01, learning_rate=0.1, max_depth=5, score=-12.298431 -   0.0s\n",
      "[CV] gamma=0.01, learning_rate=0.1, max_depth=6 ......................\n",
      "[CV]  gamma=0.01, learning_rate=0.1, max_depth=6, score=-28.860481 -   0.1s\n",
      "[CV] gamma=0.01, learning_rate=0.1, max_depth=6 ......................\n",
      "[CV]  gamma=0.01, learning_rate=0.1, max_depth=6, score=-13.877315 -   0.0s\n",
      "[CV] gamma=0.01, learning_rate=0.1, max_depth=6 ......................\n",
      "[CV]  gamma=0.01, learning_rate=0.1, max_depth=6, score=-12.566329 -   0.1s\n",
      "[CV] gamma=0.01, learning_rate=0.1, max_depth=7 ......................\n",
      "[CV]  gamma=0.01, learning_rate=0.1, max_depth=7, score=-26.975690 -   0.1s\n",
      "[CV] gamma=0.01, learning_rate=0.1, max_depth=7 ......................\n",
      "[CV]  gamma=0.01, learning_rate=0.1, max_depth=7, score=-13.557939 -   0.1s\n",
      "[CV] gamma=0.01, learning_rate=0.1, max_depth=7 ......................\n",
      "[CV]  gamma=0.01, learning_rate=0.1, max_depth=7, score=-12.989070 -   0.1s\n",
      "[CV] gamma=0.01, learning_rate=0.01, max_depth=3 .....................\n",
      "[CV]  gamma=0.01, learning_rate=0.01, max_depth=3, score=-110.494242 -   0.0s\n",
      "[CV] gamma=0.01, learning_rate=0.01, max_depth=3 .....................\n",
      "[CV]  gamma=0.01, learning_rate=0.01, max_depth=3, score=-107.442951 -   0.0s\n",
      "[CV] gamma=0.01, learning_rate=0.01, max_depth=3 .....................\n",
      "[CV]  gamma=0.01, learning_rate=0.01, max_depth=3, score=-108.382000 -   0.0s\n",
      "[CV] gamma=0.01, learning_rate=0.01, max_depth=4 .....................\n",
      "[CV]  gamma=0.01, learning_rate=0.01, max_depth=4, score=-110.682525 -   0.0s\n",
      "[CV] gamma=0.01, learning_rate=0.01, max_depth=4 .....................\n",
      "[CV]  gamma=0.01, learning_rate=0.01, max_depth=4, score=-109.717766 -   0.0s\n",
      "[CV] gamma=0.01, learning_rate=0.01, max_depth=4 .....................\n",
      "[CV]  gamma=0.01, learning_rate=0.01, max_depth=4, score=-106.962966 -   0.0s\n",
      "[CV] gamma=0.01, learning_rate=0.01, max_depth=5 .....................\n",
      "[CV]  gamma=0.01, learning_rate=0.01, max_depth=5, score=-111.130606 -   0.1s\n",
      "[CV] gamma=0.01, learning_rate=0.01, max_depth=5 .....................\n",
      "[CV]  gamma=0.01, learning_rate=0.01, max_depth=5, score=-110.743613 -   0.0s\n",
      "[CV] gamma=0.01, learning_rate=0.01, max_depth=5 .....................\n",
      "[CV]  gamma=0.01, learning_rate=0.01, max_depth=5, score=-106.959328 -   0.0s\n",
      "[CV] gamma=0.01, learning_rate=0.01, max_depth=6 .....................\n",
      "[CV]  gamma=0.01, learning_rate=0.01, max_depth=6, score=-110.927361 -   0.0s\n",
      "[CV] gamma=0.01, learning_rate=0.01, max_depth=6 .....................\n",
      "[CV]  gamma=0.01, learning_rate=0.01, max_depth=6, score=-110.511970 -   0.0s\n",
      "[CV] gamma=0.01, learning_rate=0.01, max_depth=6 .....................\n",
      "[CV]  gamma=0.01, learning_rate=0.01, max_depth=6, score=-106.883284 -   0.0s\n",
      "[CV] gamma=0.01, learning_rate=0.01, max_depth=7 .....................\n",
      "[CV]  gamma=0.01, learning_rate=0.01, max_depth=7, score=-110.930081 -   0.0s\n",
      "[CV] gamma=0.01, learning_rate=0.01, max_depth=7 .....................\n",
      "[CV]  gamma=0.01, learning_rate=0.01, max_depth=7, score=-110.511970 -   0.0s\n",
      "[CV] gamma=0.01, learning_rate=0.01, max_depth=7 .....................\n",
      "[CV]  gamma=0.01, learning_rate=0.01, max_depth=7, score=-106.885555 -   0.0s\n",
      "[CV] gamma=0.01, learning_rate=0.001, max_depth=3 ....................\n",
      "[CV]  gamma=0.01, learning_rate=0.001, max_depth=3, score=-461.835833 -   0.0s\n",
      "[CV] gamma=0.01, learning_rate=0.001, max_depth=3 ....................\n",
      "[CV]  gamma=0.01, learning_rate=0.001, max_depth=3, score=-511.931875 -   0.0s\n",
      "[CV] gamma=0.01, learning_rate=0.001, max_depth=3 ....................\n",
      "[CV]  gamma=0.01, learning_rate=0.001, max_depth=3, score=-504.929989 -   0.0s\n",
      "[CV] gamma=0.01, learning_rate=0.001, max_depth=4 ....................\n",
      "[CV]  gamma=0.01, learning_rate=0.001, max_depth=4, score=-461.725720 -   0.0s\n",
      "[CV] gamma=0.01, learning_rate=0.001, max_depth=4 ....................\n",
      "[CV]  gamma=0.01, learning_rate=0.001, max_depth=4, score=-511.966047 -   0.0s\n",
      "[CV] gamma=0.01, learning_rate=0.001, max_depth=4 ....................\n",
      "[CV]  gamma=0.01, learning_rate=0.001, max_depth=4, score=-504.622941 -   0.0s\n",
      "[CV] gamma=0.01, learning_rate=0.001, max_depth=5 ....................\n",
      "[CV]  gamma=0.01, learning_rate=0.001, max_depth=5, score=-461.725720 -   0.0s\n",
      "[CV] gamma=0.01, learning_rate=0.001, max_depth=5 ....................\n",
      "[CV]  gamma=0.01, learning_rate=0.001, max_depth=5, score=-512.152197 -   0.0s\n",
      "[CV] gamma=0.01, learning_rate=0.001, max_depth=5 ....................\n",
      "[CV]  gamma=0.01, learning_rate=0.001, max_depth=5, score=-504.622941 -   0.0s\n",
      "[CV] gamma=0.01, learning_rate=0.001, max_depth=6 ....................\n",
      "[CV]  gamma=0.01, learning_rate=0.001, max_depth=6, score=-461.725720 -   0.0s\n",
      "[CV] gamma=0.01, learning_rate=0.001, max_depth=6 ....................\n",
      "[CV]  gamma=0.01, learning_rate=0.001, max_depth=6, score=-512.152197 -   0.0s\n",
      "[CV] gamma=0.01, learning_rate=0.001, max_depth=6 ....................\n",
      "[CV]  gamma=0.01, learning_rate=0.001, max_depth=6, score=-504.622941 -   0.0s\n",
      "[CV] gamma=0.01, learning_rate=0.001, max_depth=7 ....................\n",
      "[CV]  gamma=0.01, learning_rate=0.001, max_depth=7, score=-461.725720 -   0.0s\n",
      "[CV] gamma=0.01, learning_rate=0.001, max_depth=7 ....................\n",
      "[CV]  gamma=0.01, learning_rate=0.001, max_depth=7, score=-512.152197 -   0.0s\n",
      "[CV] gamma=0.01, learning_rate=0.001, max_depth=7 ....................\n"
     ]
    },
    {
     "name": "stdout",
     "output_type": "stream",
     "text": [
      "[CV]  gamma=0.01, learning_rate=0.001, max_depth=7, score=-504.622941 -   0.0s\n",
      "[CV] gamma=0.001, learning_rate=0.1, max_depth=3 .....................\n",
      "[CV]  gamma=0.001, learning_rate=0.1, max_depth=3, score=-27.195602 -   0.0s\n",
      "[CV] gamma=0.001, learning_rate=0.1, max_depth=3 .....................\n",
      "[CV]  gamma=0.001, learning_rate=0.1, max_depth=3, score=-12.237960 -   0.0s\n",
      "[CV] gamma=0.001, learning_rate=0.1, max_depth=3 .....................\n",
      "[CV]  gamma=0.001, learning_rate=0.1, max_depth=3, score=-14.010158 -   0.0s\n",
      "[CV] gamma=0.001, learning_rate=0.1, max_depth=4 .....................\n",
      "[CV]  gamma=0.001, learning_rate=0.1, max_depth=4, score=-26.377524 -   0.0s\n",
      "[CV] gamma=0.001, learning_rate=0.1, max_depth=4 .....................\n",
      "[CV]  gamma=0.001, learning_rate=0.1, max_depth=4, score=-12.640811 -   0.0s\n",
      "[CV] gamma=0.001, learning_rate=0.1, max_depth=4 .....................\n",
      "[CV]  gamma=0.001, learning_rate=0.1, max_depth=4, score=-12.686188 -   0.0s\n",
      "[CV] gamma=0.001, learning_rate=0.1, max_depth=5 .....................\n",
      "[CV]  gamma=0.001, learning_rate=0.1, max_depth=5, score=-26.959638 -   0.0s\n",
      "[CV] gamma=0.001, learning_rate=0.1, max_depth=5 .....................\n",
      "[CV]  gamma=0.001, learning_rate=0.1, max_depth=5, score=-12.641737 -   0.0s\n",
      "[CV] gamma=0.001, learning_rate=0.1, max_depth=5 .....................\n",
      "[CV]  gamma=0.001, learning_rate=0.1, max_depth=5, score=-12.164211 -   0.0s\n",
      "[CV] gamma=0.001, learning_rate=0.1, max_depth=6 .....................\n",
      "[CV]  gamma=0.001, learning_rate=0.1, max_depth=6, score=-29.056972 -   0.1s\n",
      "[CV] gamma=0.001, learning_rate=0.1, max_depth=6 .....................\n",
      "[CV]  gamma=0.001, learning_rate=0.1, max_depth=6, score=-13.869535 -   0.0s\n",
      "[CV] gamma=0.001, learning_rate=0.1, max_depth=6 .....................\n",
      "[CV]  gamma=0.001, learning_rate=0.1, max_depth=6, score=-12.483039 -   0.1s\n",
      "[CV] gamma=0.001, learning_rate=0.1, max_depth=7 .....................\n",
      "[CV]  gamma=0.001, learning_rate=0.1, max_depth=7, score=-26.938899 -   0.1s\n",
      "[CV] gamma=0.001, learning_rate=0.1, max_depth=7 .....................\n",
      "[CV]  gamma=0.001, learning_rate=0.1, max_depth=7, score=-13.698393 -   0.1s\n",
      "[CV] gamma=0.001, learning_rate=0.1, max_depth=7 .....................\n",
      "[CV]  gamma=0.001, learning_rate=0.1, max_depth=7, score=-12.753089 -   0.1s\n",
      "[CV] gamma=0.001, learning_rate=0.01, max_depth=3 ....................\n",
      "[CV]  gamma=0.001, learning_rate=0.01, max_depth=3, score=-110.494242 -   0.0s\n",
      "[CV] gamma=0.001, learning_rate=0.01, max_depth=3 ....................\n",
      "[CV]  gamma=0.001, learning_rate=0.01, max_depth=3, score=-107.442951 -   0.0s\n",
      "[CV] gamma=0.001, learning_rate=0.01, max_depth=3 ....................\n",
      "[CV]  gamma=0.001, learning_rate=0.01, max_depth=3, score=-108.382018 -   0.0s\n",
      "[CV] gamma=0.001, learning_rate=0.01, max_depth=4 ....................\n",
      "[CV]  gamma=0.001, learning_rate=0.01, max_depth=4, score=-110.682525 -   0.0s\n",
      "[CV] gamma=0.001, learning_rate=0.01, max_depth=4 ....................\n",
      "[CV]  gamma=0.001, learning_rate=0.01, max_depth=4, score=-109.717766 -   0.0s\n",
      "[CV] gamma=0.001, learning_rate=0.01, max_depth=4 ....................\n",
      "[CV]  gamma=0.001, learning_rate=0.01, max_depth=4, score=-106.962966 -   0.0s\n",
      "[CV] gamma=0.001, learning_rate=0.01, max_depth=5 ....................\n",
      "[CV]  gamma=0.001, learning_rate=0.01, max_depth=5, score=-111.130606 -   0.0s\n",
      "[CV] gamma=0.001, learning_rate=0.01, max_depth=5 ....................\n",
      "[CV]  gamma=0.001, learning_rate=0.01, max_depth=5, score=-110.743613 -   0.0s\n",
      "[CV] gamma=0.001, learning_rate=0.01, max_depth=5 ....................\n",
      "[CV]  gamma=0.001, learning_rate=0.01, max_depth=5, score=-106.936871 -   0.0s\n",
      "[CV] gamma=0.001, learning_rate=0.01, max_depth=6 ....................\n",
      "[CV]  gamma=0.001, learning_rate=0.01, max_depth=6, score=-110.927381 -   0.0s\n",
      "[CV] gamma=0.001, learning_rate=0.01, max_depth=6 ....................\n",
      "[CV]  gamma=0.001, learning_rate=0.01, max_depth=6, score=-110.511970 -   0.0s\n",
      "[CV] gamma=0.001, learning_rate=0.01, max_depth=6 ....................\n",
      "[CV]  gamma=0.001, learning_rate=0.01, max_depth=6, score=-106.884776 -   0.0s\n",
      "[CV] gamma=0.001, learning_rate=0.01, max_depth=7 ....................\n",
      "[CV]  gamma=0.001, learning_rate=0.01, max_depth=7, score=-110.930100 -   0.0s\n",
      "[CV] gamma=0.001, learning_rate=0.01, max_depth=7 ....................\n",
      "[CV]  gamma=0.001, learning_rate=0.01, max_depth=7, score=-110.511970 -   0.0s\n",
      "[CV] gamma=0.001, learning_rate=0.01, max_depth=7 ....................\n",
      "[CV]  gamma=0.001, learning_rate=0.01, max_depth=7, score=-106.885555 -   0.0s\n",
      "[CV] gamma=0.001, learning_rate=0.001, max_depth=3 ...................\n",
      "[CV]  gamma=0.001, learning_rate=0.001, max_depth=3, score=-461.835833 -   0.0s\n",
      "[CV] gamma=0.001, learning_rate=0.001, max_depth=3 ...................\n",
      "[CV]  gamma=0.001, learning_rate=0.001, max_depth=3, score=-511.931875 -   0.0s\n",
      "[CV] gamma=0.001, learning_rate=0.001, max_depth=3 ...................\n",
      "[CV]  gamma=0.001, learning_rate=0.001, max_depth=3, score=-504.929989 -   0.0s\n",
      "[CV] gamma=0.001, learning_rate=0.001, max_depth=4 ...................\n",
      "[CV]  gamma=0.001, learning_rate=0.001, max_depth=4, score=-461.725719 -   0.0s\n",
      "[CV] gamma=0.001, learning_rate=0.001, max_depth=4 ...................\n",
      "[CV]  gamma=0.001, learning_rate=0.001, max_depth=4, score=-511.966047 -   0.0s\n",
      "[CV] gamma=0.001, learning_rate=0.001, max_depth=4 ...................\n",
      "[CV]  gamma=0.001, learning_rate=0.001, max_depth=4, score=-504.622941 -   0.0s\n",
      "[CV] gamma=0.001, learning_rate=0.001, max_depth=5 ...................\n",
      "[CV]  gamma=0.001, learning_rate=0.001, max_depth=5, score=-461.725719 -   0.0s\n",
      "[CV] gamma=0.001, learning_rate=0.001, max_depth=5 ...................\n",
      "[CV]  gamma=0.001, learning_rate=0.001, max_depth=5, score=-512.152197 -   0.0s\n",
      "[CV] gamma=0.001, learning_rate=0.001, max_depth=5 ...................\n",
      "[CV]  gamma=0.001, learning_rate=0.001, max_depth=5, score=-504.622941 -   0.0s\n",
      "[CV] gamma=0.001, learning_rate=0.001, max_depth=6 ...................\n",
      "[CV]  gamma=0.001, learning_rate=0.001, max_depth=6, score=-461.725719 -   0.0s\n",
      "[CV] gamma=0.001, learning_rate=0.001, max_depth=6 ...................\n",
      "[CV]  gamma=0.001, learning_rate=0.001, max_depth=6, score=-512.152197 -   0.0s\n",
      "[CV] gamma=0.001, learning_rate=0.001, max_depth=6 ...................\n",
      "[CV]  gamma=0.001, learning_rate=0.001, max_depth=6, score=-504.622941 -   0.0s\n",
      "[CV] gamma=0.001, learning_rate=0.001, max_depth=7 ...................\n",
      "[CV]  gamma=0.001, learning_rate=0.001, max_depth=7, score=-461.725719 -   0.0s\n",
      "[CV] gamma=0.001, learning_rate=0.001, max_depth=7 ...................\n",
      "[CV]  gamma=0.001, learning_rate=0.001, max_depth=7, score=-512.152197 -   0.0s\n",
      "[CV] gamma=0.001, learning_rate=0.001, max_depth=7 ...................\n",
      "[CV]  gamma=0.001, learning_rate=0.001, max_depth=7, score=-504.622941 -   0.0s\n",
      "[CV] gamma=0.0001, learning_rate=0.1, max_depth=3 ....................\n",
      "[CV]  gamma=0.0001, learning_rate=0.1, max_depth=3, score=-27.195602 -   0.0s\n",
      "[CV] gamma=0.0001, learning_rate=0.1, max_depth=3 ....................\n",
      "[CV]  gamma=0.0001, learning_rate=0.1, max_depth=3, score=-12.237960 -   0.0s\n",
      "[CV] gamma=0.0001, learning_rate=0.1, max_depth=3 ....................\n",
      "[CV]  gamma=0.0001, learning_rate=0.1, max_depth=3, score=-14.010158 -   0.0s\n",
      "[CV] gamma=0.0001, learning_rate=0.1, max_depth=4 ....................\n",
      "[CV]  gamma=0.0001, learning_rate=0.1, max_depth=4, score=-26.252855 -   0.0s\n",
      "[CV] gamma=0.0001, learning_rate=0.1, max_depth=4 ....................\n",
      "[CV]  gamma=0.0001, learning_rate=0.1, max_depth=4, score=-12.910569 -   0.0s\n",
      "[CV] gamma=0.0001, learning_rate=0.1, max_depth=4 ....................\n",
      "[CV]  gamma=0.0001, learning_rate=0.1, max_depth=4, score=-12.686188 -   0.0s\n",
      "[CV] gamma=0.0001, learning_rate=0.1, max_depth=5 ....................\n",
      "[CV]  gamma=0.0001, learning_rate=0.1, max_depth=5, score=-27.065089 -   0.0s\n",
      "[CV] gamma=0.0001, learning_rate=0.1, max_depth=5 ....................\n",
      "[CV]  gamma=0.0001, learning_rate=0.1, max_depth=5, score=-12.639782 -   0.0s\n",
      "[CV] gamma=0.0001, learning_rate=0.1, max_depth=5 ....................\n",
      "[CV]  gamma=0.0001, learning_rate=0.1, max_depth=5, score=-12.169985 -   0.0s\n",
      "[CV] gamma=0.0001, learning_rate=0.1, max_depth=6 ....................\n",
      "[CV]  gamma=0.0001, learning_rate=0.1, max_depth=6, score=-28.780444 -   0.1s\n",
      "[CV] gamma=0.0001, learning_rate=0.1, max_depth=6 ....................\n"
     ]
    },
    {
     "name": "stdout",
     "output_type": "stream",
     "text": [
      "[CV]  gamma=0.0001, learning_rate=0.1, max_depth=6, score=-13.853304 -   0.1s\n",
      "[CV] gamma=0.0001, learning_rate=0.1, max_depth=6 ....................\n",
      "[CV]  gamma=0.0001, learning_rate=0.1, max_depth=6, score=-12.441017 -   0.0s\n",
      "[CV] gamma=0.0001, learning_rate=0.1, max_depth=7 ....................\n",
      "[CV]  gamma=0.0001, learning_rate=0.1, max_depth=7, score=-27.109784 -   0.1s\n",
      "[CV] gamma=0.0001, learning_rate=0.1, max_depth=7 ....................\n",
      "[CV]  gamma=0.0001, learning_rate=0.1, max_depth=7, score=-13.814867 -   0.1s\n",
      "[CV] gamma=0.0001, learning_rate=0.1, max_depth=7 ....................\n",
      "[CV]  gamma=0.0001, learning_rate=0.1, max_depth=7, score=-12.778340 -   0.1s\n",
      "[CV] gamma=0.0001, learning_rate=0.01, max_depth=3 ...................\n",
      "[CV]  gamma=0.0001, learning_rate=0.01, max_depth=3, score=-110.494242 -   0.0s\n",
      "[CV] gamma=0.0001, learning_rate=0.01, max_depth=3 ...................\n",
      "[CV]  gamma=0.0001, learning_rate=0.01, max_depth=3, score=-107.442951 -   0.0s\n",
      "[CV] gamma=0.0001, learning_rate=0.01, max_depth=3 ...................\n",
      "[CV]  gamma=0.0001, learning_rate=0.01, max_depth=3, score=-108.382018 -   0.0s\n",
      "[CV] gamma=0.0001, learning_rate=0.01, max_depth=4 ...................\n",
      "[CV]  gamma=0.0001, learning_rate=0.01, max_depth=4, score=-110.682525 -   0.0s\n",
      "[CV] gamma=0.0001, learning_rate=0.01, max_depth=4 ...................\n",
      "[CV]  gamma=0.0001, learning_rate=0.01, max_depth=4, score=-109.717766 -   0.0s\n",
      "[CV] gamma=0.0001, learning_rate=0.01, max_depth=4 ...................\n",
      "[CV]  gamma=0.0001, learning_rate=0.01, max_depth=4, score=-106.962966 -   0.0s\n",
      "[CV] gamma=0.0001, learning_rate=0.01, max_depth=5 ...................\n",
      "[CV]  gamma=0.0001, learning_rate=0.01, max_depth=5, score=-111.130606 -   0.0s\n",
      "[CV] gamma=0.0001, learning_rate=0.01, max_depth=5 ...................\n",
      "[CV]  gamma=0.0001, learning_rate=0.01, max_depth=5, score=-110.743613 -   0.0s\n",
      "[CV] gamma=0.0001, learning_rate=0.01, max_depth=5 ...................\n",
      "[CV]  gamma=0.0001, learning_rate=0.01, max_depth=5, score=-106.936871 -   0.0s\n",
      "[CV] gamma=0.0001, learning_rate=0.01, max_depth=6 ...................\n",
      "[CV]  gamma=0.0001, learning_rate=0.01, max_depth=6, score=-110.927381 -   0.0s\n",
      "[CV] gamma=0.0001, learning_rate=0.01, max_depth=6 ...................\n",
      "[CV]  gamma=0.0001, learning_rate=0.01, max_depth=6, score=-110.511970 -   0.0s\n",
      "[CV] gamma=0.0001, learning_rate=0.01, max_depth=6 ...................\n",
      "[CV]  gamma=0.0001, learning_rate=0.01, max_depth=6, score=-106.884776 -   0.0s\n",
      "[CV] gamma=0.0001, learning_rate=0.01, max_depth=7 ...................\n",
      "[CV]  gamma=0.0001, learning_rate=0.01, max_depth=7, score=-110.930100 -   0.0s\n",
      "[CV] gamma=0.0001, learning_rate=0.01, max_depth=7 ...................\n",
      "[CV]  gamma=0.0001, learning_rate=0.01, max_depth=7, score=-110.511970 -   0.0s\n",
      "[CV] gamma=0.0001, learning_rate=0.01, max_depth=7 ...................\n",
      "[CV]  gamma=0.0001, learning_rate=0.01, max_depth=7, score=-106.885555 -   0.0s\n",
      "[CV] gamma=0.0001, learning_rate=0.001, max_depth=3 ..................\n",
      "[CV]  gamma=0.0001, learning_rate=0.001, max_depth=3, score=-461.835833 -   0.0s\n",
      "[CV] gamma=0.0001, learning_rate=0.001, max_depth=3 ..................\n",
      "[CV]  gamma=0.0001, learning_rate=0.001, max_depth=3, score=-511.931875 -   0.0s\n",
      "[CV] gamma=0.0001, learning_rate=0.001, max_depth=3 ..................\n",
      "[CV]  gamma=0.0001, learning_rate=0.001, max_depth=3, score=-504.929989 -   0.0s\n",
      "[CV] gamma=0.0001, learning_rate=0.001, max_depth=4 ..................\n",
      "[CV]  gamma=0.0001, learning_rate=0.001, max_depth=4, score=-461.725251 -   0.0s\n",
      "[CV] gamma=0.0001, learning_rate=0.001, max_depth=4 ..................\n",
      "[CV]  gamma=0.0001, learning_rate=0.001, max_depth=4, score=-511.966047 -   0.0s\n",
      "[CV] gamma=0.0001, learning_rate=0.001, max_depth=4 ..................\n",
      "[CV]  gamma=0.0001, learning_rate=0.001, max_depth=4, score=-504.622941 -   0.0s\n",
      "[CV] gamma=0.0001, learning_rate=0.001, max_depth=5 ..................\n",
      "[CV]  gamma=0.0001, learning_rate=0.001, max_depth=5, score=-461.725251 -   0.0s\n",
      "[CV] gamma=0.0001, learning_rate=0.001, max_depth=5 ..................\n",
      "[CV]  gamma=0.0001, learning_rate=0.001, max_depth=5, score=-512.152197 -   0.0s\n",
      "[CV] gamma=0.0001, learning_rate=0.001, max_depth=5 ..................\n",
      "[CV]  gamma=0.0001, learning_rate=0.001, max_depth=5, score=-504.622941 -   0.0s\n",
      "[CV] gamma=0.0001, learning_rate=0.001, max_depth=6 ..................\n",
      "[CV]  gamma=0.0001, learning_rate=0.001, max_depth=6, score=-461.725251 -   0.0s\n",
      "[CV] gamma=0.0001, learning_rate=0.001, max_depth=6 ..................\n",
      "[CV]  gamma=0.0001, learning_rate=0.001, max_depth=6, score=-512.152197 -   0.0s\n",
      "[CV] gamma=0.0001, learning_rate=0.001, max_depth=6 ..................\n",
      "[CV]  gamma=0.0001, learning_rate=0.001, max_depth=6, score=-504.622941 -   0.0s\n",
      "[CV] gamma=0.0001, learning_rate=0.001, max_depth=7 ..................\n",
      "[CV]  gamma=0.0001, learning_rate=0.001, max_depth=7, score=-461.725251 -   0.0s\n",
      "[CV] gamma=0.0001, learning_rate=0.001, max_depth=7 ..................\n",
      "[CV]  gamma=0.0001, learning_rate=0.001, max_depth=7, score=-512.152197 -   0.0s\n",
      "[CV] gamma=0.0001, learning_rate=0.001, max_depth=7 ..................\n",
      "[CV]  gamma=0.0001, learning_rate=0.001, max_depth=7, score=-504.622941 -   0.0s\n"
     ]
    },
    {
     "name": "stderr",
     "output_type": "stream",
     "text": [
      "[Parallel(n_jobs=1)]: Done 270 out of 270 | elapsed:   11.0s finished\n"
     ]
    },
    {
     "data": {
      "text/plain": [
       "GridSearchCV(cv=None, error_score='raise',\n",
       "       estimator=XGBRegressor(base_score=0.5, booster='gbtree', colsample_bylevel=1,\n",
       "       colsample_bytree=1, gamma=0, learning_rate=0.1, max_delta_step=0,\n",
       "       max_depth=3, min_child_weight=1, missing=None, n_estimators=100,\n",
       "       n_jobs=1, nthread=None, objective='reg:linear', random_state=0,\n",
       "       reg_alpha=0, reg_lambda=1, scale_pos_weight=1, seed=None,\n",
       "       silent=True, subsample=1),\n",
       "       fit_params={}, iid=True, n_jobs=1,\n",
       "       param_grid={'gamma': [1, 0, 0.1, 0.01, 0.001, 0.0001], 'learning_rate': [0.1, 0.01, 0.001], 'max_depth': [3, 4, 5, 6, 7]},\n",
       "       pre_dispatch='2*n_jobs', refit=True,\n",
       "       scoring='neg_mean_squared_error', verbose=3)"
      ]
     },
     "execution_count": 56,
     "metadata": {},
     "output_type": "execute_result"
    }
   ],
   "source": [
    "xgb_grid.fit(x_train,y_train)"
   ]
  },
  {
   "cell_type": "code",
   "execution_count": 57,
   "metadata": {
    "collapsed": true
   },
   "outputs": [],
   "source": [
    "yp = xgb_grid.predict(x_test)"
   ]
  },
  {
   "cell_type": "code",
   "execution_count": 59,
   "metadata": {},
   "outputs": [
    {
     "data": {
      "text/plain": [
       "10.861463225433722"
      ]
     },
     "execution_count": 59,
     "metadata": {},
     "output_type": "execute_result"
    }
   ],
   "source": [
    "mean_squared_error(y_test,yp)"
   ]
  },
  {
   "cell_type": "code",
   "execution_count": 60,
   "metadata": {},
   "outputs": [
    {
     "data": {
      "text/plain": [
       "{'gamma': 0.1, 'learning_rate': 0.1, 'max_depth': 4}"
      ]
     },
     "execution_count": 60,
     "metadata": {},
     "output_type": "execute_result"
    }
   ],
   "source": [
    "xgb_grid.best_params_"
   ]
  },
  {
   "cell_type": "code",
   "execution_count": 61,
   "metadata": {},
   "outputs": [
    {
     "data": {
      "text/plain": [
       "XGBRegressor(base_score=0.5, booster='gbtree', colsample_bylevel=1,\n",
       "       colsample_bytree=1, gamma=0.1, learning_rate=0.1, max_delta_step=0,\n",
       "       max_depth=4, min_child_weight=1, missing=None, n_estimators=100,\n",
       "       n_jobs=1, nthread=None, objective='reg:linear', random_state=0,\n",
       "       reg_alpha=0, reg_lambda=1, scale_pos_weight=1, seed=None,\n",
       "       silent=True, subsample=1)"
      ]
     },
     "execution_count": 61,
     "metadata": {},
     "output_type": "execute_result"
    }
   ],
   "source": [
    "xgb_grid.best_estimator_"
   ]
  },
  {
   "cell_type": "code",
   "execution_count": null,
   "metadata": {
    "collapsed": true
   },
   "outputs": [],
   "source": []
  }
 ],
 "metadata": {
  "kernelspec": {
   "display_name": "Python 3",
   "language": "python",
   "name": "python3"
  },
  "language_info": {
   "codemirror_mode": {
    "name": "ipython",
    "version": 3
   },
   "file_extension": ".py",
   "mimetype": "text/x-python",
   "name": "python",
   "nbconvert_exporter": "python",
   "pygments_lexer": "ipython3",
   "version": "3.6.5"
  }
 },
 "nbformat": 4,
 "nbformat_minor": 2
}
